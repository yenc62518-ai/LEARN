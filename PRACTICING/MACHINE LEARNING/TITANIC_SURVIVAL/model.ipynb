{
 "cells": [
  {
   "cell_type": "code",
   "execution_count": 1,
   "id": "9c9cfee9",
   "metadata": {},
   "outputs": [],
   "source": [
    "import pandas as pd\n",
    "import numpy as np"
   ]
  },
  {
   "cell_type": "markdown",
   "id": "c4af8fe7",
   "metadata": {},
   "source": [
    "IMPORT DATASET\n"
   ]
  },
  {
   "cell_type": "code",
   "execution_count": 2,
   "id": "c93b0ec7",
   "metadata": {},
   "outputs": [
    {
     "name": "stderr",
     "output_type": "stream",
     "text": [
      "C:\\Users\\MSI VN\\AppData\\Local\\Temp\\ipykernel_21172\\1081518529.py:2: FutureWarning: Downcasting behavior in `replace` is deprecated and will be removed in a future version. To retain the old behavior, explicitly call `result.infer_objects(copy=False)`. To opt-in to the future behavior, set `pd.set_option('future.no_silent_downcasting', True)`\n",
      "  data['Sex'] = data['Sex'].replace({'male':1, 'female':0})\n"
     ]
    },
    {
     "data": {
      "application/vnd.microsoft.datawrangler.viewer.v0+json": {
       "columns": [
        {
         "name": "index",
         "rawType": "object",
         "type": "string"
        },
        {
         "name": "Survived",
         "rawType": "float64",
         "type": "float"
        }
       ],
       "ref": "a9251af1-e2cf-4d2d-874e-dc7af5006d07",
       "rows": [
        [
         "Survived",
         "1.0"
        ],
        [
         "Pclass",
         "0.33848103596101514"
        ],
        [
         "Sex",
         "0.543351380657755"
        ],
        [
         "Age",
         "0.07722109457217756"
        ],
        [
         "SibSp",
         "0.035322498885735576"
        ],
        [
         "Parch",
         "0.08162940708348335"
        ],
        [
         "Fare",
         "0.2573065223849626"
        ]
       ],
       "shape": {
        "columns": 1,
        "rows": 7
       }
      },
      "text/html": [
       "<div>\n",
       "<style scoped>\n",
       "    .dataframe tbody tr th:only-of-type {\n",
       "        vertical-align: middle;\n",
       "    }\n",
       "\n",
       "    .dataframe tbody tr th {\n",
       "        vertical-align: top;\n",
       "    }\n",
       "\n",
       "    .dataframe thead th {\n",
       "        text-align: right;\n",
       "    }\n",
       "</style>\n",
       "<table border=\"1\" class=\"dataframe\">\n",
       "  <thead>\n",
       "    <tr style=\"text-align: right;\">\n",
       "      <th></th>\n",
       "      <th>Survived</th>\n",
       "    </tr>\n",
       "  </thead>\n",
       "  <tbody>\n",
       "    <tr>\n",
       "      <th>Survived</th>\n",
       "      <td>1.000000</td>\n",
       "    </tr>\n",
       "    <tr>\n",
       "      <th>Pclass</th>\n",
       "      <td>0.338481</td>\n",
       "    </tr>\n",
       "    <tr>\n",
       "      <th>Sex</th>\n",
       "      <td>0.543351</td>\n",
       "    </tr>\n",
       "    <tr>\n",
       "      <th>Age</th>\n",
       "      <td>0.077221</td>\n",
       "    </tr>\n",
       "    <tr>\n",
       "      <th>SibSp</th>\n",
       "      <td>0.035322</td>\n",
       "    </tr>\n",
       "    <tr>\n",
       "      <th>Parch</th>\n",
       "      <td>0.081629</td>\n",
       "    </tr>\n",
       "    <tr>\n",
       "      <th>Fare</th>\n",
       "      <td>0.257307</td>\n",
       "    </tr>\n",
       "  </tbody>\n",
       "</table>\n",
       "</div>"
      ],
      "text/plain": [
       "          Survived\n",
       "Survived  1.000000\n",
       "Pclass    0.338481\n",
       "Sex       0.543351\n",
       "Age       0.077221\n",
       "SibSp     0.035322\n",
       "Parch     0.081629\n",
       "Fare      0.257307"
      ]
     },
     "execution_count": 2,
     "metadata": {},
     "output_type": "execute_result"
    }
   ],
   "source": [
    "data = pd.read_csv(\"./train.csv\", index_col='PassengerId')\n",
    "data['Sex'] = data['Sex'].replace({'male':1, 'female':0})\n",
    "data.corr(numeric_only=True).abs()[['Survived']]"
   ]
  },
  {
   "cell_type": "code",
   "execution_count": 26,
   "id": "143fb68d",
   "metadata": {},
   "outputs": [],
   "source": [
    "s = data.select_dtypes(include = ['object'])"
   ]
  },
  {
   "cell_type": "code",
   "execution_count": 28,
   "id": "f542b716",
   "metadata": {},
   "outputs": [
    {
     "data": {
      "application/vnd.microsoft.datawrangler.viewer.v0+json": {
       "columns": [
        {
         "name": "PassengerId",
         "rawType": "int64",
         "type": "integer"
        },
        {
         "name": "Name",
         "rawType": "object",
         "type": "string"
        },
        {
         "name": "Ticket",
         "rawType": "object",
         "type": "string"
        },
        {
         "name": "Cabin",
         "rawType": "object",
         "type": "string"
        },
        {
         "name": "Embarked",
         "rawType": "object",
         "type": "unknown"
        }
       ],
       "ref": "4ec2a258-4e10-439c-913e-11fc8a5c2076",
       "rows": [
        [
         "1",
         "Braund, Mr. Owen Harris",
         "A/5 21171",
         "U",
         "S"
        ],
        [
         "2",
         "Cumings, Mrs. John Bradley (Florence Briggs Thayer)",
         "PC 17599",
         "C",
         "C"
        ],
        [
         "3",
         "Heikkinen, Miss. Laina",
         "STON/O2. 3101282",
         "U",
         "S"
        ],
        [
         "4",
         "Futrelle, Mrs. Jacques Heath (Lily May Peel)",
         "113803",
         "C",
         "S"
        ],
        [
         "5",
         "Allen, Mr. William Henry",
         "373450",
         "U",
         "S"
        ],
        [
         "6",
         "Moran, Mr. James",
         "330877",
         "U",
         "Q"
        ],
        [
         "7",
         "McCarthy, Mr. Timothy J",
         "17463",
         "E",
         "S"
        ],
        [
         "8",
         "Palsson, Master. Gosta Leonard",
         "349909",
         "U",
         "S"
        ],
        [
         "9",
         "Johnson, Mrs. Oscar W (Elisabeth Vilhelmina Berg)",
         "347742",
         "U",
         "S"
        ],
        [
         "10",
         "Nasser, Mrs. Nicholas (Adele Achem)",
         "237736",
         "U",
         "C"
        ],
        [
         "11",
         "Sandstrom, Miss. Marguerite Rut",
         "PP 9549",
         "G",
         "S"
        ],
        [
         "12",
         "Bonnell, Miss. Elizabeth",
         "113783",
         "C",
         "S"
        ],
        [
         "13",
         "Saundercock, Mr. William Henry",
         "A/5. 2151",
         "U",
         "S"
        ],
        [
         "14",
         "Andersson, Mr. Anders Johan",
         "347082",
         "U",
         "S"
        ],
        [
         "15",
         "Vestrom, Miss. Hulda Amanda Adolfina",
         "350406",
         "U",
         "S"
        ],
        [
         "16",
         "Hewlett, Mrs. (Mary D Kingcome) ",
         "248706",
         "U",
         "S"
        ],
        [
         "17",
         "Rice, Master. Eugene",
         "382652",
         "U",
         "Q"
        ],
        [
         "18",
         "Williams, Mr. Charles Eugene",
         "244373",
         "U",
         "S"
        ],
        [
         "19",
         "Vander Planke, Mrs. Julius (Emelia Maria Vandemoortele)",
         "345763",
         "U",
         "S"
        ],
        [
         "20",
         "Masselmani, Mrs. Fatima",
         "2649",
         "U",
         "C"
        ],
        [
         "21",
         "Fynney, Mr. Joseph J",
         "239865",
         "U",
         "S"
        ],
        [
         "22",
         "Beesley, Mr. Lawrence",
         "248698",
         "D",
         "S"
        ],
        [
         "23",
         "McGowan, Miss. Anna \"Annie\"",
         "330923",
         "U",
         "Q"
        ],
        [
         "24",
         "Sloper, Mr. William Thompson",
         "113788",
         "A",
         "S"
        ],
        [
         "25",
         "Palsson, Miss. Torborg Danira",
         "349909",
         "U",
         "S"
        ],
        [
         "26",
         "Asplund, Mrs. Carl Oscar (Selma Augusta Emilia Johansson)",
         "347077",
         "U",
         "S"
        ],
        [
         "27",
         "Emir, Mr. Farred Chehab",
         "2631",
         "U",
         "C"
        ],
        [
         "28",
         "Fortune, Mr. Charles Alexander",
         "19950",
         "C",
         "S"
        ],
        [
         "29",
         "O'Dwyer, Miss. Ellen \"Nellie\"",
         "330959",
         "U",
         "Q"
        ],
        [
         "30",
         "Todoroff, Mr. Lalio",
         "349216",
         "U",
         "S"
        ],
        [
         "31",
         "Uruchurtu, Don. Manuel E",
         "PC 17601",
         "U",
         "C"
        ],
        [
         "32",
         "Spencer, Mrs. William Augustus (Marie Eugenie)",
         "PC 17569",
         "B",
         "C"
        ],
        [
         "33",
         "Glynn, Miss. Mary Agatha",
         "335677",
         "U",
         "Q"
        ],
        [
         "34",
         "Wheadon, Mr. Edward H",
         "C.A. 24579",
         "U",
         "S"
        ],
        [
         "35",
         "Meyer, Mr. Edgar Joseph",
         "PC 17604",
         "U",
         "C"
        ],
        [
         "36",
         "Holverson, Mr. Alexander Oskar",
         "113789",
         "U",
         "S"
        ],
        [
         "37",
         "Mamee, Mr. Hanna",
         "2677",
         "U",
         "C"
        ],
        [
         "38",
         "Cann, Mr. Ernest Charles",
         "A./5. 2152",
         "U",
         "S"
        ],
        [
         "39",
         "Vander Planke, Miss. Augusta Maria",
         "345764",
         "U",
         "S"
        ],
        [
         "40",
         "Nicola-Yarred, Miss. Jamila",
         "2651",
         "U",
         "C"
        ],
        [
         "41",
         "Ahlin, Mrs. Johan (Johanna Persdotter Larsson)",
         "7546",
         "U",
         "S"
        ],
        [
         "42",
         "Turpin, Mrs. William John Robert (Dorothy Ann Wonnacott)",
         "11668",
         "U",
         "S"
        ],
        [
         "43",
         "Kraeff, Mr. Theodor",
         "349253",
         "U",
         "C"
        ],
        [
         "44",
         "Laroche, Miss. Simonne Marie Anne Andree",
         "SC/Paris 2123",
         "U",
         "C"
        ],
        [
         "45",
         "Devaney, Miss. Margaret Delia",
         "330958",
         "U",
         "Q"
        ],
        [
         "46",
         "Rogers, Mr. William John",
         "S.C./A.4. 23567",
         "U",
         "S"
        ],
        [
         "47",
         "Lennon, Mr. Denis",
         "370371",
         "U",
         "Q"
        ],
        [
         "48",
         "O'Driscoll, Miss. Bridget",
         "14311",
         "U",
         "Q"
        ],
        [
         "49",
         "Samaan, Mr. Youssef",
         "2662",
         "U",
         "C"
        ],
        [
         "50",
         "Arnold-Franchi, Mrs. Josef (Josefine Franchi)",
         "349237",
         "U",
         "S"
        ]
       ],
       "shape": {
        "columns": 4,
        "rows": 891
       }
      },
      "text/html": [
       "<div>\n",
       "<style scoped>\n",
       "    .dataframe tbody tr th:only-of-type {\n",
       "        vertical-align: middle;\n",
       "    }\n",
       "\n",
       "    .dataframe tbody tr th {\n",
       "        vertical-align: top;\n",
       "    }\n",
       "\n",
       "    .dataframe thead th {\n",
       "        text-align: right;\n",
       "    }\n",
       "</style>\n",
       "<table border=\"1\" class=\"dataframe\">\n",
       "  <thead>\n",
       "    <tr style=\"text-align: right;\">\n",
       "      <th></th>\n",
       "      <th>Name</th>\n",
       "      <th>Ticket</th>\n",
       "      <th>Cabin</th>\n",
       "      <th>Embarked</th>\n",
       "    </tr>\n",
       "    <tr>\n",
       "      <th>PassengerId</th>\n",
       "      <th></th>\n",
       "      <th></th>\n",
       "      <th></th>\n",
       "      <th></th>\n",
       "    </tr>\n",
       "  </thead>\n",
       "  <tbody>\n",
       "    <tr>\n",
       "      <th>1</th>\n",
       "      <td>Braund, Mr. Owen Harris</td>\n",
       "      <td>A/5 21171</td>\n",
       "      <td>U</td>\n",
       "      <td>S</td>\n",
       "    </tr>\n",
       "    <tr>\n",
       "      <th>2</th>\n",
       "      <td>Cumings, Mrs. John Bradley (Florence Briggs Th...</td>\n",
       "      <td>PC 17599</td>\n",
       "      <td>C</td>\n",
       "      <td>C</td>\n",
       "    </tr>\n",
       "    <tr>\n",
       "      <th>3</th>\n",
       "      <td>Heikkinen, Miss. Laina</td>\n",
       "      <td>STON/O2. 3101282</td>\n",
       "      <td>U</td>\n",
       "      <td>S</td>\n",
       "    </tr>\n",
       "    <tr>\n",
       "      <th>4</th>\n",
       "      <td>Futrelle, Mrs. Jacques Heath (Lily May Peel)</td>\n",
       "      <td>113803</td>\n",
       "      <td>C</td>\n",
       "      <td>S</td>\n",
       "    </tr>\n",
       "    <tr>\n",
       "      <th>5</th>\n",
       "      <td>Allen, Mr. William Henry</td>\n",
       "      <td>373450</td>\n",
       "      <td>U</td>\n",
       "      <td>S</td>\n",
       "    </tr>\n",
       "    <tr>\n",
       "      <th>...</th>\n",
       "      <td>...</td>\n",
       "      <td>...</td>\n",
       "      <td>...</td>\n",
       "      <td>...</td>\n",
       "    </tr>\n",
       "    <tr>\n",
       "      <th>887</th>\n",
       "      <td>Montvila, Rev. Juozas</td>\n",
       "      <td>211536</td>\n",
       "      <td>U</td>\n",
       "      <td>S</td>\n",
       "    </tr>\n",
       "    <tr>\n",
       "      <th>888</th>\n",
       "      <td>Graham, Miss. Margaret Edith</td>\n",
       "      <td>112053</td>\n",
       "      <td>B</td>\n",
       "      <td>S</td>\n",
       "    </tr>\n",
       "    <tr>\n",
       "      <th>889</th>\n",
       "      <td>Johnston, Miss. Catherine Helen \"Carrie\"</td>\n",
       "      <td>W./C. 6607</td>\n",
       "      <td>U</td>\n",
       "      <td>S</td>\n",
       "    </tr>\n",
       "    <tr>\n",
       "      <th>890</th>\n",
       "      <td>Behr, Mr. Karl Howell</td>\n",
       "      <td>111369</td>\n",
       "      <td>C</td>\n",
       "      <td>C</td>\n",
       "    </tr>\n",
       "    <tr>\n",
       "      <th>891</th>\n",
       "      <td>Dooley, Mr. Patrick</td>\n",
       "      <td>370376</td>\n",
       "      <td>U</td>\n",
       "      <td>Q</td>\n",
       "    </tr>\n",
       "  </tbody>\n",
       "</table>\n",
       "<p>891 rows × 4 columns</p>\n",
       "</div>"
      ],
      "text/plain": [
       "                                                          Name  \\\n",
       "PassengerId                                                      \n",
       "1                                      Braund, Mr. Owen Harris   \n",
       "2            Cumings, Mrs. John Bradley (Florence Briggs Th...   \n",
       "3                                       Heikkinen, Miss. Laina   \n",
       "4                 Futrelle, Mrs. Jacques Heath (Lily May Peel)   \n",
       "5                                     Allen, Mr. William Henry   \n",
       "...                                                        ...   \n",
       "887                                      Montvila, Rev. Juozas   \n",
       "888                               Graham, Miss. Margaret Edith   \n",
       "889                   Johnston, Miss. Catherine Helen \"Carrie\"   \n",
       "890                                      Behr, Mr. Karl Howell   \n",
       "891                                        Dooley, Mr. Patrick   \n",
       "\n",
       "                       Ticket Cabin Embarked  \n",
       "PassengerId                                   \n",
       "1                   A/5 21171     U        S  \n",
       "2                    PC 17599     C        C  \n",
       "3            STON/O2. 3101282     U        S  \n",
       "4                      113803     C        S  \n",
       "5                      373450     U        S  \n",
       "...                       ...   ...      ...  \n",
       "887                    211536     U        S  \n",
       "888                    112053     B        S  \n",
       "889                W./C. 6607     U        S  \n",
       "890                    111369     C        C  \n",
       "891                    370376     U        Q  \n",
       "\n",
       "[891 rows x 4 columns]"
      ]
     },
     "execution_count": 28,
     "metadata": {},
     "output_type": "execute_result"
    }
   ],
   "source": [
    "s"
   ]
  },
  {
   "cell_type": "code",
   "execution_count": 3,
   "id": "70b29b02",
   "metadata": {},
   "outputs": [
    {
     "data": {
      "text/plain": [
       "147"
      ]
     },
     "execution_count": 3,
     "metadata": {},
     "output_type": "execute_result"
    }
   ],
   "source": [
    "data['Cabin'].nunique()"
   ]
  },
  {
   "cell_type": "code",
   "execution_count": 4,
   "id": "5191e0b3",
   "metadata": {},
   "outputs": [],
   "source": [
    "features = ['Pclass', 'Sex', 'Age', 'SibSp','Cabin','Fare', 'Embarked']"
   ]
  },
  {
   "cell_type": "markdown",
   "id": "fe57e07b",
   "metadata": {},
   "source": [
    "PROCESSING FARE AND CABIN "
   ]
  },
  {
   "cell_type": "code",
   "execution_count": 5,
   "id": "3f188c21",
   "metadata": {},
   "outputs": [
    {
     "data": {
      "application/vnd.microsoft.datawrangler.viewer.v0+json": {
       "columns": [
        {
         "name": "PassengerId",
         "rawType": "int64",
         "type": "integer"
        },
        {
         "name": "Pclass",
         "rawType": "int64",
         "type": "integer"
        },
        {
         "name": "Sex",
         "rawType": "int64",
         "type": "integer"
        },
        {
         "name": "Age",
         "rawType": "float64",
         "type": "float"
        },
        {
         "name": "SibSp",
         "rawType": "int64",
         "type": "integer"
        },
        {
         "name": "Cabin",
         "rawType": "object",
         "type": "string"
        },
        {
         "name": "Fare",
         "rawType": "float64",
         "type": "float"
        },
        {
         "name": "Embarked",
         "rawType": "object",
         "type": "string"
        }
       ],
       "ref": "efeef686-fc93-46e2-b2fe-858707fa979e",
       "rows": [
        [
         "1",
         "3",
         "1",
         "22.0",
         "1",
         "U",
         "2.1102132003465894",
         "S"
        ],
        [
         "2",
         "1",
         "0",
         "38.0",
         "1",
         "C",
         "4.2805931204649",
         "C"
        ],
        [
         "3",
         "3",
         "0",
         "26.0",
         "0",
         "U",
         "2.188856327665703",
         "S"
        ],
        [
         "4",
         "1",
         "0",
         "35.0",
         "1",
         "C",
         "3.9908341858524357",
         "S"
        ],
        [
         "5",
         "3",
         "1",
         "35.0",
         "0",
         "U",
         "2.2027647577118348",
         "S"
        ]
       ],
       "shape": {
        "columns": 7,
        "rows": 5
       }
      },
      "text/html": [
       "<div>\n",
       "<style scoped>\n",
       "    .dataframe tbody tr th:only-of-type {\n",
       "        vertical-align: middle;\n",
       "    }\n",
       "\n",
       "    .dataframe tbody tr th {\n",
       "        vertical-align: top;\n",
       "    }\n",
       "\n",
       "    .dataframe thead th {\n",
       "        text-align: right;\n",
       "    }\n",
       "</style>\n",
       "<table border=\"1\" class=\"dataframe\">\n",
       "  <thead>\n",
       "    <tr style=\"text-align: right;\">\n",
       "      <th></th>\n",
       "      <th>Pclass</th>\n",
       "      <th>Sex</th>\n",
       "      <th>Age</th>\n",
       "      <th>SibSp</th>\n",
       "      <th>Cabin</th>\n",
       "      <th>Fare</th>\n",
       "      <th>Embarked</th>\n",
       "    </tr>\n",
       "    <tr>\n",
       "      <th>PassengerId</th>\n",
       "      <th></th>\n",
       "      <th></th>\n",
       "      <th></th>\n",
       "      <th></th>\n",
       "      <th></th>\n",
       "      <th></th>\n",
       "      <th></th>\n",
       "    </tr>\n",
       "  </thead>\n",
       "  <tbody>\n",
       "    <tr>\n",
       "      <th>1</th>\n",
       "      <td>3</td>\n",
       "      <td>1</td>\n",
       "      <td>22.0</td>\n",
       "      <td>1</td>\n",
       "      <td>U</td>\n",
       "      <td>2.110213</td>\n",
       "      <td>S</td>\n",
       "    </tr>\n",
       "    <tr>\n",
       "      <th>2</th>\n",
       "      <td>1</td>\n",
       "      <td>0</td>\n",
       "      <td>38.0</td>\n",
       "      <td>1</td>\n",
       "      <td>C</td>\n",
       "      <td>4.280593</td>\n",
       "      <td>C</td>\n",
       "    </tr>\n",
       "    <tr>\n",
       "      <th>3</th>\n",
       "      <td>3</td>\n",
       "      <td>0</td>\n",
       "      <td>26.0</td>\n",
       "      <td>0</td>\n",
       "      <td>U</td>\n",
       "      <td>2.188856</td>\n",
       "      <td>S</td>\n",
       "    </tr>\n",
       "    <tr>\n",
       "      <th>4</th>\n",
       "      <td>1</td>\n",
       "      <td>0</td>\n",
       "      <td>35.0</td>\n",
       "      <td>1</td>\n",
       "      <td>C</td>\n",
       "      <td>3.990834</td>\n",
       "      <td>S</td>\n",
       "    </tr>\n",
       "    <tr>\n",
       "      <th>5</th>\n",
       "      <td>3</td>\n",
       "      <td>1</td>\n",
       "      <td>35.0</td>\n",
       "      <td>0</td>\n",
       "      <td>U</td>\n",
       "      <td>2.202765</td>\n",
       "      <td>S</td>\n",
       "    </tr>\n",
       "  </tbody>\n",
       "</table>\n",
       "</div>"
      ],
      "text/plain": [
       "             Pclass  Sex   Age  SibSp Cabin      Fare Embarked\n",
       "PassengerId                                                   \n",
       "1                 3    1  22.0      1     U  2.110213        S\n",
       "2                 1    0  38.0      1     C  4.280593        C\n",
       "3                 3    0  26.0      0     U  2.188856        S\n",
       "4                 1    0  35.0      1     C  3.990834        S\n",
       "5                 3    1  35.0      0     U  2.202765        S"
      ]
     },
     "execution_count": 5,
     "metadata": {},
     "output_type": "execute_result"
    }
   ],
   "source": [
    "data['Fare'] = np.log1p(data['Fare'])\n",
    "data['Cabin'] = data['Cabin'].str[0].fillna(\"U\")\n",
    "data[['Cabin','Fare']].head()\n",
    "train_feature = data[features]\n",
    "train_feature.head()"
   ]
  },
  {
   "cell_type": "markdown",
   "id": "7cca14d2",
   "metadata": {},
   "source": [
    "PROCESSING EMBARKED AND SEX"
   ]
  },
  {
   "cell_type": "code",
   "execution_count": 6,
   "id": "1bd8860e",
   "metadata": {},
   "outputs": [
    {
     "name": "stderr",
     "output_type": "stream",
     "text": [
      "C:\\Users\\MSI VN\\AppData\\Local\\Temp\\ipykernel_21172\\2945137669.py:3: SettingWithCopyWarning: \n",
      "A value is trying to be set on a copy of a slice from a DataFrame.\n",
      "Try using .loc[row_indexer,col_indexer] = value instead\n",
      "\n",
      "See the caveats in the documentation: https://pandas.pydata.org/pandas-docs/stable/user_guide/indexing.html#returning-a-view-versus-a-copy\n",
      "  train_feature['Embarked'] = LE.fit_transform(train_feature['Embarked'])\n",
      "C:\\Users\\MSI VN\\AppData\\Local\\Temp\\ipykernel_21172\\2945137669.py:4: SettingWithCopyWarning: \n",
      "A value is trying to be set on a copy of a slice from a DataFrame.\n",
      "Try using .loc[row_indexer,col_indexer] = value instead\n",
      "\n",
      "See the caveats in the documentation: https://pandas.pydata.org/pandas-docs/stable/user_guide/indexing.html#returning-a-view-versus-a-copy\n",
      "  train_feature['Sex'] = LE.fit_transform(train_feature['Sex'])\n"
     ]
    }
   ],
   "source": [
    "from sklearn.preprocessing import LabelEncoder\n",
    "LE = LabelEncoder()\n",
    "train_feature['Embarked'] = LE.fit_transform(train_feature['Embarked'])\n",
    "train_feature['Sex'] = LE.fit_transform(train_feature['Sex'])\n"
   ]
  },
  {
   "cell_type": "markdown",
   "id": "6dc540f8",
   "metadata": {},
   "source": [
    "SPLIT TRAINING SET\n"
   ]
  },
  {
   "cell_type": "code",
   "execution_count": 7,
   "id": "79860b04",
   "metadata": {},
   "outputs": [],
   "source": [
    "from sklearn.model_selection import train_test_split\n",
    "x_train, x_test, y_train, y_test = train_test_split(train_feature, data['Survived'], train_size=0.8)"
   ]
  },
  {
   "cell_type": "markdown",
   "id": "dde189a1",
   "metadata": {},
   "source": [
    "PREPROCESSING : IMPUTING\n"
   ]
  },
  {
   "cell_type": "code",
   "execution_count": 8,
   "id": "ba73a697",
   "metadata": {},
   "outputs": [],
   "source": [
    "from sklearn.impute import SimpleImputer\n",
    "SI = SimpleImputer(strategy='mean')\n",
    "x_train['Age'] = SI.fit_transform(x_train[['Age']])\n",
    "x_test['Age'] = SI.transform(x_test[['Age']])"
   ]
  },
  {
   "cell_type": "markdown",
   "id": "f63c2df3",
   "metadata": {},
   "source": [
    "NHÓM TUỔI\n"
   ]
  },
  {
   "cell_type": "code",
   "execution_count": 9,
   "id": "3d7394c2",
   "metadata": {},
   "outputs": [],
   "source": [
    "x_train['Age'] = pd.cut(x_train['Age'], bins=[0,12,18,35,60,80], labels=[\"Child\",\"Teen\",\"YoungAdult\",\"Adult\",\"Senior\"])\n",
    "x_test['Age'] = pd.cut(x_test['Age'], bins=[0,12,18,35,60,80], labels=[\"Child\",\"Teen\",\"YoungAdult\",\"Adult\",\"Senior\"])"
   ]
  },
  {
   "cell_type": "code",
   "execution_count": 10,
   "id": "03566370",
   "metadata": {},
   "outputs": [
    {
     "data": {
      "text/plain": [
       "pandas.core.frame.DataFrame"
      ]
     },
     "execution_count": 10,
     "metadata": {},
     "output_type": "execute_result"
    }
   ],
   "source": [
    "type(x_train)"
   ]
  },
  {
   "cell_type": "markdown",
   "id": "00af18e8",
   "metadata": {},
   "source": [
    "ONEHOT CHO AGE, CABIN"
   ]
  },
  {
   "cell_type": "code",
   "execution_count": 11,
   "id": "f76c42a6",
   "metadata": {},
   "outputs": [],
   "source": [
    "from sklearn.compose import ColumnTransformer\n",
    "from sklearn.preprocessing import OneHotEncoder\n",
    "CT = ColumnTransformer(transformers = [('encode', OneHotEncoder(), ['Age','Cabin'])], remainder = 'passthrough')\n",
    "# Biến đổi\n",
    "train_transformed = CT.fit_transform(x_train)\n",
    "test_transformed = CT.transform(x_test)\n",
    "# Lấy tên cột mới\n",
    "new_cols = CT.get_feature_names_out()\n",
    "# Tạo lại DataFrame\n",
    "x_train = pd.DataFrame(train_transformed, columns=new_cols, index = x_train.index)\n",
    "x_test = pd.DataFrame(test_transformed, columns=new_cols, index = x_test.index)"
   ]
  },
  {
   "cell_type": "markdown",
   "id": "d2af4fd6",
   "metadata": {},
   "source": [
    "TRAINING MODEL\n"
   ]
  },
  {
   "cell_type": "code",
   "execution_count": 12,
   "id": "e37cbec0",
   "metadata": {},
   "outputs": [
    {
     "data": {
      "application/vnd.microsoft.datawrangler.viewer.v0+json": {
       "columns": [
        {
         "name": "PassengerId",
         "rawType": "int64",
         "type": "integer"
        },
        {
         "name": "Prediction",
         "rawType": "int64",
         "type": "integer"
        },
        {
         "name": "Reality",
         "rawType": "int64",
         "type": "integer"
        }
       ],
       "ref": "61ea8c07-a0e6-46e9-b97b-f3fb9514e7f7",
       "rows": [
        [
         "214",
         "0",
         "0"
        ],
        [
         "512",
         "0",
         "0"
        ],
        [
         "52",
         "0",
         "0"
        ],
        [
         "4",
         "1",
         "1"
        ],
        [
         "666",
         "0",
         "0"
        ]
       ],
       "shape": {
        "columns": 2,
        "rows": 5
       }
      },
      "text/html": [
       "<div>\n",
       "<style scoped>\n",
       "    .dataframe tbody tr th:only-of-type {\n",
       "        vertical-align: middle;\n",
       "    }\n",
       "\n",
       "    .dataframe tbody tr th {\n",
       "        vertical-align: top;\n",
       "    }\n",
       "\n",
       "    .dataframe thead th {\n",
       "        text-align: right;\n",
       "    }\n",
       "</style>\n",
       "<table border=\"1\" class=\"dataframe\">\n",
       "  <thead>\n",
       "    <tr style=\"text-align: right;\">\n",
       "      <th></th>\n",
       "      <th>Prediction</th>\n",
       "      <th>Reality</th>\n",
       "    </tr>\n",
       "    <tr>\n",
       "      <th>PassengerId</th>\n",
       "      <th></th>\n",
       "      <th></th>\n",
       "    </tr>\n",
       "  </thead>\n",
       "  <tbody>\n",
       "    <tr>\n",
       "      <th>214</th>\n",
       "      <td>0</td>\n",
       "      <td>0</td>\n",
       "    </tr>\n",
       "    <tr>\n",
       "      <th>512</th>\n",
       "      <td>0</td>\n",
       "      <td>0</td>\n",
       "    </tr>\n",
       "    <tr>\n",
       "      <th>52</th>\n",
       "      <td>0</td>\n",
       "      <td>0</td>\n",
       "    </tr>\n",
       "    <tr>\n",
       "      <th>4</th>\n",
       "      <td>1</td>\n",
       "      <td>1</td>\n",
       "    </tr>\n",
       "    <tr>\n",
       "      <th>666</th>\n",
       "      <td>0</td>\n",
       "      <td>0</td>\n",
       "    </tr>\n",
       "  </tbody>\n",
       "</table>\n",
       "</div>"
      ],
      "text/plain": [
       "             Prediction  Reality\n",
       "PassengerId                     \n",
       "214                   0        0\n",
       "512                   0        0\n",
       "52                    0        0\n",
       "4                     1        1\n",
       "666                   0        0"
      ]
     },
     "execution_count": 12,
     "metadata": {},
     "output_type": "execute_result"
    }
   ],
   "source": [
    "from sklearn.ensemble import RandomForestClassifier\n",
    "RFC = RandomForestClassifier()\n",
    "RFC.fit(x_train, y_train)\n",
    "y_pred = RFC.predict(x_test)\n",
    "result = pd.DataFrame({'Prediction' : y_pred,\n",
    "                       'Reality' : y_test})\n",
    "result.head()"
   ]
  },
  {
   "cell_type": "markdown",
   "id": "a2f70044",
   "metadata": {},
   "source": [
    "ACCURACY CHECKING "
   ]
  },
  {
   "cell_type": "code",
   "execution_count": 13,
   "id": "458d0d2a",
   "metadata": {},
   "outputs": [
    {
     "name": "stdout",
     "output_type": "stream",
     "text": [
      "tỉ lệ dự đoán kết quả sống chết của kĩ sư chuyên ngành tự động hóa phân nhánh quản lý dữ liệu thiết bị: 78.77094972067039%\n"
     ]
    }
   ],
   "source": [
    "from sklearn.metrics import accuracy_score \n",
    "acc = accuracy_score(y_test, y_pred)\n",
    "print(f'tỉ lệ dự đoán kết quả sống chết của kĩ sư chuyên ngành tự động hóa phân nhánh quản lý dữ liệu thiết bị: {acc*100}%')"
   ]
  },
  {
   "cell_type": "markdown",
   "id": "b607da2e",
   "metadata": {},
   "source": []
  }
 ],
 "metadata": {
  "kernelspec": {
   "display_name": "myenv",
   "language": "python",
   "name": "python3"
  },
  "language_info": {
   "codemirror_mode": {
    "name": "ipython",
    "version": 3
   },
   "file_extension": ".py",
   "mimetype": "text/x-python",
   "name": "python",
   "nbconvert_exporter": "python",
   "pygments_lexer": "ipython3",
   "version": "3.12.11"
  }
 },
 "nbformat": 4,
 "nbformat_minor": 5
}
