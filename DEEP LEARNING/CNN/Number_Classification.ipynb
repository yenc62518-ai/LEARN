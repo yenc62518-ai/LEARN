{
  "cells": [
    {
      "cell_type": "markdown",
      "metadata": {
        "colab_type": "text",
        "id": "view-in-github"
      },
      "source": [
        "<a href=\"https://colab.research.google.com/github/mrdbourke/pytorch-deep-learning/blob/main/extras/exercises/03_pytorch_computer_vision_exercises.ipynb\" target=\"_parent\"><img src=\"https://colab.research.google.com/assets/colab-badge.svg\" alt=\"Open In Colab\"/></a>"
      ]
    },
    {
      "cell_type": "markdown",
      "metadata": {
        "id": "Vex99np2wFVt"
      },
      "source": [
        "# 03. PyTorch Computer Vision Exercises\n",
        "\n",
        "The following is a collection of exercises based on computer vision fundamentals in PyTorch.\n",
        "\n",
        "They're a bunch of fun.\n",
        "\n",
        "You're going to get to write plenty of code!\n",
        "\n",
        "## Resources\n",
        "\n",
        "1. These exercises are based on [notebook 03 of the Learn PyTorch for Deep Learning course](https://www.learnpytorch.io/03_pytorch_computer_vision/). \n",
        "2. See a live [walkthrough of the solutions (errors and all) on YouTube](https://youtu.be/_PibmqpEyhA). \n",
        "  * **Note:** Going through these exercises took me just over 3 hours of solid coding, so you should expect around the same.\n",
        "3. See [other solutions on the course GitHub](https://github.com/mrdbourke/pytorch-deep-learning/tree/main/extras/solutions)."
      ]
    },
    {
      "cell_type": "code",
      "execution_count": 2,
      "metadata": {
        "colab": {
          "base_uri": "https://localhost:8080/"
        },
        "id": "GaeYzOTLwWh2",
        "outputId": "17dd5453-9639-4b01-aa18-7ddbfd5c3253"
      },
      "outputs": [
        {
          "name": "stdout",
          "output_type": "stream",
          "text": [
            "Thu Oct 23 07:27:24 2025       \n",
            "+-----------------------------------------------------------------------------------------+\n",
            "| NVIDIA-SMI 580.88                 Driver Version: 580.88         CUDA Version: 13.0     |\n",
            "+-----------------------------------------+------------------------+----------------------+\n",
            "| GPU  Name                  Driver-Model | Bus-Id          Disp.A | Volatile Uncorr. ECC |\n",
            "| Fan  Temp   Perf          Pwr:Usage/Cap |           Memory-Usage | GPU-Util  Compute M. |\n",
            "|                                         |                        |               MIG M. |\n",
            "|=========================================+========================+======================|\n",
            "|   0  NVIDIA GeForce RTX 3050 ...  WDDM  |   00000000:01:00.0 Off |                  N/A |\n",
            "| N/A   49C    P8              4W /   60W |     475MiB /   4096MiB |     69%      Default |\n",
            "|                                         |                        |                  N/A |\n",
            "+-----------------------------------------+------------------------+----------------------+\n",
            "\n",
            "+-----------------------------------------------------------------------------------------+\n",
            "| Processes:                                                                              |\n",
            "|  GPU   GI   CI              PID   Type   Process name                        GPU Memory |\n",
            "|        ID   ID                                                               Usage      |\n",
            "|=========================================================================================|\n",
            "|    0   N/A  N/A            1620    C+G   ...26wp6bftszj\\TranslucentTB.exe      N/A      |\n",
            "|    0   N/A  N/A            4068    C+G   ...64__8wekyb3d8bbwe\\Copilot.exe      N/A      |\n",
            "|    0   N/A  N/A           10112    C+G   ...\\plugins\\capture\\ZaloCall.exe      N/A      |\n",
            "|    0   N/A  N/A           10328    C+G   ...2txyewy\\CrossDeviceResume.exe      N/A      |\n",
            "|    0   N/A  N/A           10396    C+G   ...indows\\System32\\ShellHost.exe      N/A      |\n",
            "|    0   N/A  N/A           12376    C+G   ...Toys\\PowerToys.FancyZones.exe      N/A      |\n",
            "|    0   N/A  N/A           12528    C+G   ...s\\PowerToys.ColorPickerUI.exe      N/A      |\n",
            "|    0   N/A  N/A           12548    C+G   ...launcher\\AdskAccessUIHost.exe      N/A      |\n",
            "|    0   N/A  N/A           13796    C+G   ..._cw5n1h2txyewy\\SearchHost.exe      N/A      |\n",
            "|    0   N/A  N/A           13804    C+G   ...y\\StartMenuExperienceHost.exe      N/A      |\n",
            "|    0   N/A  N/A           14140    C+G   ...8bbwe\\Microsoft.CmdPal.UI.exe      N/A      |\n",
            "|    0   N/A  N/A           15400    C+G   ...UI3Apps\\PowerToys.Peek.UI.exe      N/A      |\n",
            "|    0   N/A  N/A           16456    C+G   ....0.3537.92\\msedgewebview2.exe      N/A      |\n",
            "|    0   N/A  N/A           16852    C+G   ...s\\PowerToys.PowerLauncher.exe      N/A      |\n",
            "|    0   N/A  N/A           17460    C+G   ....2_x64__ttt1ap7aakyb4\\Arc.exe      N/A      |\n",
            "|    0   N/A  N/A           17644    C+G   ...5n1h2txyewy\\TextInputHost.exe      N/A      |\n",
            "|    0   N/A  N/A           18276    C+G   ....2_x64__ttt1ap7aakyb4\\Arc.exe      N/A      |\n",
            "|    0   N/A  N/A           21312    C+G   D:\\Microsoft VS Code\\Code.exe         N/A      |\n",
            "|    0   N/A  N/A           21532    C+G   ...8bbwe\\PhoneExperienceHost.exe      N/A      |\n",
            "|    0   N/A  N/A           24012    C+G   ...ams\\Zalo\\Zalo-25.8.3\\Zalo.exe      N/A      |\n",
            "+-----------------------------------------------------------------------------------------+\n"
          ]
        }
      ],
      "source": [
        "# Check for GPU\n",
        "!nvidia-smi"
      ]
    },
    {
      "cell_type": "code",
      "execution_count": 3,
      "metadata": {
        "colab": {
          "base_uri": "https://localhost:8080/",
          "height": 53
        },
        "id": "DNwZLMbCzJLk",
        "outputId": "9c150c50-a092-4f34-9d33-b45247fb080d"
      },
      "outputs": [
        {
          "name": "stdout",
          "output_type": "stream",
          "text": [
            "2.8.0+cu129\n"
          ]
        }
      ],
      "source": [
        "# Import torch\n",
        "import torch\n",
        "\n",
        "# Exercises require PyTorch > 1.10.0\n",
        "print(torch.__version__)\n",
        "device = torch.device(\"cuda:0\")\n",
        "# TODO: Setup device agnostic code\n"
      ]
    },
    {
      "cell_type": "markdown",
      "metadata": {
        "id": "FSFX7tc1w-en"
      },
      "source": [
        "## 1. What are 3 areas in industry where computer vision is currently being used?"
      ]
    },
    {
      "cell_type": "code",
      "execution_count": null,
      "metadata": {
        "id": "VyWRkvWGbCXj"
      },
      "outputs": [],
      "source": []
    },
    {
      "cell_type": "markdown",
      "metadata": {
        "id": "oBK-WI6YxDYa"
      },
      "source": [
        "## 2. Search \"what is overfitting in machine learning\" and write down a sentence about what you find. "
      ]
    },
    {
      "cell_type": "code",
      "execution_count": null,
      "metadata": {
        "id": "d1rxD6GObCqh"
      },
      "outputs": [],
      "source": []
    },
    {
      "cell_type": "markdown",
      "metadata": {
        "id": "XeYFEqw8xK26"
      },
      "source": [
        "## 3. Search \"ways to prevent overfitting in machine learning\", write down 3 of the things you find and a sentence about each. \n",
        "> **Note:** there are lots of these, so don't worry too much about all of them, just pick 3 and start with those."
      ]
    },
    {
      "cell_type": "code",
      "execution_count": null,
      "metadata": {
        "id": "ocvOdWKcbEKr"
      },
      "outputs": [],
      "source": []
    },
    {
      "cell_type": "markdown",
      "metadata": {
        "id": "DKdEEFEqxM-8"
      },
      "source": [
        "## 4. Spend 20-minutes reading and clicking through the [CNN Explainer website](https://poloclub.github.io/cnn-explainer/).\n",
        "\n",
        "* Upload your own example image using the \"upload\" button on the website and see what happens in each layer of a CNN as your image passes through it."
      ]
    },
    {
      "cell_type": "code",
      "execution_count": null,
      "metadata": {
        "id": "TqZaJIRMbFtS"
      },
      "outputs": [],
      "source": []
    },
    {
      "cell_type": "markdown",
      "metadata": {
        "id": "lvf-3pODxXYI"
      },
      "source": [
        "## 5. Load the [`torchvision.datasets.MNIST()`](https://pytorch.org/vision/stable/generated/torchvision.datasets.MNIST.html#torchvision.datasets.MNIST) train and test datasets."
      ]
    },
    {
      "cell_type": "code",
      "execution_count": 4,
      "metadata": {},
      "outputs": [],
      "source": [
        "import torch\n",
        "from torchvision import transforms"
      ]
    },
    {
      "cell_type": "code",
      "execution_count": 5,
      "metadata": {
        "id": "SHjeuN81bHza"
      },
      "outputs": [],
      "source": [
        "from torchvision.datasets import MNIST\n",
        "train_data = MNIST(root = '.',\n",
        "                   download=False,\n",
        "                   train = True,\n",
        "                   transform = transforms.ToTensor())\n",
        "test_data = MNIST(root = '.',\n",
        "                    download=False,\n",
        "                    train = False,\n",
        "                    transform = transforms.ToTensor())"
      ]
    },
    {
      "cell_type": "code",
      "execution_count": 6,
      "metadata": {},
      "outputs": [
        {
          "data": {
            "text/plain": [
              "(Dataset MNIST\n",
              "     Number of datapoints: 60000\n",
              "     Root location: .\n",
              "     Split: Train\n",
              "     StandardTransform\n",
              " Transform: ToTensor(),\n",
              " Dataset MNIST\n",
              "     Number of datapoints: 10000\n",
              "     Root location: .\n",
              "     Split: Test\n",
              "     StandardTransform\n",
              " Transform: ToTensor())"
            ]
          },
          "execution_count": 6,
          "metadata": {},
          "output_type": "execute_result"
        }
      ],
      "source": [
        "train_data, test_data"
      ]
    },
    {
      "cell_type": "markdown",
      "metadata": {
        "id": "qxZW-uAbxe_F"
      },
      "source": [
        "## 6. Visualize at least 5 different samples of the MNIST training dataset."
      ]
    },
    {
      "cell_type": "markdown",
      "metadata": {
        "id": "JAPDzW0wxhi3"
      },
      "source": [
        "## 7. Turn the MNIST train and test datasets into dataloaders using `torch.utils.data.DataLoader`, set the `batch_size=32`."
      ]
    },
    {
      "cell_type": "code",
      "execution_count": 7,
      "metadata": {
        "id": "ALA6MPcFbJXQ"
      },
      "outputs": [],
      "source": [
        "from torch.utils.data import DataLoader\n",
        "bs = 32\n",
        "train_DL = DataLoader(train_data, batch_size=bs, shuffle = True)\n",
        "test_DL = DataLoader(test_data, batch_size=bs, shuffle = False)"
      ]
    },
    {
      "cell_type": "markdown",
      "metadata": {
        "id": "bCCVfXk5xjYS"
      },
      "source": [
        "## 8. Recreate `model_2` used in notebook 03 (the same model from the [CNN Explainer website](https://poloclub.github.io/cnn-explainer/), also known as TinyVGG) capable of fitting on the MNIST dataset."
      ]
    },
    {
      "cell_type": "code",
      "execution_count": 8,
      "metadata": {
        "id": "5IKNF22XbKYS"
      },
      "outputs": [],
      "source": [
        "from torch import nn\n",
        "class TinyVGG(nn.Module):\n",
        "    def __init__(self, input, output, kernel):\n",
        "        super().__init__()\n",
        "        self.block_1 = nn.Sequential(\n",
        "            nn.Conv2d(in_channels=input,\n",
        "                      out_channels=kernel,\n",
        "                      kernel_size=3,\n",
        "                      padding = 'same',\n",
        "                      stride = 1),\n",
        "            nn.ReLU(),\n",
        "            nn.Conv2d(in_channels=kernel,\n",
        "                      out_channels=kernel,\n",
        "                      kernel_size=3,\n",
        "                      padding = 'same',\n",
        "                      stride = 1),\n",
        "            nn.ReLU(),\n",
        "            nn.MaxPool2d(kernel_size=2) # 32, 16, 14, 14\n",
        "        )\n",
        "        self.block_2 = nn.Sequential(\n",
        "            nn.Conv2d(kernel,\n",
        "                      kernel,\n",
        "                      kernel_size=3,\n",
        "                      padding='same'),\n",
        "            nn.ReLU(),\n",
        "            nn.Conv2d(kernel,\n",
        "                      kernel,\n",
        "                      kernel_size=3,\n",
        "                      padding='same'),\n",
        "            nn.ReLU(),\n",
        "            nn.MaxPool2d(2) # 32, 16, 7, 7\n",
        "        )\n",
        "        self.classification = nn.Sequential(\n",
        "            nn.Flatten(),\n",
        "            nn.Linear(kernel*7*7, 10)\n",
        "        )\n",
        "    def forward(self, X) :\n",
        "        X = self.block_1(X)\n",
        "        X = self.block_2(X)\n",
        "        X = self.classification(X)\n",
        "        return X"
      ]
    },
    {
      "cell_type": "code",
      "execution_count": 9,
      "metadata": {},
      "outputs": [
        {
          "data": {
            "text/plain": [
              "10"
            ]
          },
          "execution_count": 9,
          "metadata": {},
          "output_type": "execute_result"
        }
      ],
      "source": [
        "class_names = train_data.classes\n",
        "len(class_names)"
      ]
    },
    {
      "cell_type": "code",
      "execution_count": 10,
      "metadata": {},
      "outputs": [
        {
          "data": {
            "text/plain": [
              "TinyVGG(\n",
              "  (block_1): Sequential(\n",
              "    (0): Conv2d(1, 10, kernel_size=(3, 3), stride=(1, 1), padding=same)\n",
              "    (1): ReLU()\n",
              "    (2): Conv2d(10, 10, kernel_size=(3, 3), stride=(1, 1), padding=same)\n",
              "    (3): ReLU()\n",
              "    (4): MaxPool2d(kernel_size=2, stride=2, padding=0, dilation=1, ceil_mode=False)\n",
              "  )\n",
              "  (block_2): Sequential(\n",
              "    (0): Conv2d(10, 10, kernel_size=(3, 3), stride=(1, 1), padding=same)\n",
              "    (1): ReLU()\n",
              "    (2): Conv2d(10, 10, kernel_size=(3, 3), stride=(1, 1), padding=same)\n",
              "    (3): ReLU()\n",
              "    (4): MaxPool2d(kernel_size=2, stride=2, padding=0, dilation=1, ceil_mode=False)\n",
              "  )\n",
              "  (classification): Sequential(\n",
              "    (0): Flatten(start_dim=1, end_dim=-1)\n",
              "    (1): Linear(in_features=490, out_features=10, bias=True)\n",
              "  )\n",
              ")"
            ]
          },
          "execution_count": 10,
          "metadata": {},
          "output_type": "execute_result"
        }
      ],
      "source": [
        "model_0 = TinyVGG(1, len(class_names), 10)\n",
        "model_0.to(device)"
      ]
    },
    {
      "cell_type": "markdown",
      "metadata": {
        "id": "sf_3zUr7xlhy"
      },
      "source": [
        "## 9. Train the model you built in exercise 8. for 5 epochs on CPU and GPU and see how long it takes on each."
      ]
    },
    {
      "cell_type": "code",
      "execution_count": 11,
      "metadata": {
        "id": "jSo6vVWFbNLD"
      },
      "outputs": [],
      "source": [
        "from torchmetrics import F1Score\n",
        "loss_fn = nn.CrossEntropyLoss()\n",
        "optim = torch.optim.Adam(params=model_0.parameters(), lr=0.001)\n",
        "f1 = F1Score(task = 'multiclass', num_classes=len(class_names), average='macro')\n",
        "f1 = f1.to(device)"
      ]
    },
    {
      "cell_type": "code",
      "execution_count": 12,
      "metadata": {},
      "outputs": [],
      "source": [
        "loss_curve = []\n",
        "accuracy_curve = {}\n",
        "def train_loop(model, data, loss_fn, optim) :\n",
        "    model.train()\n",
        "    f1.reset()\n",
        "    for batch,(X,y) in enumerate(data):\n",
        "        X,y = X.to(device), y.to(device)\n",
        "        logits = model(X)\n",
        "        loss = loss_fn(logits, y)\n",
        "        f1.update(torch.softmax(logits, dim=1), y)\n",
        "\n",
        "        optim.zero_grad()\n",
        "        loss.backward()\n",
        "        optim.step()\n",
        "        \n",
        "        if (batch%400==0) :\n",
        "            loss_curve.append(loss_fn(logits, y).item())\n",
        "            accuracy_curve[batch] = f1.compute().item()*100\n",
        "        if (batch%400 == 0) :\n",
        "            print(f\"Batch {batch}/{len(data)} || Train Loss: {loss} || Accuracy: {f1.compute()*100}%\")\n",
        "  \n",
        "def test_loop(model, data, loss_fn) :\n",
        "    model.eval()\n",
        "    loss = 0 \n",
        "    f1.reset()\n",
        "    with torch.inference_mode():\n",
        "        for batch,(X,y) in enumerate(data):\n",
        "            X,y = X.to(device), y.to(device)\n",
        "            logits = model(X)\n",
        "            loss+=loss_fn(logits, y).item()\n",
        "            f1.update(torch.softmax(logits, dim=1),y)\n",
        "    print(f\"Loss: {loss/len(data)} || Accuracy: {f1.compute()*100}%\")"
      ]
    },
    {
      "cell_type": "code",
      "execution_count": 13,
      "metadata": {},
      "outputs": [
        {
          "name": "stdout",
          "output_type": "stream",
          "text": [
            "tensor([[0.1019, 0.0975, 0.1006, 0.1070, 0.1025, 0.0960, 0.0985, 0.0988, 0.1003,\n",
            "         0.0969]], device='cuda:0', grad_fn=<SoftmaxBackward0>)\n"
          ]
        }
      ],
      "source": [
        "img = train_data[0][0].to(device)\n",
        "print(torch.softmax(model_0(img.unsqueeze(0)), dim = 1))"
      ]
    },
    {
      "cell_type": "code",
      "execution_count": 14,
      "metadata": {},
      "outputs": [
        {
          "name": "stdout",
          "output_type": "stream",
          "text": [
            "Batch 0/1875 || Train Loss: 2.3020334243774414 || Accuracy: 1.7142858505249023%\n",
            "Batch 400/1875 || Train Loss: 0.09857432544231415 || Accuracy: 82.46830749511719%\n",
            "Batch 800/1875 || Train Loss: 0.10224664211273193 || Accuracy: 89.07157135009766%\n",
            "Batch 1200/1875 || Train Loss: 0.06363437324762344 || Accuracy: 91.57804107666016%\n",
            "Batch 1600/1875 || Train Loss: 0.11109934002161026 || Accuracy: 92.97063446044922%\n",
            "Loss: 0.06860935397994014 || Accuracy: 97.80445861816406%\n",
            "Batch 0/1875 || Train Loss: 0.08316045999526978 || Accuracy: 96.5714340209961%\n",
            "Batch 400/1875 || Train Loss: 0.055352650582790375 || Accuracy: 97.70814514160156%\n",
            "Batch 800/1875 || Train Loss: 0.019763469696044922 || Accuracy: 97.82231140136719%\n",
            "Batch 1200/1875 || Train Loss: 0.005783669650554657 || Accuracy: 97.90399169921875%\n",
            "Batch 1600/1875 || Train Loss: 0.008477014489471912 || Accuracy: 97.94818115234375%\n",
            "Loss: 0.053226437705809614 || Accuracy: 98.36505889892578%\n",
            "Batch 0/1875 || Train Loss: 0.13119466602802277 || Accuracy: 89.9047622680664%\n",
            "Batch 400/1875 || Train Loss: 0.10212680697441101 || Accuracy: 98.36357879638672%\n",
            "Batch 800/1875 || Train Loss: 0.029797205701470375 || Accuracy: 98.31941986083984%\n",
            "Batch 1200/1875 || Train Loss: 0.25444597005844116 || Accuracy: 98.2899169921875%\n",
            "Batch 1600/1875 || Train Loss: 0.028252815827727318 || Accuracy: 98.34709167480469%\n",
            "Loss: 0.04453481071631048 || Accuracy: 98.50887298583984%\n"
          ]
        }
      ],
      "source": [
        "epochs = 3\n",
        "for epoch in range(epochs) :\n",
        "    train_loop(model_0, train_DL, loss_fn, optim)\n",
        "    test_loop(model_0, test_DL, loss_fn)"
      ]
    },
    {
      "cell_type": "code",
      "execution_count": 15,
      "metadata": {},
      "outputs": [
        {
          "data": {
            "text/plain": [
              "(dict_keys([0, 400, 800, 1200, 1600]),\n",
              " dict_values([89.90476131439209, 98.36357831954956, 98.31942319869995, 98.28991889953613, 98.34709167480469]))"
            ]
          },
          "execution_count": 15,
          "metadata": {},
          "output_type": "execute_result"
        }
      ],
      "source": [
        "accuracy_curve.keys(), accuracy_curve.values()"
      ]
    },
    {
      "cell_type": "markdown",
      "metadata": {
        "id": "w1CsHhPpxp1w"
      },
      "source": [
        "## 10. Make predictions using your trained model and visualize at least 5 of them comparing the prediciton to the target label."
      ]
    },
    {
      "cell_type": "code",
      "execution_count": 16,
      "metadata": {
        "id": "_YGgZvSobNxu"
      },
      "outputs": [
        {
          "data": {
            "image/png": "[encoded data removed]",
            "text/plain": [
              "<Figure size 300x300 with 1 Axes>"
            ]
          },
          "metadata": {},
          "output_type": "display_data"
        },
        {
          "data": {
            "image/png": "[encoded data removed]",
            "text/plain": [
              "<Figure size 300x300 with 1 Axes>"
            ]
          },
          "metadata": {},
          "output_type": "display_data"
        },
        {
          "data": {
            "image/png": "[encoded data removed]",
            "text/plain": [
              "<Figure size 300x300 with 1 Axes>"
            ]
          },
          "metadata": {},
          "output_type": "display_data"
        },
        {
          "data": {
            "image/png": "[encoded data removed]",
            "text/plain": [
              "<Figure size 300x300 with 1 Axes>"
            ]
          },
          "metadata": {},
          "output_type": "display_data"
        },
        {
          "data": {
            "image/png": "[encoded data removed]",
            "text/plain": [
              "<Figure size 300x300 with 1 Axes>"
            ]
          },
          "metadata": {},
          "output_type": "display_data"
        }
      ],
      "source": [
        "import numpy as np\n",
        "import matplotlib.pyplot as plt\n",
        "random_idx = np.random.randint(0, 100, 5)\n",
        "for i in random_idx:\n",
        "    plt.figure(figsize=(3,3))\n",
        "    plt.imshow(train_data[i][0].squeeze(), cmap='gray')\n",
        "    with torch.inference_mode():\n",
        "        logits = model_0(train_data[i][0].unsqueeze(1).to(device))\n",
        "        label = logits.argmax(1).item() \n",
        "    plt.title(label)\n",
        "    plt.axis(False)"
      ]
    },
    {
      "cell_type": "markdown",
      "metadata": {
        "id": "qQwzqlBWxrpG"
      },
      "source": [
        "## 11. Plot a confusion matrix comparing your model's predictions to the truth labels."
      ]
    },
    {
      "cell_type": "code",
      "execution_count": 17,
      "metadata": {},
      "outputs": [],
      "source": [
        "model_0.eval()\n",
        "preds = []\n",
        "with torch.inference_mode():\n",
        "    for X,y in test_DL:\n",
        "        X,y = X.to(device), y.to(device)\n",
        "        logits = model_0(X)\n",
        "        preds.append(logits.argmax(1).to('cpu'))"
      ]
    },
    {
      "cell_type": "code",
      "execution_count": 18,
      "metadata": {},
      "outputs": [],
      "source": [
        "preds = torch.concat(preds)"
      ]
    },
    {
      "cell_type": "code",
      "execution_count": 21,
      "metadata": {},
      "outputs": [
        {
          "data": {
            "image/png": "[encoded data removed]",
            "text/plain": [
              "<Figure size 1000x700 with 1 Axes>"
            ]
          },
          "metadata": {},
          "output_type": "display_data"
        }
      ],
      "source": [
        "from mlxtend.plotting import plot_confusion_matrix\n",
        "from torchmetrics import ConfusionMatrix\n",
        "confmat = ConfusionMatrix(task = 'multiclass', num_classes=len(class_names))\n",
        "confmat_data = confmat(preds, test_data.targets)\n",
        "fig, ax = plot_confusion_matrix(confmat_data.numpy(),\n",
        "                                figsize=(10,7),\n",
        "                                class_names = class_names\n",
        "                                )\n",
        "count = {}\n",
        "prediction = {}\n",
        "label = test_data.targets\n",
        "# for i in label :\n",
        "#     id = i.item()\n",
        "#     if (id not in count):\n",
        "#         count[id]=0\n",
        "#     count[id] += 1\n",
        "# for i in preds :\n",
        "#     id = i.item()\n",
        "#     if (id not in prediction):\n",
        "#         prediction[id]=0\n",
        "#     prediction[id] += 1\n",
        "for i in range(10):\n",
        "    prediction[i] = torch.sum(preds==i)\n",
        "    count[i] = torch.sum(label==i)\n"
      ]
    },
    {
      "cell_type": "code",
      "execution_count": 23,
      "metadata": {},
      "outputs": [
        {
          "name": "stdout",
          "output_type": "stream",
          "text": [
            "sai so du doan cua 0 la: 99.59183502197266%\n",
            "sai so du doan cua 1 la: 99.03083801269531%\n",
            "sai so du doan cua 2 la: 98.83721160888672%\n",
            "sai so du doan cua 3 la: 99.00990295410156%\n",
            "sai so du doan cua 4 la: 99.08351135253906%\n",
            "sai so du doan cua 5 la: 98.65471649169922%\n",
            "sai so du doan cua 6 la: 98.3298568725586%\n",
            "sai so du doan cua 7 la: 95.71984100341797%\n",
            "sai so du doan cua 8 la: 98.87064361572266%\n",
            "sai so du doan cua 9 la: 98.0178451538086%\n"
          ]
        }
      ],
      "source": [
        "TP = {}\n",
        "accurate = []\n",
        "for i in range(10) :\n",
        "    TP[i] = torch.sum((preds == i) & (test_data.targets == i)).item()\n",
        "    accurate.append(TP[i]*100/count[i].item())\n",
        "    print(f\"sai so du doan cua {i} la: {TP[i]*100/count[i]}%\")\n"
      ]
    },
    {
      "cell_type": "code",
      "execution_count": 24,
      "metadata": {},
      "outputs": [
        {
          "data": {
            "text/plain": [
              "<Figure size 1000x700 with 0 Axes>"
            ]
          },
          "metadata": {},
          "output_type": "display_data"
        },
        {
          "data": {
            "image/png": "[encoded data removed]",
            "text/plain": [
              "<Figure size 640x480 with 1 Axes>"
            ]
          },
          "metadata": {},
          "output_type": "display_data"
        }
      ],
      "source": [
        "import seaborn as sns\n",
        "plt.figure(figsize=(10,7))\n",
        "fig, ax = plt.subplots()\n",
        "sns.barplot(x = np.arange(0,10,1), y = accurate, ax = ax)\n",
        "for container in ax.containers:\n",
        "    ax.bar_label(container, fmt='%.1f')"
      ]
    },
    {
      "cell_type": "markdown",
      "metadata": {
        "id": "lj6bDhoWxt2y"
      },
      "source": [
        "## 12. Create a random tensor of shape `[1, 3, 64, 64]` and pass it through a `nn.Conv2d()` layer with various hyperparameter settings (these can be any settings you choose), what do you notice if the `kernel_size` parameter goes up and down?"
      ]
    },
    {
      "cell_type": "code",
      "execution_count": null,
      "metadata": {
        "id": "leCTsqtSbR5P"
      },
      "outputs": [
        {
          "data": {
            "text/plain": [
              "torch.Size([3, 5, 32, 32])"
            ]
          },
          "execution_count": 114,
          "metadata": {},
          "output_type": "execute_result"
        }
      ],
      "source": [
        "random = torch.randn(size = (3,64,64)).unsqueeze(1)\n",
        "layer = nn.Conv2d(in_channels=1, out_channels=5,\n",
        "                  kernel_size=3,\n",
        "                  stride=2,\n",
        "                  padding = 1)\n",
        "layer(random).shape"
      ]
    },
    {
      "cell_type": "markdown",
      "metadata": {
        "id": "VHS20cNTxwSi"
      },
      "source": [
        "## 13. Use a model similar to the trained `model_2` from notebook 03 to make predictions on the test [`torchvision.datasets.FashionMNIST`](https://pytorch.org/vision/main/generated/torchvision.datasets.FashionMNIST.html) dataset. \n",
        "* Then plot some predictions where the model was wrong alongside what the label of the image should've been. \n",
        "* After visualing these predictions do you think it's more of a modelling error or a data error? \n",
        "* As in, could the model do better or are the labels of the data too close to each other (e.g. a \"Shirt\" label is too close to \"T-shirt/top\")?"
      ]
    },
    {
      "cell_type": "code",
      "execution_count": null,
      "metadata": {
        "id": "78a8LjtdbSZj"
      },
      "outputs": [],
      "source": []
    }
  ],
  "metadata": {
    "accelerator": "GPU",
    "colab": {
      "authorship_tag": "ABX9TyMUsDcN/+FAm9Pf7Ifqs6AZ",
      "collapsed_sections": [],
      "include_colab_link": true,
      "name": "03_pytorch_computer_vision_exercises.ipynb",
      "provenance": []
    },
    "kernelspec": {
      "display_name": "Python 3",
      "language": "python",
      "name": "python3"
    },
    "language_info": {
      "codemirror_mode": {
        "name": "ipython",
        "version": 3
      },
      "file_extension": ".py",
      "mimetype": "text/x-python",
      "name": "python",
      "nbconvert_exporter": "python",
      "pygments_lexer": "ipython3",
      "version": "3.10.6"
    }
  },
  "nbformat": 4,
  "nbformat_minor": 0
}
