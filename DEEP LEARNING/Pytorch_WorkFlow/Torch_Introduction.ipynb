{
 "cells": [
  {
   "cell_type": "code",
   "execution_count": 1,
   "id": "cec33049",
   "metadata": {},
   "outputs": [],
   "source": [
    "import torch\n",
    "from torchvision import datasets\n",
    "from torchvision.transforms import ToTensor"
   ]
  },
  {
   "cell_type": "markdown",
   "id": "b97fd497",
   "metadata": {},
   "source": [
    "\n",
    "torch có nhiều module như torchvision, torchtext, torchaudio, tại đây ta dùng torchvision cùng với datasets FashionMNIST của nó  \n",
    "Bộ dữ liệu FashionMNIST chứa ảnh 28×28 grayscale (đen trắng) của các loại quần áo  \n",
    "Mỗi mẫu trong training_data là **1 tuple chứa dữ liệu và nhãn**"
   ]
  },
  {
   "cell_type": "code",
   "execution_count": 2,
   "id": "57f095ab",
   "metadata": {},
   "outputs": [],
   "source": [
    "# Download training data from open datasets.\n",
    "training_data = datasets.FashionMNIST(\n",
    "    root=\"data\", #tải dữ liệu về thư mục data\n",
    "    train=True,  #dùng tập training data để làm tập huấn luyện (60k ảnh)\n",
    "    download=True, #nếu chưa có thì tải về\n",
    "    transform=ToTensor() #chuyển ảnh sang tensor có giá trị trong [0;1] để xử lý\n",
    ")\n",
    "\n",
    "# Download test data from open datasets.\n",
    "test_data = datasets.FashionMNIST(\n",
    "    root=\"data\",\n",
    "    train=False,  #tập này có 10k dữ liệu, chỉ định là tập test\n",
    "    download=True, \n",
    "    transform=ToTensor(),\n",
    ")"
   ]
  },
  {
   "cell_type": "code",
   "execution_count": 3,
   "id": "f4059c34",
   "metadata": {},
   "outputs": [
    {
     "data": {
      "text/plain": [
       "(torch.Size([1, 28, 28]), 9)"
      ]
     },
     "execution_count": 3,
     "metadata": {},
     "output_type": "execute_result"
    }
   ],
   "source": [
    "image, label = training_data[0] #training_data hoạt động tương tự list, chứa các tuple(img, label), img là tensor còn label là int\n",
    "image.shape, label"
   ]
  },
  {
   "cell_type": "markdown",
   "id": "ce301906",
   "metadata": {},
   "source": [
    "\n",
    "### ***Dataloader*** : Lấy dữ liệu từ dataset và chia nhỏ thành từng **batch** để mô hình học hiệu quả hơn  \n",
    ">>>**from torch.utils.data import DataLoader  \n",
    ">>>train_dataloader = DataLoader(training_data, batch_size=64, shuffle=True)**  \n",
    "\n",
    "Khái niệm về iterable : *là có thể dùng vòng lặp để duyệt qua một iterable*  \n",
    "\n",
    "Đối với dataloader, nó đóng gói dataset thành 1 iterable, mỗi lần lặp qua 1 batch  \n",
    "\n",
    "Dataloader hỗ trợ **batching(đóng gói), sampling(phân chia), shuffling (xáo trộn),..**"
   ]
  },
  {
   "cell_type": "code",
   "execution_count": 4,
   "id": "60dbafc8",
   "metadata": {},
   "outputs": [
    {
     "name": "stdout",
     "output_type": "stream",
     "text": [
      "Shape of X [N, C, H, W]: torch.Size([64, 1, 28, 28])\n",
      "Shape of y: torch.Size([64]) torch.int64\n",
      "<class 'torch.Tensor'> <class 'torch.Tensor'> tensor([9, 2, 1, 1, 6, 1, 4, 6, 5, 7])\n"
     ]
    }
   ],
   "source": [
    "from torch.utils.data import DataLoader\n",
    "\n",
    "batch_size = 64\n",
    "\n",
    "# Create data loaders.\n",
    "train_dataloader = DataLoader(training_data, batch_size=batch_size)\n",
    "test_dataloader = DataLoader(test_data, batch_size=batch_size)\n",
    "#train_dataloader giờ là 1 iterable chứa 937.5 batch, mỗi batch chứa batch_size = 64 mẫu, mỗi mẫu là 1 tuple (image, label)\n",
    "for X, y in test_dataloader:\n",
    "    print(f\"Shape of X [N, C, H, W]: {X.shape}\")\n",
    "    print(f\"Shape of y: {y.shape} {y.dtype}\")\n",
    "    print(type(X), type(y), y[:10])\n",
    "    break"
   ]
  },
  {
   "cell_type": "markdown",
   "id": "a1ca8a0b",
   "metadata": {},
   "source": [
    "### Giải thích về ***Shape of X [N, C, H, W]: torch.Size([64, 1, 28, 28])***:  \n",
    "#### **X:** tensor thông tin img\n",
    ">**N:** batch size  \n",
    ">**C:** channel (1 là ảnh đen trắng)  \n",
    ">**H, W:** Height - Weight   \n",
    "\n",
    "#### **y:** tensor chứa 64 label  \n",
    "#### **=> thông tin của đoạn code : 1 batch trong test_dataloader chứa 64 mẫu, đen trắng, size 28x28 cùng vector label chứa 64 label**  \n"
   ]
  },
  {
   "cell_type": "markdown",
   "id": "3734cd83",
   "metadata": {},
   "source": [
    "### ***TẠO MODEL NN***"
   ]
  },
  {
   "cell_type": "code",
   "execution_count": 5,
   "id": "fa5e188a",
   "metadata": {},
   "outputs": [
    {
     "name": "stdout",
     "output_type": "stream",
     "text": [
      "Using cuda device\n"
     ]
    }
   ],
   "source": [
    "device = torch.accelerator.current_accelerator().type if torch.accelerator.is_available() else \"cpu\"\n",
    "print(f\"Using {device} device\")"
   ]
  },
  {
   "cell_type": "markdown",
   "id": "b5d9671c",
   "metadata": {},
   "source": [
    "##### To define a neural network in PyTorch, we create a class that inherits from nn.Module. We define the layers of the network in the __init__ function and specify how data will pass through the network in the forward function. To accelerate operations in the neural network, we move it to the accelerator such as CUDA, MPS, MTIA, or XPU. If the current accelerator is available, we will use it. Otherwise, we use the CPU."
   ]
  },
  {
   "cell_type": "code",
   "execution_count": 6,
   "id": "0a6ab422",
   "metadata": {},
   "outputs": [
    {
     "name": "stdout",
     "output_type": "stream",
     "text": [
      "NeuralNetwork(\n",
      "  (flatten): Flatten(start_dim=1, end_dim=-1)\n",
      "  (linear_relu_stack): Sequential(\n",
      "    (0): Linear(in_features=784, out_features=512, bias=True)\n",
      "    (1): ReLU()\n",
      "    (2): Linear(in_features=512, out_features=512, bias=True)\n",
      "    (3): ReLU()\n",
      "    (4): Linear(in_features=512, out_features=10, bias=True)\n",
      "  )\n",
      ")\n"
     ]
    }
   ],
   "source": [
    "from torch import nn\n",
    "# Define model\n",
    "class NeuralNetwork(nn.Module): #tạo class NeuralNetwork kế thừa từ nn.Module, mọi model đều phải kế thừa từ nn.Module\n",
    "    def __init__(self):\n",
    "        super().__init__() #khởi tạo constructor của lớp cha cùng lớp con\n",
    "        self.flatten = nn.Flatten() # định nghĩa lại layer flatten để model biết phải xử lý layer này\n",
    "        self.linear_relu_stack  = nn.Sequential( #Sequential là hàm trong class nn, cho phép thực hiện các layers bên trong theo tuần tự\n",
    "                                                 #linear_relu_stack là tên biến\n",
    "            nn.Linear(28*28, 512), # chuyển ảnh 28x28 đầu vào thành vector 512, có thể hiểu như lọc ra 512 features\n",
    "            nn.ReLU(),\n",
    "            nn.Linear(512, 512), # tìm hiểu và học sâu hơn 512 features này\n",
    "            nn.ReLU(),\n",
    "            nn.Linear(512, 10) # xuất ra giá trị phân loại (có 10 label)\n",
    "        )\n",
    "\n",
    "    def forward(self, x): #hàm đặc biệt của NN, khi gọi model(data) sẽ tương đương với model.foward(data)\n",
    "        x = self.flatten(x) # sau khi gọi hàm thì ủi dẹt x\n",
    "        logits = self.linear_relu_stack(x) # sau đó cho x đi qua 5 layer tính toán\n",
    "        return logits # và trả về\n",
    "\n",
    "model = NeuralNetwork().to(device) # chuyển việc xử lý class sang gpu\n",
    "print(model)"
   ]
  },
  {
   "cell_type": "code",
   "execution_count": 7,
   "id": "b48f60c0",
   "metadata": {},
   "outputs": [
    {
     "data": {
      "text/plain": [
       "OrderedDict([('linear_relu_stack.0.weight',\n",
       "              tensor([[ 0.0300,  0.0011, -0.0039,  ..., -0.0157,  0.0354,  0.0257],\n",
       "                      [-0.0061,  0.0262,  0.0036,  ..., -0.0269, -0.0340,  0.0353],\n",
       "                      [-0.0035,  0.0283,  0.0293,  ...,  0.0027,  0.0004,  0.0002],\n",
       "                      ...,\n",
       "                      [ 0.0154,  0.0243, -0.0291,  ..., -0.0135, -0.0024,  0.0055],\n",
       "                      [ 0.0003,  0.0127,  0.0228,  ...,  0.0289, -0.0109,  0.0262],\n",
       "                      [ 0.0248,  0.0105,  0.0253,  ..., -0.0045, -0.0314,  0.0285]],\n",
       "                     device='cuda:0')),\n",
       "             ('linear_relu_stack.0.bias',\n",
       "              tensor([-1.1580e-02,  2.1740e-02, -6.4930e-03, -1.9777e-02,  2.8955e-02,\n",
       "                      -3.4130e-02,  2.9732e-02,  1.2633e-02, -1.4167e-02,  9.7271e-03,\n",
       "                      -3.1604e-02,  3.3140e-02, -8.7146e-03,  1.5209e-02,  2.1522e-02,\n",
       "                       1.3029e-02,  1.8455e-02, -2.0447e-02,  3.4543e-02,  3.2832e-02,\n",
       "                      -1.4023e-03, -8.2869e-03, -1.7742e-02,  1.7130e-02,  2.5319e-02,\n",
       "                      -3.0794e-02,  1.3571e-02,  2.9648e-02,  2.8843e-02,  2.4329e-02,\n",
       "                      -2.8407e-02, -4.0135e-03,  3.5642e-02,  1.5689e-02, -1.8602e-02,\n",
       "                      -2.1701e-02,  3.0224e-02, -1.7212e-02, -2.9117e-02, -2.3858e-02,\n",
       "                       2.9081e-02,  1.3339e-02, -2.8610e-02, -3.1345e-02,  2.4751e-02,\n",
       "                       5.0592e-03,  9.4169e-03, -3.2620e-02,  1.4416e-02, -2.0713e-02,\n",
       "                      -2.1138e-03, -9.9575e-03,  1.8431e-03,  5.7706e-03, -3.0972e-02,\n",
       "                      -2.2707e-02,  2.1242e-02,  7.6038e-03,  1.5813e-02, -4.7199e-03,\n",
       "                       1.1273e-02,  1.8121e-04,  1.3244e-02,  3.5127e-02, -2.2192e-02,\n",
       "                       2.9138e-02,  3.2404e-02, -8.7363e-03,  1.2177e-02, -2.3853e-02,\n",
       "                      -1.1719e-03, -3.3127e-02,  1.2623e-02, -4.4670e-03, -1.7679e-03,\n",
       "                       3.4996e-02, -2.7717e-02, -2.3266e-02,  1.0482e-02,  2.5805e-02,\n",
       "                      -8.8729e-03, -3.2612e-02, -9.7124e-03,  4.2321e-03, -2.0526e-02,\n",
       "                       3.1620e-02,  1.7621e-02,  5.8669e-03, -6.3135e-03,  1.5087e-02,\n",
       "                       2.3085e-02, -2.4782e-02, -1.2311e-02, -2.3035e-02,  3.3163e-02,\n",
       "                      -3.2253e-02, -9.4465e-03,  1.6293e-02,  3.2770e-02,  2.3167e-02,\n",
       "                       2.1284e-02, -2.6880e-02, -8.1158e-03, -2.3349e-02,  1.0690e-02,\n",
       "                      -3.1541e-02,  2.6472e-03, -1.7387e-02,  3.2546e-02,  1.4959e-02,\n",
       "                       2.0526e-02, -2.5056e-02,  3.1760e-02,  2.7088e-02,  2.5582e-02,\n",
       "                      -2.5088e-03,  3.5708e-02,  1.9806e-02, -9.6163e-03, -2.0571e-02,\n",
       "                      -2.5398e-02,  1.4908e-02, -2.9429e-02, -9.6259e-04, -2.5576e-03,\n",
       "                       1.9329e-02,  1.5162e-02,  1.3655e-02,  1.0464e-02,  1.0537e-02,\n",
       "                      -7.4559e-03,  5.7801e-03,  1.6472e-02, -1.0641e-02, -1.7016e-02,\n",
       "                      -1.5281e-05,  2.3562e-02, -1.4486e-02,  3.4594e-02, -2.3631e-02,\n",
       "                      -1.3602e-02,  2.1503e-02,  6.5044e-04,  7.9499e-03, -4.5027e-03,\n",
       "                      -3.0485e-02,  9.2382e-03,  6.3654e-03, -2.6142e-02,  6.1121e-03,\n",
       "                      -1.4921e-02,  5.2266e-03,  2.5264e-02, -2.1083e-02,  3.3845e-02,\n",
       "                      -5.1162e-03,  2.6942e-02, -1.8148e-02, -3.2067e-02,  6.3232e-03,\n",
       "                      -3.3788e-02, -3.4609e-02,  1.8795e-02,  1.7686e-02, -3.1591e-02,\n",
       "                       5.6529e-03, -2.5071e-02, -2.8461e-03, -1.8728e-02,  2.1895e-03,\n",
       "                       1.0803e-02, -1.2576e-02,  2.7651e-02,  2.6201e-02, -3.1888e-02,\n",
       "                      -1.3249e-02, -4.7861e-03, -3.1223e-03, -1.1375e-02,  2.5902e-02,\n",
       "                      -2.8976e-02,  7.4938e-03, -1.8760e-02, -4.2759e-03,  1.6524e-03,\n",
       "                      -5.8861e-03,  1.8801e-02,  7.3880e-03, -1.3995e-02, -2.2086e-02,\n",
       "                       5.3660e-03,  1.2607e-02,  3.0184e-02, -2.7275e-03, -2.8343e-03,\n",
       "                      -3.1920e-02, -2.9520e-02,  1.6994e-02,  1.3292e-02, -1.7652e-02,\n",
       "                      -2.9726e-02,  3.4974e-02, -3.0271e-02,  3.4649e-02, -5.0559e-04,\n",
       "                       7.1458e-03,  2.9436e-02,  2.0092e-02, -7.4352e-03, -1.8669e-02,\n",
       "                      -7.9398e-03, -1.7864e-02, -6.3926e-04,  2.4366e-02,  3.5170e-02,\n",
       "                      -5.1425e-03,  5.4953e-04,  1.1458e-03,  2.3190e-02,  1.2704e-02,\n",
       "                      -2.4134e-03, -1.1424e-02, -3.5682e-02, -1.5852e-02, -2.8012e-02,\n",
       "                       1.3344e-02, -3.2456e-02, -1.1747e-02,  8.5131e-03, -2.9567e-02,\n",
       "                       3.2215e-02,  3.4221e-02,  1.6166e-02, -1.0201e-02, -1.7780e-02,\n",
       "                       6.7285e-03,  5.7996e-03,  1.3050e-02, -2.9175e-02, -5.1258e-03,\n",
       "                       1.5081e-02,  2.9747e-02, -4.3327e-03, -1.8623e-02, -2.6339e-02,\n",
       "                       3.3115e-02,  1.8128e-02, -6.7919e-03,  2.5109e-02, -2.5133e-02,\n",
       "                       2.2848e-03, -1.9569e-02,  1.3061e-02,  7.4562e-03, -4.1833e-04,\n",
       "                       3.5564e-02, -1.9414e-02, -1.8742e-02,  2.5929e-02,  1.8397e-02,\n",
       "                      -4.1239e-06, -2.7938e-02, -6.3715e-03, -2.7747e-02, -1.6827e-02,\n",
       "                      -1.1438e-02, -2.7543e-02,  2.6076e-02,  2.9478e-02,  6.3212e-03,\n",
       "                      -1.8111e-02,  2.0535e-02, -1.5302e-02, -2.1251e-03, -2.8167e-02,\n",
       "                      -1.2390e-02, -5.5885e-03,  3.2199e-02,  6.6289e-03, -2.3080e-02,\n",
       "                       8.7113e-03,  7.8292e-03,  8.1447e-03,  2.6280e-02,  2.2360e-02,\n",
       "                      -1.9257e-02,  2.6868e-02, -3.0836e-02, -1.8395e-02,  1.7050e-02,\n",
       "                       1.5074e-02,  2.7464e-02,  4.8559e-03,  2.9795e-02, -9.6950e-04,\n",
       "                       1.8038e-02, -2.0057e-02,  3.4271e-02, -1.9628e-02,  2.5851e-02,\n",
       "                      -2.7407e-02,  1.0516e-02, -2.5785e-02,  5.6942e-03,  9.9701e-03,\n",
       "                      -1.3425e-02, -3.0405e-02,  1.4783e-02,  2.5890e-02, -2.8786e-02,\n",
       "                      -2.7576e-02, -1.5752e-02, -1.0877e-02, -3.4359e-02, -1.0961e-02,\n",
       "                      -2.0616e-02,  2.5346e-02,  3.3265e-02,  2.4879e-02,  2.0446e-02,\n",
       "                      -2.4943e-02,  1.0275e-02,  3.5529e-02, -6.8399e-03,  6.3819e-03,\n",
       "                      -1.1254e-02, -2.4972e-02,  5.8345e-03, -3.3829e-02, -2.2067e-02,\n",
       "                      -1.5190e-02, -3.3449e-02, -3.0450e-02, -2.0312e-02, -1.0544e-02,\n",
       "                      -5.7457e-03, -5.7018e-03,  1.7003e-02, -1.8183e-02,  9.9803e-03,\n",
       "                       2.3102e-02, -3.3795e-02, -2.8770e-03, -1.9403e-02,  3.4895e-02,\n",
       "                       5.1397e-03,  3.4100e-02, -1.6902e-02, -1.0486e-02, -2.5145e-02,\n",
       "                      -3.5745e-03,  1.0013e-02,  2.3900e-02, -2.4701e-02,  1.9061e-02,\n",
       "                      -1.6678e-02, -2.1054e-02,  3.2863e-02, -4.8089e-03, -2.5595e-02,\n",
       "                      -3.2303e-02,  1.6363e-02, -3.1722e-02, -2.9297e-02,  1.8362e-02,\n",
       "                      -3.8724e-03,  6.0128e-03, -2.5424e-02,  3.1685e-02, -1.3503e-02,\n",
       "                      -2.3609e-02, -2.8790e-03,  1.3108e-02, -2.1265e-02, -1.3505e-02,\n",
       "                       7.2573e-03,  2.5364e-02,  2.1344e-02, -1.5984e-02,  3.0262e-02,\n",
       "                       3.0128e-03,  2.0431e-02, -2.9731e-02,  2.0922e-02,  2.1361e-02,\n",
       "                       1.6160e-02, -3.5076e-02, -1.1421e-02,  2.1787e-02,  1.5072e-02,\n",
       "                       1.1296e-02,  1.5170e-02,  1.7981e-02,  3.0385e-02,  2.1043e-02,\n",
       "                       1.3223e-02, -4.7558e-03,  2.8436e-02,  1.0686e-02,  2.8083e-02,\n",
       "                      -1.1235e-02,  2.9388e-02,  4.8795e-03, -1.6614e-02,  2.2152e-02,\n",
       "                      -2.1828e-03,  1.1466e-02, -1.2123e-02, -1.2514e-02,  1.6137e-02,\n",
       "                      -1.4853e-02, -3.0281e-02, -4.0942e-03, -5.6677e-03, -1.0311e-02,\n",
       "                       1.4011e-02, -2.3735e-02, -3.0296e-02,  1.7243e-02,  1.5520e-02,\n",
       "                       8.3413e-03,  1.3290e-02,  1.5066e-02, -1.3769e-03,  4.6345e-03,\n",
       "                       2.3721e-02, -2.6999e-02, -8.0363e-04, -6.1202e-03, -9.0023e-03,\n",
       "                       2.4032e-02, -2.3264e-02,  1.6685e-02, -1.1922e-02,  8.6720e-03,\n",
       "                      -9.9843e-03, -2.4271e-02,  3.4534e-02, -1.2081e-02, -2.9030e-02,\n",
       "                      -8.3357e-03, -1.3606e-02, -4.2416e-03, -3.5643e-03,  1.5627e-02,\n",
       "                      -1.3051e-02, -1.8548e-02, -1.3176e-02, -3.4172e-02,  2.8271e-02,\n",
       "                      -1.0258e-03,  2.4018e-02, -3.3633e-02, -2.1691e-03, -1.4552e-02,\n",
       "                       1.8255e-02,  2.1208e-02, -7.0607e-03, -2.7847e-02, -3.2596e-02,\n",
       "                      -1.8332e-02, -3.2608e-02,  3.3125e-02, -3.3779e-02,  2.5402e-02,\n",
       "                      -1.0333e-02, -3.2446e-02,  8.1834e-03,  2.4602e-02, -2.0810e-02,\n",
       "                       1.0781e-02,  7.9967e-03, -2.0617e-02, -1.8584e-02, -1.7285e-02,\n",
       "                       3.4434e-02,  5.1059e-03, -1.6030e-02, -9.5508e-03,  1.5828e-02,\n",
       "                       3.1150e-02,  3.4004e-02,  2.7290e-02,  1.4141e-02,  1.9715e-02,\n",
       "                       3.0525e-03, -1.8823e-02,  2.6660e-04, -2.7653e-02,  1.5797e-02,\n",
       "                      -3.1632e-02,  2.4062e-02, -2.2848e-03,  2.2316e-02,  2.9435e-02,\n",
       "                       4.3805e-03,  3.3234e-02, -6.9971e-03,  1.3635e-02,  1.8043e-02,\n",
       "                       3.0389e-02,  5.7774e-03, -1.9898e-03, -2.8791e-02, -2.4355e-02,\n",
       "                       2.9191e-02, -3.0155e-03, -2.7751e-02,  1.0007e-02, -2.8989e-02,\n",
       "                      -2.5295e-02, -2.9059e-02], device='cuda:0')),\n",
       "             ('linear_relu_stack.2.weight',\n",
       "              tensor([[ 0.0373, -0.0097, -0.0276,  ..., -0.0126,  0.0290, -0.0064],\n",
       "                      [ 0.0173, -0.0227, -0.0338,  ...,  0.0048, -0.0083, -0.0168],\n",
       "                      [-0.0357,  0.0317,  0.0112,  ...,  0.0289,  0.0309, -0.0332],\n",
       "                      ...,\n",
       "                      [-0.0265, -0.0370,  0.0184,  ...,  0.0323,  0.0433, -0.0436],\n",
       "                      [ 0.0309, -0.0171, -0.0263,  ...,  0.0363,  0.0018, -0.0370],\n",
       "                      [ 0.0424,  0.0253,  0.0427,  ...,  0.0055, -0.0301, -0.0288]],\n",
       "                     device='cuda:0')),\n",
       "             ('linear_relu_stack.2.bias',\n",
       "              tensor([ 2.7992e-02,  2.4059e-03,  1.0278e-02,  9.7762e-03,  4.3210e-02,\n",
       "                      -3.7452e-02,  2.3319e-02, -1.6998e-02,  3.9529e-02,  3.8879e-02,\n",
       "                       1.6989e-02,  3.4181e-04,  3.9115e-02, -3.7267e-02, -9.8238e-03,\n",
       "                      -2.2064e-02, -1.7861e-02, -1.9753e-02,  3.4784e-02, -2.3290e-02,\n",
       "                      -1.7329e-02,  4.1276e-02,  1.8091e-02, -2.4141e-02,  1.5557e-02,\n",
       "                       1.8985e-02,  6.2984e-03,  4.1892e-02, -4.6609e-03,  1.1279e-02,\n",
       "                       2.9715e-03,  1.8253e-02,  3.6097e-02, -2.7928e-02, -3.9703e-02,\n",
       "                       1.3236e-03,  2.6642e-02, -3.5012e-02, -2.9431e-02,  4.2099e-02,\n",
       "                       2.1477e-02, -4.4896e-03, -1.9560e-02, -3.6792e-02, -3.0513e-02,\n",
       "                       2.3581e-02, -3.7083e-02,  3.6959e-02,  2.9421e-02,  5.4489e-03,\n",
       "                      -3.6673e-02,  2.9837e-02,  3.7500e-02, -2.1319e-02, -6.2565e-03,\n",
       "                       2.6979e-02, -3.3332e-02, -2.7341e-02, -3.6400e-03, -1.0586e-03,\n",
       "                       2.8803e-02, -3.8359e-02, -2.8414e-02, -2.2375e-02, -2.8199e-02,\n",
       "                       3.7072e-02,  2.1412e-02,  2.1487e-02, -4.0283e-02, -3.7741e-02,\n",
       "                      -3.5614e-02, -1.2150e-02,  2.7750e-02, -3.5133e-02, -1.3758e-02,\n",
       "                       2.4676e-02,  2.7789e-02, -3.7756e-02, -2.6514e-02,  2.5651e-02,\n",
       "                      -4.3139e-02,  1.6454e-03,  5.1058e-03,  2.9723e-02,  3.2715e-02,\n",
       "                       2.1107e-02,  2.2956e-02,  2.6973e-03,  8.7756e-03,  4.4863e-03,\n",
       "                       4.2295e-02, -2.5073e-02,  3.4443e-02, -2.8631e-02,  1.7982e-02,\n",
       "                       3.5334e-02, -3.5546e-02,  3.4326e-02, -4.7761e-03,  3.9059e-02,\n",
       "                      -8.5725e-03, -1.1293e-02,  2.6257e-02, -2.6858e-03, -3.1241e-02,\n",
       "                       1.8917e-03, -4.0270e-02,  2.5986e-02,  2.3051e-02, -1.4714e-02,\n",
       "                       4.0063e-03, -2.2904e-02,  2.4751e-02,  4.7309e-03, -3.9716e-02,\n",
       "                       7.7242e-03,  2.3142e-02,  4.2628e-02, -2.3992e-02, -2.3256e-02,\n",
       "                       4.3532e-02, -1.8328e-02,  1.3585e-02, -3.5766e-02, -3.7695e-02,\n",
       "                       2.1153e-02,  2.9012e-02,  7.3066e-03, -2.8656e-02,  2.6686e-02,\n",
       "                       9.6752e-04,  3.1380e-02,  1.9887e-02, -3.6545e-02, -2.1688e-02,\n",
       "                      -1.9699e-02, -2.2448e-02, -3.1086e-03,  4.2712e-04, -2.4748e-02,\n",
       "                      -1.8818e-02,  2.5467e-02, -4.1474e-02, -4.3191e-02, -1.6107e-03,\n",
       "                      -2.6752e-02, -1.6734e-02, -3.2157e-02,  1.5357e-03, -4.1746e-02,\n",
       "                      -2.5644e-02, -1.3316e-02,  8.6191e-03, -8.7568e-04,  3.2603e-02,\n",
       "                       1.0382e-02, -2.7479e-02, -3.6577e-02, -1.6366e-02, -2.2433e-02,\n",
       "                      -4.3588e-02, -1.0298e-02,  3.4292e-02,  2.5053e-02,  1.4550e-02,\n",
       "                       1.4223e-02,  3.1175e-03,  1.7034e-02, -1.8268e-02, -2.7568e-02,\n",
       "                      -4.2770e-02, -2.8261e-03,  2.7058e-02,  3.7545e-03,  2.5069e-02,\n",
       "                       3.1575e-02, -8.0400e-03, -3.4362e-02, -1.3164e-03, -1.2880e-02,\n",
       "                       3.7957e-02, -6.2604e-04,  6.1923e-03,  1.6047e-02, -2.1011e-02,\n",
       "                       3.5439e-02,  1.0481e-02, -4.0041e-02,  4.2864e-02,  1.1976e-02,\n",
       "                      -3.6273e-02, -4.3934e-02, -1.7541e-02,  2.2166e-02,  1.6011e-02,\n",
       "                      -1.0529e-02,  3.5525e-02, -4.1667e-02,  4.3563e-02, -1.4908e-02,\n",
       "                       2.4882e-02, -3.3969e-02, -1.3966e-02,  6.5832e-04, -1.6637e-02,\n",
       "                      -1.9808e-02,  2.9745e-02,  3.0232e-02,  3.6713e-03, -1.8438e-02,\n",
       "                       1.4447e-03,  3.9766e-03, -9.5056e-03,  4.1015e-02, -1.6898e-02,\n",
       "                       1.8253e-02, -2.9938e-02,  1.7406e-02, -1.1667e-02, -2.1112e-03,\n",
       "                      -2.0133e-02, -1.0853e-02,  2.4524e-02,  3.6707e-02, -3.4454e-02,\n",
       "                       7.7287e-03, -3.3921e-02,  4.1126e-02,  1.8136e-02,  1.0152e-02,\n",
       "                      -3.3478e-02,  4.0646e-02, -2.3091e-02, -3.5691e-03, -3.5645e-02,\n",
       "                       5.0547e-03,  8.4394e-04,  4.1535e-02, -4.1126e-02,  1.3173e-05,\n",
       "                       2.9603e-02,  2.7136e-02, -3.7249e-02, -8.5026e-03, -3.8574e-02,\n",
       "                       1.7521e-02,  2.6149e-02, -1.3877e-02, -3.3906e-02, -1.5147e-02,\n",
       "                      -1.6702e-02, -3.4421e-02,  1.8126e-02, -2.7373e-02, -3.9392e-02,\n",
       "                      -3.9795e-02, -3.3051e-02, -2.4116e-02,  1.7065e-02,  8.8720e-03,\n",
       "                      -4.3140e-02, -1.6396e-02, -3.2576e-03, -2.2921e-02,  1.9813e-02,\n",
       "                      -3.3181e-02,  2.4096e-02, -1.8020e-02,  8.6554e-03,  2.4159e-02,\n",
       "                      -9.1273e-04,  3.4413e-02,  1.4970e-02,  5.6730e-03, -3.6466e-02,\n",
       "                       3.7344e-02,  7.7858e-03,  3.0763e-02, -2.9020e-02, -2.8972e-02,\n",
       "                       1.3289e-02, -2.7644e-02,  2.8333e-02, -4.3066e-02, -1.8423e-02,\n",
       "                      -9.9145e-03, -3.9526e-02,  2.4031e-02, -3.0845e-02,  6.7894e-03,\n",
       "                       3.2861e-02,  6.9017e-03,  1.0622e-03,  3.1376e-02, -2.5555e-02,\n",
       "                       3.1565e-03,  5.2130e-03,  4.2089e-02,  1.2726e-04, -1.0903e-02,\n",
       "                       7.4456e-03,  1.2795e-02, -3.7597e-02, -3.6295e-02, -1.5921e-03,\n",
       "                       6.8091e-04, -4.1245e-02, -2.6800e-02, -4.0465e-02, -1.4623e-02,\n",
       "                       2.1495e-02,  6.4707e-03,  3.6609e-03, -1.2351e-02,  1.4809e-02,\n",
       "                       1.4258e-02, -1.0993e-03, -1.6673e-02, -3.1416e-03,  3.6836e-02,\n",
       "                      -2.8223e-02, -1.7644e-02,  1.4036e-02, -4.0588e-02,  5.2714e-03,\n",
       "                       2.6253e-02,  3.2928e-02,  3.9512e-02,  3.3975e-02, -3.6390e-02,\n",
       "                       2.4501e-02, -1.5181e-02, -2.0921e-02, -2.7543e-03,  8.7108e-03,\n",
       "                      -2.0685e-02,  3.3530e-02, -1.0820e-02,  2.5041e-02,  1.8357e-02,\n",
       "                       3.5617e-02, -1.6062e-03,  2.3803e-03,  1.6326e-02,  4.2141e-02,\n",
       "                      -5.5827e-03,  1.0309e-02,  1.9407e-02, -4.4181e-03,  5.4059e-03,\n",
       "                      -2.9229e-02,  2.6378e-02,  2.1439e-02,  7.0466e-03,  2.4991e-02,\n",
       "                      -2.1012e-02,  2.0730e-02, -1.4282e-03,  1.9107e-02, -3.1282e-02,\n",
       "                      -1.3780e-02,  2.6676e-02, -2.4840e-02,  2.3505e-02, -3.0229e-02,\n",
       "                      -3.6453e-03, -3.4415e-02, -3.6289e-02,  2.5335e-02, -1.4768e-02,\n",
       "                       3.4445e-02,  1.9911e-02,  5.2126e-03,  1.2328e-02,  1.1639e-02,\n",
       "                       1.2108e-02,  4.0823e-02, -2.6188e-02,  5.8942e-03, -3.5341e-02,\n",
       "                      -3.6566e-02,  2.8542e-02,  1.5514e-02,  6.7455e-03,  3.7717e-02,\n",
       "                       2.3022e-02, -3.4570e-02, -2.0920e-02,  3.0311e-02,  3.9238e-02,\n",
       "                       3.0138e-02, -4.5262e-05, -1.0255e-02, -3.9373e-02, -3.2610e-03,\n",
       "                      -6.5517e-03,  3.6147e-02,  9.9196e-03,  3.4745e-02, -2.9660e-02,\n",
       "                       1.3215e-02, -2.6081e-02,  2.8549e-02,  4.4003e-02, -3.8409e-02,\n",
       "                      -2.0541e-02, -6.8558e-03,  2.0630e-02,  5.9162e-03, -2.1654e-02,\n",
       "                      -3.4431e-02,  2.6193e-02,  1.2000e-02, -2.5531e-02,  6.4262e-03,\n",
       "                       3.9541e-02, -6.2341e-03,  3.3956e-02,  2.0033e-02,  1.2835e-02,\n",
       "                       2.5743e-02,  3.3161e-02,  1.2403e-02, -7.3737e-03, -3.2241e-02,\n",
       "                       1.5394e-02, -2.2552e-03, -8.0200e-03,  2.2194e-02,  1.7059e-02,\n",
       "                       3.3551e-02, -1.9142e-02, -2.7812e-02, -2.7713e-02,  1.5364e-02,\n",
       "                      -1.7633e-02,  1.9279e-02, -2.0560e-02, -4.2585e-03,  1.4555e-02,\n",
       "                      -2.5253e-02,  1.5014e-02, -5.2391e-03, -3.5279e-02,  3.1882e-03,\n",
       "                       3.0879e-02,  3.6324e-02, -2.3952e-02,  1.7223e-02,  4.0846e-02,\n",
       "                      -4.1677e-02,  4.0903e-02, -4.2423e-02, -4.1817e-02,  3.0272e-02,\n",
       "                       4.2056e-02,  2.7544e-02,  2.7198e-02, -1.9745e-02, -3.8677e-02,\n",
       "                      -2.2820e-02, -1.5591e-02,  2.1839e-02,  1.7298e-02, -3.4256e-02,\n",
       "                       2.0314e-02, -2.1041e-02, -2.5963e-02, -4.2821e-02,  1.5291e-02,\n",
       "                       9.4865e-03,  3.9374e-02,  4.1069e-03,  3.7085e-02, -3.6448e-02,\n",
       "                       2.8095e-02, -1.2608e-02, -3.4885e-02, -3.8149e-02, -1.8835e-02,\n",
       "                      -2.9993e-02,  2.8305e-02, -2.4183e-02,  1.1427e-02, -6.8129e-03,\n",
       "                      -2.9299e-02, -3.9714e-02, -1.8129e-02, -3.3211e-02, -2.4991e-02,\n",
       "                      -3.5608e-02,  3.7142e-03,  2.6164e-02,  1.1475e-02,  7.9104e-03,\n",
       "                       2.4673e-03, -9.9435e-03, -2.3989e-02, -4.3386e-02,  3.6004e-02,\n",
       "                       9.1175e-03, -2.5887e-02,  1.2463e-02,  4.3391e-02,  2.2225e-02,\n",
       "                       2.4758e-02, -1.2070e-02,  1.7044e-02,  3.9829e-02, -3.9053e-03,\n",
       "                       2.0414e-02, -4.3140e-02], device='cuda:0')),\n",
       "             ('linear_relu_stack.4.weight',\n",
       "              tensor([[ 0.0241,  0.0439, -0.0269,  ..., -0.0145, -0.0152,  0.0077],\n",
       "                      [-0.0122, -0.0176,  0.0321,  ...,  0.0005,  0.0274, -0.0206],\n",
       "                      [ 0.0256, -0.0042, -0.0214,  ..., -0.0404, -0.0182, -0.0006],\n",
       "                      ...,\n",
       "                      [-0.0379, -0.0142, -0.0414,  ...,  0.0242, -0.0142, -0.0022],\n",
       "                      [-0.0132, -0.0038, -0.0197,  ...,  0.0132, -0.0244, -0.0179],\n",
       "                      [-0.0173,  0.0109,  0.0084,  ...,  0.0160,  0.0138,  0.0240]],\n",
       "                     device='cuda:0')),\n",
       "             ('linear_relu_stack.4.bias',\n",
       "              tensor([-0.0193, -0.0294, -0.0374,  0.0344, -0.0259, -0.0008, -0.0302, -0.0047,\n",
       "                      -0.0361,  0.0053], device='cuda:0'))])"
      ]
     },
     "execution_count": 7,
     "metadata": {},
     "output_type": "execute_result"
    }
   ],
   "source": [
    "model.state_dict()"
   ]
  },
  {
   "cell_type": "markdown",
   "id": "a8c018a5",
   "metadata": {},
   "source": [
    "#### ***Khởi tạo Loss Function và Optimization Function***"
   ]
  },
  {
   "cell_type": "code",
   "execution_count": 8,
   "id": "6a741164",
   "metadata": {},
   "outputs": [],
   "source": [
    "loss_fn = nn.CrossEntropyLoss() # Khởi tạo loss_fn là CEL, CEL là chuẩn cho bài phân loại nhiều lớp (đa label)\n",
    "optimizer = torch.optim.SGD(model.parameters(), lr=1e-3) # Khởi tạo optimizer là hàm SGD (Stochastic Gradient Descent)"
   ]
  },
  {
   "cell_type": "markdown",
   "id": "789bd7f1",
   "metadata": {},
   "source": [
    "#### ***TẠO HÀM TRAIN LOOP***"
   ]
  },
  {
   "cell_type": "code",
   "execution_count": 9,
   "id": "a5bea7eb",
   "metadata": {},
   "outputs": [
    {
     "data": {
      "text/plain": [
       "(64, 938)"
      ]
     },
     "execution_count": 9,
     "metadata": {},
     "output_type": "execute_result"
    }
   ],
   "source": [
    "batch_size = train_dataloader.batch_size\n",
    "number_of_batch = len(train_dataloader) \n",
    "batch_size, number_of_batch"
   ]
  },
  {
   "cell_type": "code",
   "execution_count": 10,
   "id": "577c6c6c",
   "metadata": {},
   "outputs": [],
   "source": [
    "def train_loop(dataloader, model, loss_fn, optimizer): # 4 tham số của hàm đều đã được định nghĩa ở trên\n",
    "    size = len(dataloader.dataset)\n",
    "    model.train() #đặt model vào chế độ huấn luyện\n",
    "    for batch, (X, y) in enumerate(dataloader): # enumerate : trả về chỉ số và giá trị của iterable\n",
    "        #tức duyệt qua 938 batch, giá trị mỗi batch được lưu trong X, trả về chỉ số của batch hiện tại, giá trị batch X và label y\n",
    "        X, y = X.to(device), y.to(device) # X,y là tensor, chuyển về gpu\n",
    "        # Compute prediction error\n",
    "        pred = model(X) # huấn luyện trên batch này\n",
    "        loss = loss_fn(pred, y) # tính loss function\n",
    "\n",
    "        # Backpropagation có thể xem như mặc định với trình độ này của bé\n",
    "        loss.backward() # tính gradient của loss\n",
    "        optimizer.step() # cập nhật dựa trên hàm tối ưu hóa\n",
    "        optimizer.zero_grad() # đặt gradient của hàm về 0\n",
    "\n",
    "        if batch % 100 == 0: # mỗi 100 batch thì in ra sai số và batch hiện tại\n",
    "            # cần để ý vì loss này không tích trữ, tức đây là loss ở batch 100, 200, 300,... đã được tối ưu dần dần\n",
    "            loss, current = loss.item(), (batch + 1) * len(X) # len(X) là số mẫu chứa trong 1 batch do X là giá trị 1 batch\n",
    "            #(batch+1)*len(X) là số mẫu đã xử lý được đến hiện tại\n",
    "            print(f\"loss: {loss:>7f}  [{current:>5d}/{size:>5d}]\")"
   ]
  },
  {
   "cell_type": "code",
   "execution_count": 11,
   "id": "9c52260b",
   "metadata": {},
   "outputs": [
    {
     "data": {
      "text/plain": [
       "157"
      ]
     },
     "execution_count": 11,
     "metadata": {},
     "output_type": "execute_result"
    }
   ],
   "source": [
    "num_batches = len(test_dataloader)\n",
    "num_batches"
   ]
  },
  {
   "cell_type": "code",
   "execution_count": 12,
   "id": "a0a7defb",
   "metadata": {},
   "outputs": [],
   "source": [
    "def test_loop(dataloader, model, loss_fn):\n",
    "    size = len(dataloader.dataset)\n",
    "    num_batches = len(dataloader)\n",
    "    model.eval() #bật c hế độ đánh giá evaluation\n",
    "    test_loss, correct = 0, 0 # test_loss : tổng loss qua tất cả batch, correct : tổng mẫu đã đoán đúng\n",
    "    with torch.no_grad(): # tắt tính toán gradient, không cập nhật trọng số w và b\n",
    "        for X, y in dataloader:\n",
    "            X, y = X.to(device), y.to(device)\n",
    "            pred = model(X)\n",
    "            test_loss += loss_fn(pred, y).item()\n",
    "            correct += (pred.argmax(1) == y).type(torch.short).sum().item()  # pred = số mẫu, xác suất. ở mỗi mẫu, argmax(1) trả về vị trí có xác suất cao nhất, là giá trị nó dự đoán. so sánh với y\n",
    "            #chuyển true false về 1 0, trả về giá trị = số mẫu đoán đúng \n",
    "    test_loss /= num_batches \n",
    "    correct /= size #số mẫu đoán đúng trên tổng số mẫu\n",
    "    print(f\"Test Error: \\n Accuracy: {(100*correct):>0.1f}%, Avg loss: {test_loss:>8f} \\n\")"
   ]
  },
  {
   "cell_type": "code",
   "execution_count": 13,
   "id": "2f456fc9",
   "metadata": {},
   "outputs": [
    {
     "name": "stdout",
     "output_type": "stream",
     "text": [
      "torch.Size([64, 1, 28, 28]) torch.Size([64])\n"
     ]
    }
   ],
   "source": [
    "for X,y in train_dataloader:\n",
    "    print(X.shape, y.shape)\n",
    "    break"
   ]
  },
  {
   "cell_type": "code",
   "execution_count": 14,
   "id": "30f016fa",
   "metadata": {},
   "outputs": [
    {
     "name": "stdout",
     "output_type": "stream",
     "text": [
      "Epoch 1\n",
      "-------------------------------\n",
      "loss: 2.295770  [   64/60000]\n",
      "loss: 2.285049  [ 6464/60000]\n",
      "loss: 2.263697  [12864/60000]\n",
      "loss: 2.261185  [19264/60000]\n",
      "loss: 2.240911  [25664/60000]\n",
      "loss: 2.210731  [32064/60000]\n",
      "loss: 2.228424  [38464/60000]\n",
      "loss: 2.188241  [44864/60000]\n",
      "loss: 2.186931  [51264/60000]\n",
      "loss: 2.147897  [57664/60000]\n",
      "Test Error: \n",
      " Accuracy: 44.1%, Avg loss: 2.142941 \n",
      "\n",
      "Epoch 2\n",
      "-------------------------------\n",
      "loss: 2.163229  [   64/60000]\n",
      "loss: 2.148820  [ 6464/60000]\n",
      "loss: 2.096243  [12864/60000]\n",
      "loss: 2.112169  [19264/60000]\n",
      "loss: 2.045548  [25664/60000]\n",
      "loss: 1.992482  [32064/60000]\n",
      "loss: 2.033658  [38464/60000]\n",
      "loss: 1.948190  [44864/60000]\n",
      "loss: 1.959773  [51264/60000]\n",
      "loss: 1.871831  [57664/60000]\n",
      "Test Error: \n",
      " Accuracy: 52.3%, Avg loss: 1.872226 \n",
      "\n",
      "Epoch 3\n",
      "-------------------------------\n",
      "loss: 1.921696  [   64/60000]\n",
      "loss: 1.878871  [ 6464/60000]\n",
      "loss: 1.773262  [12864/60000]\n",
      "loss: 1.812886  [19264/60000]\n",
      "loss: 1.680622  [25664/60000]\n",
      "loss: 1.648010  [32064/60000]\n",
      "loss: 1.683776  [38464/60000]\n",
      "loss: 1.575951  [44864/60000]\n",
      "loss: 1.603300  [51264/60000]\n",
      "loss: 1.492289  [57664/60000]\n",
      "Test Error: \n",
      " Accuracy: 59.1%, Avg loss: 1.505964 \n",
      "\n",
      "Epoch 4\n",
      "-------------------------------\n",
      "loss: 1.588796  [   64/60000]\n",
      "loss: 1.539348  [ 6464/60000]\n",
      "loss: 1.400990  [12864/60000]\n",
      "loss: 1.469228  [19264/60000]\n",
      "loss: 1.338210  [25664/60000]\n",
      "loss: 1.347789  [32064/60000]\n",
      "loss: 1.372803  [38464/60000]\n",
      "loss: 1.286112  [44864/60000]\n",
      "loss: 1.317555  [51264/60000]\n",
      "loss: 1.223741  [57664/60000]\n",
      "Test Error: \n",
      " Accuracy: 63.0%, Avg loss: 1.241193 \n",
      "\n",
      "Epoch 5\n",
      "-------------------------------\n",
      "loss: 1.331792  [   64/60000]\n",
      "loss: 1.301944  [ 6464/60000]\n",
      "loss: 1.147280  [12864/60000]\n",
      "loss: 1.249170  [19264/60000]\n",
      "loss: 1.118410  [25664/60000]\n",
      "loss: 1.152762  [32064/60000]\n",
      "loss: 1.183849  [38464/60000]\n",
      "loss: 1.108693  [44864/60000]\n",
      "loss: 1.143774  [51264/60000]\n",
      "loss: 1.069260  [57664/60000]\n",
      "Test Error: \n",
      " Accuracy: 64.9%, Avg loss: 1.080256 \n",
      "\n",
      "Done!\n"
     ]
    }
   ],
   "source": [
    "epochs = 5\n",
    "for t in range(epochs):\n",
    "    print(f\"Epoch {t+1}\\n-------------------------------\")\n",
    "    train_loop(train_dataloader, model, loss_fn, optimizer)\n",
    "    test_loop(test_dataloader, model, loss_fn)\n",
    "print(\"Done!\")"
   ]
  },
  {
   "cell_type": "markdown",
   "id": "04b37472",
   "metadata": {},
   "source": [
    "#### ***LƯU VÀ TẢI MODEL***"
   ]
  },
  {
   "cell_type": "markdown",
   "id": "ca89b2d4",
   "metadata": {},
   "source": [
    "##### **Cách cơ bản dễ dàng nhưng không khuyến khích, tạo file lưu vào thư mục gốc**"
   ]
  },
  {
   "cell_type": "code",
   "execution_count": 15,
   "id": "f9a51f99",
   "metadata": {},
   "outputs": [
    {
     "name": "stdout",
     "output_type": "stream",
     "text": [
      "Saved PyTorch Model State to model.pth\n"
     ]
    }
   ],
   "source": [
    "torch.save(model.state_dict(), \"model.pth\")\n",
    "print(\"Saved PyTorch Model State to model.pth\")"
   ]
  },
  {
   "cell_type": "markdown",
   "id": "eed6c75d",
   "metadata": {},
   "source": [
    "##### **Cách chuyên nghiệp và thường dùng nhất, tạo folder riêng và lưu vào**  \n",
    "Lý do chỉ lưu state_dict mà không lưu cả model vì khi ta import có thể gây xung đột class với người khác"
   ]
  },
  {
   "cell_type": "code",
   "execution_count": 16,
   "id": "738fda08",
   "metadata": {},
   "outputs": [
    {
     "name": "stdout",
     "output_type": "stream",
     "text": [
      "Save model to {MODEL_SAVE_PATH}\n"
     ]
    }
   ],
   "source": [
    "from pathlib import Path\n",
    "MODEL_PATH = Path('MODELS') # tạo thư mục models chứa các models\n",
    "MODEL_PATH.mkdir(parents=True, exist_ok=True)\n",
    "MODEL_NAME = 'Introduction_Model.pth'\n",
    "MODEL_SAVE_PATH = MODEL_PATH/MODEL_NAME\n",
    "print('Save model to {MODEL_SAVE_PATH}')\n",
    "torch.save(obj = model.state_dict(), f = MODEL_SAVE_PATH)"
   ]
  },
  {
   "cell_type": "markdown",
   "id": "a5ee7859",
   "metadata": {},
   "source": [
    "##### **TẢI MODEL**"
   ]
  },
  {
   "cell_type": "code",
   "execution_count": 17,
   "id": "c4d7eb1c",
   "metadata": {},
   "outputs": [
    {
     "data": {
      "text/plain": [
       "<All keys matched successfully>"
      ]
     },
     "execution_count": 17,
     "metadata": {},
     "output_type": "execute_result"
    }
   ],
   "source": [
    "model = NeuralNetwork().to(device)\n",
    "model.load_state_dict(torch.load(f = MODEL_SAVE_PATH, weights_only=True))"
   ]
  },
  {
   "cell_type": "code",
   "execution_count": 18,
   "id": "00abad23",
   "metadata": {},
   "outputs": [],
   "source": [
    "sample = test_data[0] # mỗi mẫu trong test data là 1 tuple chứa img và label\n",
    "sample_img = sample[0]\n",
    "sample_label = sample[1]"
   ]
  },
  {
   "cell_type": "code",
   "execution_count": 19,
   "id": "1e26a75c",
   "metadata": {},
   "outputs": [
    {
     "name": "stdout",
     "output_type": "stream",
     "text": [
      "<class 'int'>\n",
      "giá trị của pred là xác suất sample nằm trong 1 trong số 10 label\n",
      "trong đó vị trí index = 9 tức ankle boot có xác suất cao nhất là 5.4 nên argmax trả về 9\n",
      "Predicted: \"Ankle boot\", Actual: \"Ankle boot\"\n"
     ]
    }
   ],
   "source": [
    "classes = [\n",
    "    \"T-shirt/top\",\n",
    "    \"Trouser\",\n",
    "    \"Pullover\",\n",
    "    \"Dress\",\n",
    "    \"Coat\",\n",
    "    \"Sandal\",\n",
    "    \"Shirt\",\n",
    "    \"Sneaker\",\n",
    "    \"Bag\",\n",
    "    \"Ankle boot\",\n",
    "]\n",
    "\n",
    "model.eval()\n",
    "\n",
    "with torch.inference_mode():\n",
    "    sample_img = sample_img.to(device)\n",
    "    pred = model(sample_img)\n",
    "    id = pred.argmax().item()\n",
    "    print(type(id))\n",
    "    print('giá trị của pred là xác suất sample nằm trong 1 trong số 10 label')\n",
    "    print('trong đó vị trí index = 9 tức ankle boot có xác suất cao nhất là 5.4 nên argmax trả về 9')\n",
    "    predicted, actual = classes[id], classes[sample_label]\n",
    "    print(f'Predicted: \"{predicted}\", Actual: \"{actual}\"')"
   ]
  }
 ],
 "metadata": {
  "kernelspec": {
   "display_name": "Python (ml_env)",
   "language": "python",
   "name": "ml_env"
  },
  "language_info": {
   "codemirror_mode": {
    "name": "ipython",
    "version": 3
   },
   "file_extension": ".py",
   "mimetype": "text/x-python",
   "name": "python",
   "nbconvert_exporter": "python",
   "pygments_lexer": "ipython3",
   "version": "3.11.13"
  }
 },
 "nbformat": 4,
 "nbformat_minor": 5
}
