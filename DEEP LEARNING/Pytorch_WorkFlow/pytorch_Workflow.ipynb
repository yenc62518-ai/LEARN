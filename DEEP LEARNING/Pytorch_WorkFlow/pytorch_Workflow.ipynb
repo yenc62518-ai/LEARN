{
 "cells": [
  {
   "cell_type": "markdown",
   "id": "cef7d84d",
   "metadata": {},
   "source": [
    "#### ***what_were_covering*** =  \n",
    "{   \n",
    ">    1: \"data (prepare and load)\",  \n",
    "    2: \"build model\",  \n",
    "    3: \"fitting the model to data (training)\",  \n",
    "    4: \"making predictions and evaluating a model (inference)\",  \n",
    "    5: \"saving and loading a model\",  \n",
    "    6: \"putting it all together\"  \n",
    "    \n",
    "}"
   ]
  },
  {
   "cell_type": "code",
   "execution_count": 2,
   "id": "b93fca63",
   "metadata": {},
   "outputs": [
    {
     "data": {
      "text/plain": [
       "'2.8.0+cu129'"
      ]
     },
     "execution_count": 2,
     "metadata": {},
     "output_type": "execute_result"
    }
   ],
   "source": [
    "import torch\n",
    "from torch import nn\n",
    "import matplotlib.pyplot as plt\n",
    "torch.__version__"
   ]
  },
  {
   "cell_type": "markdown",
   "id": "ec98fc13",
   "metadata": {},
   "source": [
    "#### ***ĐOẠN CODE MÔ TẢ CLASS NN.LINEAR NHƯNG ĐỐI VỚI HÀM TUYẾN TÍNH 1 ĐẦU VÀO 1 ĐẦU RA****\n"
   ]
  },
  {
   "cell_type": "code",
   "execution_count": null,
   "id": "b5dacdab",
   "metadata": {},
   "outputs": [],
   "source": [
    "# Create a Linear Regression model class\n",
    "class LinearRegressionModel(nn.Module): # <- almost everything in PyTorch is a nn.Module (think of this as neural network lego blocks)\n",
    "    def __init__(self):\n",
    "        super().__init__() \n",
    "        self.weights = nn.Parameter(torch.randn(1, # <- start with random weights (this will get adjusted as the model learns)\n",
    "                                                dtype=torch.float), # <- PyTorch loves float32 by default\n",
    "                                   requires_grad=True) # <- can we update this value with gradient descent?)\n",
    "\n",
    "        self.bias = nn.Parameter(torch.randn(1, # <- start with random bias (this will get adjusted as the model learns)\n",
    "                                            dtype=torch.float), # <- PyTorch loves float32 by default\n",
    "                                requires_grad=True) # <- can we update this value with gradient descent?))\n",
    "\n",
    "    # Forward defines the computation in the model\n",
    "    def forward(self, x: torch.Tensor) -> torch.Tensor: # <- \"x\" is the input data (e.g. training/testing features)\n",
    "        return self.weights * x + self.bias # <- this is the linear regression formula (y = m*x + b)\n"
   ]
  },
  {
   "cell_type": "code",
   "execution_count": null,
   "id": "59ad66fe",
   "metadata": {},
   "outputs": [
    {
     "data": {
      "text/plain": [
       "[Parameter containing:\n",
       " tensor([1.5410], requires_grad=True),\n",
       " Parameter containing:\n",
       " tensor([-0.2934], requires_grad=True)]"
      ]
     },
     "execution_count": 8,
     "metadata": {},
     "output_type": "execute_result"
    }
   ],
   "source": [
    "torch.manual_seed(0)\n",
    "model_0 = LinearRegressionModel()\n",
    "list(model_0.parameters()) # kiểm tra parameters    "
   ]
  },
  {
   "cell_type": "code",
   "execution_count": null,
   "id": "014b7d99",
   "metadata": {},
   "outputs": [
    {
     "data": {
      "text/plain": [
       "OrderedDict([('weights', tensor([1.5410])), ('bias', tensor([-0.2934]))])"
      ]
     },
     "execution_count": 9,
     "metadata": {},
     "output_type": "execute_result"
    }
   ],
   "source": [
    "model_0.state_dict() # kiểm tra parameters"
   ]
  }
 ],
 "metadata": {
  "kernelspec": {
   "display_name": "Python (ml_env)",
   "language": "python",
   "name": "ml_env"
  },
  "language_info": {
   "codemirror_mode": {
    "name": "ipython",
    "version": 3
   },
   "file_extension": ".py",
   "mimetype": "text/x-python",
   "name": "python",
   "nbconvert_exporter": "python",
   "pygments_lexer": "ipython3",
   "version": "3.11.13"
  }
 },
 "nbformat": 4,
 "nbformat_minor": 5
}
