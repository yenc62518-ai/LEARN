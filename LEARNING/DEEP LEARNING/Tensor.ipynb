{
 "cells": [
  {
   "cell_type": "code",
   "execution_count": 14,
   "id": "a2d8f257",
   "metadata": {},
   "outputs": [
    {
     "data": {
      "text/plain": [
       "'2.8.0+cu129'"
      ]
     },
     "execution_count": 14,
     "metadata": {},
     "output_type": "execute_result"
    }
   ],
   "source": [
    "import torch\n",
    "import numpy as np\n",
    "torch.__version__"
   ]
  },
  {
   "cell_type": "markdown",
   "id": "ae1f48e5",
   "metadata": {},
   "source": [
    "KHỞI TẠO TENSOR:  \n",
    "***torch.tensor(n, device = X, dtype = Y)*** với n là giá trị khởi tạo của tensor, X là cuda/cpu, y là torch.dtype  \n",
    "***tensor.ndim*** : chiều của tensor, ndim là một attribute của scalar  \n",
    "***tensor.item()*** : trả về giá trị của tensor, đây là 1 phương thức   \n",
    "***tensor.shape*** : trả về kích thước của tensor, là một attribute  "
   ]
  },
  {
   "cell_type": "code",
   "execution_count": 15,
   "id": "71448e4b",
   "metadata": {},
   "outputs": [
    {
     "name": "stdout",
     "output_type": "stream",
     "text": [
      "0 tensor(7) 7\n",
      "1\n",
      "2\n",
      "3 torch.Size([2, 2, 2])\n",
      "tensor([[97, 92, 53],\n",
      "        [14, 22, 61],\n",
      "        [79, 71, 41]], dtype=torch.int32) 2\n"
     ]
    }
   ],
   "source": [
    "scalar = torch.tensor(7)\n",
    "print(scalar.ndim, scalar, scalar.item())\n",
    "vector = torch.tensor([2,3])\n",
    "print(vector.ndim)\n",
    "plane = torch.tensor([[1,2], [3,4]])\n",
    "print(plane.ndim)\n",
    "object = torch.tensor([[[1,3],[2,4]],\n",
    "                       [[2,3],[1,6]]]) # tensor bậc 3\n",
    "print(object.ndim, object.shape)\n",
    "np_matrix = np.random.randint(0,100,size = 9).reshape(3,3)\n",
    "tensor_matrix = torch.tensor(np_matrix)\n",
    "print(tensor_matrix, tensor_matrix.ndim)\n"
   ]
  },
  {
   "cell_type": "code",
   "execution_count": 16,
   "id": "4aa320d2",
   "metadata": {},
   "outputs": [],
   "source": [
    "cuda0 = torch.device('cuda:0')\n",
    "gpu_tensor = torch.ones([2,4], dtype = torch.short, device = cuda0)"
   ]
  },
  {
   "cell_type": "code",
   "execution_count": 17,
   "id": "4ee0423b",
   "metadata": {},
   "outputs": [
    {
     "data": {
      "text/plain": [
       "device(type='cuda', index=0)"
      ]
     },
     "execution_count": 17,
     "metadata": {},
     "output_type": "execute_result"
    }
   ],
   "source": [
    "gpu_tensor.device"
   ]
  },
  {
   "cell_type": "markdown",
   "id": "5ff8f596",
   "metadata": {},
   "source": [
    "Tạo random tensor:  \n",
    "***torch.rand(size = (m,n))***  \n",
    "Tạo zeros/ones tensor:   \n",
    "***torch.zeros(size = (m,n))***   \n",
    "Tạo tensor phân bổ:  \n",
    "***torch.arange(start, end, step)***  \n",
    "Tạo zeros tensor với kích thước bằng tensor khác:  \n",
    "***torch.zeros_like(input)***  "
   ]
  },
  {
   "cell_type": "code",
   "execution_count": 18,
   "id": "fcf258f9",
   "metadata": {},
   "outputs": [
    {
     "name": "stdout",
     "output_type": "stream",
     "text": [
      "torch.Size([3, 3, 3, 3]) 4\n",
      "tensor([[0, 0, 0],\n",
      "        [0, 0, 0],\n",
      "        [0, 0, 0]], dtype=torch.int16)\n",
      "tensor([ 0,  2,  4,  6,  8, 10])\n",
      "tensor([0, 0, 0, 0, 0, 0])\n"
     ]
    }
   ],
   "source": [
    "rd_tensor = torch.rand(size = (3,3,3,3))*100\n",
    "print(rd_tensor.shape, rd_tensor.ndim)\n",
    "zeros = torch.zeros(size = (3,3), dtype = torch.short)\n",
    "print(zeros)\n",
    "even = torch.arange(0,11,2)\n",
    "print(even)\n",
    "zeros_even = torch.zeros_like(even)\n",
    "print(zeros_even)"
   ]
  },
  {
   "cell_type": "markdown",
   "id": "7a5dd859",
   "metadata": {},
   "source": [
    "3 lệnh quan trọng để xử lý tensor là dtype trả về kiểu dữ liệu, shape trả về kích thước và device trả về CPU/GPU"
   ]
  },
  {
   "cell_type": "code",
   "execution_count": 19,
   "id": "3c1326b1",
   "metadata": {},
   "outputs": [
    {
     "name": "stdout",
     "output_type": "stream",
     "text": [
      "rd_tensor có kích thước torch.Size([3, 3, 3, 3])\n",
      "loại dữ liệu torch.float32 \n",
      "thuộc cpu\n"
     ]
    }
   ],
   "source": [
    "print(f'rd_tensor có kích thước {rd_tensor.shape}\\nloại dữ liệu {rd_tensor.dtype} \\nthuộc {rd_tensor.device}')"
   ]
  },
  {
   "cell_type": "markdown",
   "id": "531c56e9",
   "metadata": {},
   "source": [
    "***TENSOR OPERATIONS*** : cộng, trừ, nhân lần lượt, chia, nhân ma trận"
   ]
  },
  {
   "cell_type": "code",
   "execution_count": 20,
   "id": "5a0e19ab",
   "metadata": {},
   "outputs": [
    {
     "name": "stdout",
     "output_type": "stream",
     "text": [
      "tensor([1, 2, 3, 4, 5])\n",
      "tensor([11, 12, 13, 14, 15])\n"
     ]
    }
   ],
   "source": [
    "t1 = torch.arange(1,6)\n",
    "t2 = torch.arange(11,16)\n",
    "print(t1)\n",
    "print(t2)"
   ]
  },
  {
   "cell_type": "code",
   "execution_count": 21,
   "id": "629cc4d0",
   "metadata": {},
   "outputs": [
    {
     "name": "stdout",
     "output_type": "stream",
     "text": [
      "sum: tensor([12, 14, 16, 18, 20])\n",
      "ele_wise_mul: tensor([11, 24, 39, 56, 75])\n",
      "mat_mul: 205\n"
     ]
    }
   ],
   "source": [
    "sum = torch.add(t1,t2) # +\n",
    "ele_wise_mul = torch.mul(t1,t2) # *\n",
    "mat_mul = torch.matmul(t1,t2) # @\n",
    "print(f\"sum: {sum}\\nele_wise_mul: {ele_wise_mul}\\nmat_mul: {mat_mul}\")"
   ]
  },
  {
   "cell_type": "markdown",
   "id": "7c8732b8",
   "metadata": {},
   "source": [
    "Phép nhân ma trận @ có các quy tắc về chiều và kích thước của ma trận. *Trong đó số cột M1 phải bằng số hàng M2*  \n",
    "Tức cho M1(m,n) và M2(p,q) thì M1xM2 phải thỏa **m=q** và trả về ma trận kích thước **(m,q)**  \n",
    "**Quy tắc Inner-Dim** : 2 số phía trong bằng nhau"
   ]
  },
  {
   "cell_type": "markdown",
   "id": "58cbb27f",
   "metadata": {},
   "source": [
    "Trong NN, output y và input x liên hệ với nhau theo công thức :  \n",
    "***y = x.W^T + b***  \n",
    "trong đó W là ma trận trọng số, b là vector bias  \n"
   ]
  },
  {
   "cell_type": "code",
   "execution_count": 22,
   "id": "1c9004a7",
   "metadata": {},
   "outputs": [
    {
     "data": {
      "text/plain": [
       "torch.Size([3, 2])"
      ]
     },
     "execution_count": 22,
     "metadata": {},
     "output_type": "execute_result"
    }
   ],
   "source": [
    "torch.manual_seed(1)\n",
    "linear = torch.nn.Linear(in_features=2,  # Số chiều vector của Tensor đầu vào \n",
    "                         out_features=6) # Số chiều vector đầu ra \n",
    "tensor_A = torch.tensor([[1, 2],\n",
    "                         [3, 4],\n",
    "                         [5, 6]], dtype=torch.float) \n",
    "output = linear(tensor_A)\n",
    "tensor_A.shape"
   ]
  },
  {
   "cell_type": "code",
   "execution_count": 23,
   "id": "c36088e2",
   "metadata": {},
   "outputs": [
    {
     "data": {
      "text/plain": [
       "(tensor([[-0.0016,  0.2511,  0.1309,  0.5103,  0.0276,  0.2631],\n",
       "         [ 0.1029,  0.6408, -0.3524,  0.9389,  0.0511,  0.7251],\n",
       "         [ 0.2074,  1.0304, -0.8357,  1.3674,  0.0745,  1.1871]],\n",
       "        grad_fn=<AddmmBackward0>),\n",
       " torch.Size([3, 6]))"
      ]
     },
     "execution_count": 23,
     "metadata": {},
     "output_type": "execute_result"
    }
   ],
   "source": [
    "output, output.shape"
   ]
  },
  {
   "cell_type": "markdown",
   "id": "a6b63f6a",
   "metadata": {},
   "source": [
    "Linear tạo ra lớp tuyến tính  \n",
    "**Quy trình làm việc** : *y = tensor_A(3x2) @ W(6x2)^T + b(6)*  \n",
    "trong đó, sau khi tensor_A @ W^T sẽ ra ma trận 3x6, sau đó cộng với b"
   ]
  },
  {
   "cell_type": "markdown",
   "id": "f6eefd48",
   "metadata": {},
   "source": [
    "***TENSOR AGGREGATION***"
   ]
  },
  {
   "cell_type": "code",
   "execution_count": 24,
   "id": "1d2b5961",
   "metadata": {},
   "outputs": [
    {
     "name": "stdout",
     "output_type": "stream",
     "text": [
      "t1 : tensor([1., 2., 3., 4., 5.]) \n",
      "mean : 3.0\n",
      "min: 1.0 \n",
      "max: 5.0\n",
      "sum: 15.0\n"
     ]
    }
   ],
   "source": [
    "t1 = t1.type(torch.float)\n",
    "print(f\"t1 : {t1} \\nmean : {t1.mean()}\\nmin: {t1.min()} \\nmax: {t1.max()}\\nsum: {t1.sum()}\")"
   ]
  },
  {
   "cell_type": "markdown",
   "id": "d9a89220",
   "metadata": {},
   "source": [
    "***POSITIONAL MIN/MAX***  \n",
    "Các hàm ***tensor.argmax()*** và ***tensor.argmin()*** được dùng để trả về index của max và min"
   ]
  },
  {
   "cell_type": "code",
   "execution_count": 25,
   "id": "bcf83d00",
   "metadata": {},
   "outputs": [
    {
     "data": {
      "text/plain": [
       "(tensor(4), tensor(0))"
      ]
     },
     "execution_count": 25,
     "metadata": {},
     "output_type": "execute_result"
    }
   ],
   "source": [
    "t1.argmax(), t1.argmin()"
   ]
  },
  {
   "cell_type": "markdown",
   "id": "956056fd",
   "metadata": {},
   "source": [
    "***HÀM XỬ LÝ KHÔNG GIAN***: reshape(input, shape),  \n",
    "*stack*: ghép các tensor lại theo 1 chiều mới,   \n",
    "*squeeze*: loại bỏ chiều có giá trị = 1 (như 1 hàng, 1 cột, 1 độ cao)  \n",
    "*unsqueeze*: thêm chiều bằng 1 "
   ]
  },
  {
   "cell_type": "code",
   "execution_count": 26,
   "id": "b5d3e4a0",
   "metadata": {},
   "outputs": [
    {
     "data": {
      "text/plain": [
       "(tensor([[3, 7, 1],\n",
       "         [7, 3, 4],\n",
       "         [7, 8, 4],\n",
       "         [9, 1, 6]], device='cuda:0'),\n",
       " tensor([[4, 7, 7],\n",
       "         [3, 4, 5],\n",
       "         [6, 1, 1],\n",
       "         [7, 3, 2]], device='cuda:0'))"
      ]
     },
     "execution_count": 26,
     "metadata": {},
     "output_type": "execute_result"
    }
   ],
   "source": [
    "torch.manual_seed(42)\n",
    "tensor1 = torch.randint(1,10, size = (4,3), device = cuda0)\n",
    "tensor2 = torch.randint(1,10, size = (4,3), device = cuda0)\n",
    "tensor1, tensor2"
   ]
  },
  {
   "cell_type": "code",
   "execution_count": 27,
   "id": "1bae6576",
   "metadata": {},
   "outputs": [
    {
     "name": "stdout",
     "output_type": "stream",
     "text": [
      "tensor([[3, 7, 1, 7, 3, 4],\n",
      "        [7, 8, 4, 9, 1, 6]], device='cuda:0')\n",
      "torch.Size([4, 3, 2])\n",
      "torch.Size([4, 2, 3])\n",
      "torch.Size([2, 4, 3])\n"
     ]
    }
   ],
   "source": [
    "print(torch.reshape(tensor1, [2,6]))\n",
    "dim0 = torch.stack([tensor1, tensor2])\n",
    "dim1 = torch.stack((tensor1, tensor2),1)\n",
    "dim2 = torch.stack((tensor1, tensor2),2)\n",
    "print(dim2.shape)\n",
    "print(dim1.shape)\n",
    "print(dim0.shape)"
   ]
  },
  {
   "cell_type": "code",
   "execution_count": 28,
   "id": "24ffc8d0",
   "metadata": {},
   "outputs": [
    {
     "name": "stdout",
     "output_type": "stream",
     "text": [
      "tensor([[[3, 7, 1],\n",
      "         [7, 3, 4],\n",
      "         [7, 8, 4],\n",
      "         [9, 1, 6]],\n",
      "\n",
      "        [[3, 7, 1],\n",
      "         [7, 3, 4],\n",
      "         [7, 8, 4],\n",
      "         [9, 1, 6]],\n",
      "\n",
      "        [[3, 7, 1],\n",
      "         [7, 3, 4],\n",
      "         [7, 8, 4],\n",
      "         [9, 1, 6]]], device='cuda:0')\n",
      "tensor([[3, 7, 1],\n",
      "        [7, 3, 4],\n",
      "        [7, 8, 4],\n",
      "        [9, 1, 6]], device='cuda:0')\n",
      "tensor([[[3, 7, 1],\n",
      "         [7, 3, 4],\n",
      "         [7, 8, 4],\n",
      "         [9, 1, 6]]], device='cuda:0')\n"
     ]
    }
   ],
   "source": [
    "stacked_tensor1 = torch.stack([tensor1,tensor1,tensor1])\n",
    "print(stacked_tensor1)\n",
    "print(tensor1)\n",
    "print(tensor1.unsqueeze(dim=0))"
   ]
  },
  {
   "cell_type": "markdown",
   "id": "7637de7c",
   "metadata": {},
   "source": [
    "**INDEXING AND SLICING**"
   ]
  },
  {
   "cell_type": "code",
   "execution_count": 29,
   "id": "26292e2b",
   "metadata": {},
   "outputs": [
    {
     "data": {
      "text/plain": [
       "tensor([[[3, 7, 1, 7],\n",
       "         [3, 4, 7, 8],\n",
       "         [4, 9, 1, 6]],\n",
       "\n",
       "        [[3, 7, 1, 7],\n",
       "         [3, 4, 7, 8],\n",
       "         [4, 9, 1, 6]],\n",
       "\n",
       "        [[3, 7, 1, 7],\n",
       "         [3, 4, 7, 8],\n",
       "         [4, 9, 1, 6]]], device='cuda:0')"
      ]
     },
     "execution_count": 29,
     "metadata": {},
     "output_type": "execute_result"
    }
   ],
   "source": [
    "x = torch.reshape(tensor1, shape = (3,4))\n",
    "x_3d = torch.stack([x,x,x])\n",
    "x_3d"
   ]
  },
  {
   "cell_type": "code",
   "execution_count": 30,
   "id": "4fca28ad",
   "metadata": {},
   "outputs": [
    {
     "name": "stdout",
     "output_type": "stream",
     "text": [
      "First square bracket:\n",
      "tensor([[3, 7, 1, 7],\n",
      "        [3, 4, 7, 8],\n",
      "        [4, 9, 1, 6]], device='cuda:0')\n",
      "Đây là batch số 0\n",
      "\n",
      "Second square bracket: tensor([3, 7, 1, 7], device='cuda:0')\n",
      "Đây là cột số 0 của batch số 0\n",
      "\n",
      "Third square bracket: 3\n",
      "Đây là giá trị thứ 0 của cột số 0 của batch số 0\n"
     ]
    }
   ],
   "source": [
    "print(f\"First square bracket:\\n{x_3d[0]}\\nĐây là batch số 0\\n\") \n",
    "print(f\"Second square bracket: {x_3d[0][0]}\\nĐây là cột số 0 của batch số 0\\n\") \n",
    "print(f\"Third square bracket: {x_3d[0][0][0]}\\nĐây là giá trị thứ 0 của cột số 0 của batch số 0\")\n"
   ]
  },
  {
   "cell_type": "code",
   "execution_count": 31,
   "id": "4022e971",
   "metadata": {},
   "outputs": [
    {
     "name": "stdout",
     "output_type": "stream",
     "text": [
      "tensor([[[3, 7, 1, 7],\n",
      "         [3, 4, 7, 8],\n",
      "         [4, 9, 1, 6]],\n",
      "\n",
      "        [[3, 7, 1, 7],\n",
      "         [3, 4, 7, 8],\n",
      "         [4, 9, 1, 6]],\n",
      "\n",
      "        [[3, 7, 1, 7],\n",
      "         [3, 4, 7, 8],\n",
      "         [4, 9, 1, 6]]], device='cuda:0')\n",
      "\n",
      "\n",
      "Lấy batch số 0: \n",
      "tensor([[3, 7, 1, 7],\n",
      "        [3, 4, 7, 8],\n",
      "        [4, 9, 1, 6]], device='cuda:0'), \n",
      "\n",
      "Lấy hàng số 0-1 của cột số 1-2 của batch số 1:\n",
      "tensor([[7, 1],\n",
      "        [4, 7]], device='cuda:0')\n"
     ]
    }
   ],
   "source": [
    "print(f\"{x_3d}\\n\\n\")\n",
    "print(f\"Lấy batch số 0: \\n{x_3d[0,:,:]}, \\n\\nLấy hàng số 0-1 của cột số 1-2 của batch số 1:\\n{x_3d[1,0:2,1:3]}\")"
   ]
  },
  {
   "cell_type": "markdown",
   "id": "3e211e07",
   "metadata": {},
   "source": [
    "***REPRODUCIBILITY***  \n",
    "torch.manual_seed(seed) dùng để cố định tính ngẫu nhiên"
   ]
  },
  {
   "cell_type": "markdown",
   "id": "e7673893",
   "metadata": {},
   "source": [
    "***KÍCH HOẠT TORCH TRÊN GPU***  \n",
    "khởi tạo **cuda0 = torch.device('cuda:0')** trước để định vị cuda0   \n",
    "**gpu_tensor = torch.ones([2,4], dtype = torch.short, device = cuda0)**  \n",
    "kết quả ta có gpu_tensor có khả năng xử lý bằng gpu  \n",
    "Để chuyển 1 tensor có sẵn sang GPU/CPU ta dùng : **some_tensor.to(device)**  \n",
    "VD: **gpu_tensor = cpu_tensor.to(cuda0)**"
   ]
  },
  {
   "cell_type": "code",
   "execution_count": 32,
   "id": "c9a941a2",
   "metadata": {},
   "outputs": [
    {
     "name": "stdout",
     "output_type": "stream",
     "text": [
      "cpu cuda:0\n"
     ]
    }
   ],
   "source": [
    "cpu_tensor = torch.ones(size = (4,2))\n",
    "gpu_tensor = cpu_tensor.to(cuda0)\n",
    "print(cpu_tensor.device, gpu_tensor.device)"
   ]
  }
 ],
 "metadata": {
  "kernelspec": {
   "display_name": "Python (ml_env)",
   "language": "python",
   "name": "ml_env"
  },
  "language_info": {
   "codemirror_mode": {
    "name": "ipython",
    "version": 3
   },
   "file_extension": ".py",
   "mimetype": "text/x-python",
   "name": "python",
   "nbconvert_exporter": "python",
   "pygments_lexer": "ipython3",
   "version": "3.11.13"
  }
 },
 "nbformat": 4,
 "nbformat_minor": 5
}
