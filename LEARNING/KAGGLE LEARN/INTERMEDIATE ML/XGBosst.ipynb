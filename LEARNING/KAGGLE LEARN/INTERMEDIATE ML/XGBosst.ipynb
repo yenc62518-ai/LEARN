{
 "cells": [
  {
   "cell_type": "markdown",
   "id": "c2e6555b",
   "metadata": {},
   "source": [
    "***XG BOOST / GRADIENT BOOSTING - Kaggle Competitions Dominator*** \n"
   ]
  },
  {
   "cell_type": "markdown",
   "id": "dbdda159",
   "metadata": {},
   "source": [
    "Ta đã được học về Random Forest - 1 ensemble model xây dựng dựa trên Decision Tree. Về cơ bản, ensemble model là tổng hợp kết quả trung bình của các model con.  \n",
    "XG Boost chính là 1 ensemble   \n",
    "\n",
    "**XGBoost là một thuật toán boosting: bắt đầu từ dự đoán gốc, rồi lần lượt thêm các cây quyết định. Mỗi cây mới học trên gradient và hessian (đạo hàm bậc 1 v2 2) của hàm mất mát (loss function - tương tự MAE) ở bước trước, nhờ đó giảm dần sai số qua từng vòng lặp. Các tham số do người dùng đặt sẽ quyết định cách mô hình cập nhật, tốc độ hội tụ và khả năng tránh overfitting.**\n"
   ]
  },
  {
   "cell_type": "code",
   "execution_count": 116,
   "id": "f98e46e0",
   "metadata": {},
   "outputs": [],
   "source": [
    "import pandas as pd\n",
    "import numpy as np"
   ]
  },
  {
   "cell_type": "code",
   "execution_count": 117,
   "id": "ce8722c7",
   "metadata": {},
   "outputs": [],
   "source": [
    "raw_train = pd.read_csv('./train.csv')\n",
    "raw_test = pd.read_csv('./test.csv')\n",
    "y = raw_train['SalePrice']"
   ]
  },
  {
   "cell_type": "code",
   "execution_count": 118,
   "id": "a58e1ba1",
   "metadata": {},
   "outputs": [],
   "source": [
    "from sklearn.preprocessing import OneHotEncoder\n",
    "from sklearn.compose import ColumnTransformer\n",
    "from sklearn.impute import SimpleImputer\n",
    "from sklearn.pipeline import Pipeline"
   ]
  },
  {
   "cell_type": "code",
   "execution_count": 119,
   "id": "a45342c7",
   "metadata": {},
   "outputs": [],
   "source": [
    "train = raw_train.copy()\n",
    "train.drop('SalePrice', axis = 1, inplace = True)"
   ]
  },
  {
   "cell_type": "code",
   "execution_count": 120,
   "id": "f6426d74",
   "metadata": {},
   "outputs": [],
   "source": [
    "num_col = train.select_dtypes(include = ['float', 'int'])\n",
    "cat_col = train.select_dtypes(include = 'object')"
   ]
  },
  {
   "cell_type": "code",
   "execution_count": 121,
   "id": "9072e98b",
   "metadata": {},
   "outputs": [],
   "source": [
    "num_col = num_col.columns\n",
    "cat_col = cat_col.columns"
   ]
  },
  {
   "cell_type": "markdown",
   "id": "dfa76c98",
   "metadata": {},
   "source": [
    "Setup các *Preprocessing Method*  \n",
    "***Pipeline*** : impute và onehot cho các cột categorical  \n",
    "  Pipeline sẽ đi từng bước trong steps -> imputer -> onehot\n",
    "\n",
    "***CT*** : nếu Pipeline là gom các preprocessing method thành bundle, thì CT sẽ gom các cột cần preprocessed thành bundle"
   ]
  },
  {
   "cell_type": "code",
   "execution_count": 122,
   "id": "c808251f",
   "metadata": {},
   "outputs": [],
   "source": [
    "numerical_pp = SimpleImputer(strategy='mean')\n",
    "categorical_pp = Pipeline(steps = [\n",
    "    ('imputer', SimpleImputer(strategy = 'most_frequent')),\n",
    "    ('onehot', OneHotEncoder(handle_unknown='ignore', sparse_output=False))\n",
    "    ])\n",
    "preprocessor = ColumnTransformer(\n",
    "    transformers = [\n",
    "    ('num', numerical_pp, num_col),\n",
    "    ('cate', categorical_pp, cat_col)\n",
    "], remainder='passthrough')"
   ]
  },
  {
   "cell_type": "code",
   "execution_count": 123,
   "id": "e626dc0b",
   "metadata": {},
   "outputs": [],
   "source": [
    "from sklearn.model_selection import train_test_split\n",
    "x_train, x_val, y_train, y_val = train_test_split(train, y)"
   ]
  },
  {
   "cell_type": "code",
   "execution_count": 124,
   "id": "9dad135c",
   "metadata": {},
   "outputs": [],
   "source": [
    "from sklearn.ensemble import RandomForestRegressor\n",
    "RFR = RandomForestRegressor(random_state=1, max_leaf_nodes=250, max_depth=7)"
   ]
  },
  {
   "cell_type": "markdown",
   "id": "5dfc3a09",
   "metadata": {},
   "source": [
    "Output của pipeline categorical_PP là transformed data. Đây còn gọi là sub-pipeline\n",
    "\n",
    "Output của PLP là prediction của model : preprocessing -> model. Đây là end-to-end pipeline"
   ]
  },
  {
   "cell_type": "code",
   "execution_count": 125,
   "id": "c3317ea0",
   "metadata": {},
   "outputs": [],
   "source": [
    "PLP = Pipeline(steps = [\n",
    "    ('preprocessor', preprocessor),\n",
    "    ('model', RandomForestRegressor(max_leaf_nodes=13, max_depth=10))\n",
    "])\n",
    "PLP.fit(x_train, y_train) \n",
    "PLP_pred = PLP.predict(x_val)\n"
   ]
  },
  {
   "cell_type": "markdown",
   "id": "3fceca36",
   "metadata": {},
   "source": [
    "Import XGBoost  \n",
    "Trong xgboost phân ra các model : XGB - Regressor/Classifier : XGB cơ bản  \n",
    "                                  XGBRF : Random Forest dùng thuật toán XGB\n"
   ]
  },
  {
   "cell_type": "markdown",
   "id": "8b51ca68",
   "metadata": {},
   "source": [
    "split training set để tạo train subset và validation subset (phục vụ cho early stopping round và eval set)"
   ]
  },
  {
   "cell_type": "code",
   "execution_count": 126,
   "id": "5eaecc57",
   "metadata": {},
   "outputs": [
    {
     "data": {
      "application/vnd.microsoft.datawrangler.viewer.v0+json": {
       "columns": [
        {
         "name": "index",
         "rawType": "int64",
         "type": "integer"
        },
        {
         "name": "Id",
         "rawType": "int64",
         "type": "integer"
        },
        {
         "name": "MSSubClass",
         "rawType": "int64",
         "type": "integer"
        },
        {
         "name": "MSZoning",
         "rawType": "object",
         "type": "string"
        },
        {
         "name": "LotFrontage",
         "rawType": "float64",
         "type": "float"
        },
        {
         "name": "LotArea",
         "rawType": "int64",
         "type": "integer"
        },
        {
         "name": "Street",
         "rawType": "object",
         "type": "string"
        },
        {
         "name": "Alley",
         "rawType": "object",
         "type": "unknown"
        },
        {
         "name": "LotShape",
         "rawType": "object",
         "type": "string"
        },
        {
         "name": "LandContour",
         "rawType": "object",
         "type": "string"
        },
        {
         "name": "Utilities",
         "rawType": "object",
         "type": "string"
        },
        {
         "name": "LotConfig",
         "rawType": "object",
         "type": "string"
        },
        {
         "name": "LandSlope",
         "rawType": "object",
         "type": "string"
        },
        {
         "name": "Neighborhood",
         "rawType": "object",
         "type": "string"
        },
        {
         "name": "Condition1",
         "rawType": "object",
         "type": "string"
        },
        {
         "name": "Condition2",
         "rawType": "object",
         "type": "string"
        },
        {
         "name": "BldgType",
         "rawType": "object",
         "type": "string"
        },
        {
         "name": "HouseStyle",
         "rawType": "object",
         "type": "string"
        },
        {
         "name": "OverallQual",
         "rawType": "int64",
         "type": "integer"
        },
        {
         "name": "OverallCond",
         "rawType": "int64",
         "type": "integer"
        },
        {
         "name": "YearBuilt",
         "rawType": "int64",
         "type": "integer"
        },
        {
         "name": "YearRemodAdd",
         "rawType": "int64",
         "type": "integer"
        },
        {
         "name": "RoofStyle",
         "rawType": "object",
         "type": "string"
        },
        {
         "name": "RoofMatl",
         "rawType": "object",
         "type": "string"
        },
        {
         "name": "Exterior1st",
         "rawType": "object",
         "type": "string"
        },
        {
         "name": "Exterior2nd",
         "rawType": "object",
         "type": "string"
        },
        {
         "name": "MasVnrType",
         "rawType": "object",
         "type": "unknown"
        },
        {
         "name": "MasVnrArea",
         "rawType": "float64",
         "type": "float"
        },
        {
         "name": "ExterQual",
         "rawType": "object",
         "type": "string"
        },
        {
         "name": "ExterCond",
         "rawType": "object",
         "type": "string"
        },
        {
         "name": "Foundation",
         "rawType": "object",
         "type": "string"
        },
        {
         "name": "BsmtQual",
         "rawType": "object",
         "type": "string"
        },
        {
         "name": "BsmtCond",
         "rawType": "object",
         "type": "string"
        },
        {
         "name": "BsmtExposure",
         "rawType": "object",
         "type": "string"
        },
        {
         "name": "BsmtFinType1",
         "rawType": "object",
         "type": "string"
        },
        {
         "name": "BsmtFinSF1",
         "rawType": "int64",
         "type": "integer"
        },
        {
         "name": "BsmtFinType2",
         "rawType": "object",
         "type": "string"
        },
        {
         "name": "BsmtFinSF2",
         "rawType": "int64",
         "type": "integer"
        },
        {
         "name": "BsmtUnfSF",
         "rawType": "int64",
         "type": "integer"
        },
        {
         "name": "TotalBsmtSF",
         "rawType": "int64",
         "type": "integer"
        },
        {
         "name": "Heating",
         "rawType": "object",
         "type": "string"
        },
        {
         "name": "HeatingQC",
         "rawType": "object",
         "type": "string"
        },
        {
         "name": "CentralAir",
         "rawType": "object",
         "type": "string"
        },
        {
         "name": "Electrical",
         "rawType": "object",
         "type": "string"
        },
        {
         "name": "1stFlrSF",
         "rawType": "int64",
         "type": "integer"
        },
        {
         "name": "2ndFlrSF",
         "rawType": "int64",
         "type": "integer"
        },
        {
         "name": "LowQualFinSF",
         "rawType": "int64",
         "type": "integer"
        },
        {
         "name": "GrLivArea",
         "rawType": "int64",
         "type": "integer"
        },
        {
         "name": "BsmtFullBath",
         "rawType": "int64",
         "type": "integer"
        },
        {
         "name": "BsmtHalfBath",
         "rawType": "int64",
         "type": "integer"
        },
        {
         "name": "FullBath",
         "rawType": "int64",
         "type": "integer"
        },
        {
         "name": "HalfBath",
         "rawType": "int64",
         "type": "integer"
        },
        {
         "name": "BedroomAbvGr",
         "rawType": "int64",
         "type": "integer"
        },
        {
         "name": "KitchenAbvGr",
         "rawType": "int64",
         "type": "integer"
        },
        {
         "name": "KitchenQual",
         "rawType": "object",
         "type": "string"
        },
        {
         "name": "TotRmsAbvGrd",
         "rawType": "int64",
         "type": "integer"
        },
        {
         "name": "Functional",
         "rawType": "object",
         "type": "string"
        },
        {
         "name": "Fireplaces",
         "rawType": "int64",
         "type": "integer"
        },
        {
         "name": "FireplaceQu",
         "rawType": "object",
         "type": "unknown"
        },
        {
         "name": "GarageType",
         "rawType": "object",
         "type": "unknown"
        },
        {
         "name": "GarageYrBlt",
         "rawType": "float64",
         "type": "float"
        },
        {
         "name": "GarageFinish",
         "rawType": "object",
         "type": "unknown"
        },
        {
         "name": "GarageCars",
         "rawType": "int64",
         "type": "integer"
        },
        {
         "name": "GarageArea",
         "rawType": "int64",
         "type": "integer"
        },
        {
         "name": "GarageQual",
         "rawType": "object",
         "type": "unknown"
        },
        {
         "name": "GarageCond",
         "rawType": "object",
         "type": "unknown"
        },
        {
         "name": "PavedDrive",
         "rawType": "object",
         "type": "string"
        },
        {
         "name": "WoodDeckSF",
         "rawType": "int64",
         "type": "integer"
        },
        {
         "name": "OpenPorchSF",
         "rawType": "int64",
         "type": "integer"
        },
        {
         "name": "EnclosedPorch",
         "rawType": "int64",
         "type": "integer"
        },
        {
         "name": "3SsnPorch",
         "rawType": "int64",
         "type": "integer"
        },
        {
         "name": "ScreenPorch",
         "rawType": "int64",
         "type": "integer"
        },
        {
         "name": "PoolArea",
         "rawType": "int64",
         "type": "integer"
        },
        {
         "name": "PoolQC",
         "rawType": "object",
         "type": "unknown"
        },
        {
         "name": "Fence",
         "rawType": "object",
         "type": "unknown"
        },
        {
         "name": "MiscFeature",
         "rawType": "object",
         "type": "unknown"
        },
        {
         "name": "MiscVal",
         "rawType": "int64",
         "type": "integer"
        },
        {
         "name": "MoSold",
         "rawType": "int64",
         "type": "integer"
        },
        {
         "name": "YrSold",
         "rawType": "int64",
         "type": "integer"
        },
        {
         "name": "SaleType",
         "rawType": "object",
         "type": "string"
        },
        {
         "name": "SaleCondition",
         "rawType": "object",
         "type": "string"
        }
       ],
       "ref": "2c943c12-c885-404c-a906-99a0fe928fd4",
       "rows": [
        [
         "458",
         "459",
         "70",
         "RM",
         null,
         "5100",
         "Pave",
         "Grvl",
         "Reg",
         "Lvl",
         "AllPub",
         "Inside",
         "Gtl",
         "OldTown",
         "Norm",
         "Norm",
         "1Fam",
         "2Story",
         "8",
         "7",
         "1925",
         "1996",
         "Hip",
         "CompShg",
         "Stucco",
         "Wd Shng",
         null,
         "0.0",
         "TA",
         "Gd",
         "PConc",
         "TA",
         "TA",
         "No",
         "Unf",
         "0",
         "Unf",
         "0",
         "588",
         "588",
         "GasA",
         "Fa",
         "Y",
         "SBrkr",
         "833",
         "833",
         "0",
         "1666",
         "0",
         "0",
         "1",
         "0",
         "3",
         "1",
         "Gd",
         "7",
         "Typ",
         "1",
         "Gd",
         "Detchd",
         "1925.0",
         "Unf",
         "1",
         "228",
         "TA",
         "TA",
         "Y",
         "192",
         "63",
         "0",
         "0",
         "0",
         "0",
         null,
         "MnPrv",
         null,
         "0",
         "6",
         "2008",
         "WD",
         "Normal"
        ],
        [
         "1123",
         "1124",
         "20",
         "RL",
         "50.0",
         "9405",
         "Pave",
         null,
         "Reg",
         "Lvl",
         "AllPub",
         "Inside",
         "Gtl",
         "Edwards",
         "Norm",
         "Norm",
         "1Fam",
         "1Story",
         "5",
         "9",
         "1947",
         "2008",
         "Hip",
         "CompShg",
         "VinylSd",
         "VinylSd",
         null,
         "0.0",
         "TA",
         "Ex",
         "CBlock",
         "TA",
         "TA",
         "No",
         "Unf",
         "0",
         "Unf",
         "0",
         "698",
         "698",
         "GasA",
         "Ex",
         "Y",
         "SBrkr",
         "698",
         "0",
         "0",
         "698",
         "0",
         "1",
         "1",
         "0",
         "2",
         "1",
         "TA",
         "4",
         "Typ",
         "0",
         null,
         null,
         null,
         null,
         "0",
         "0",
         null,
         null,
         "Y",
         "0",
         "200",
         "0",
         "0",
         "0",
         "0",
         null,
         null,
         null,
         "0",
         "6",
         "2009",
         "WD",
         "Normal"
        ],
        [
         "513",
         "514",
         "20",
         "RL",
         "71.0",
         "9187",
         "Pave",
         null,
         "Reg",
         "Bnk",
         "AllPub",
         "Corner",
         "Gtl",
         "Mitchel",
         "Norm",
         "Norm",
         "1Fam",
         "1Story",
         "6",
         "5",
         "1983",
         "1983",
         "Gable",
         "CompShg",
         "VinylSd",
         "VinylSd",
         null,
         "0.0",
         "TA",
         "Gd",
         "PConc",
         "TA",
         "TA",
         "No",
         "ALQ",
         "336",
         "Unf",
         "0",
         "748",
         "1084",
         "GasA",
         "TA",
         "Y",
         "SBrkr",
         "1080",
         "0",
         "0",
         "1080",
         "0",
         "0",
         "1",
         "1",
         "3",
         "1",
         "TA",
         "5",
         "Typ",
         "0",
         null,
         "Attchd",
         "1983.0",
         "Unf",
         "2",
         "484",
         "TA",
         "TA",
         "Y",
         "120",
         "0",
         "158",
         "0",
         "0",
         "0",
         null,
         null,
         null,
         "0",
         "6",
         "2007",
         "WD",
         "Normal"
        ],
        [
         "1439",
         "1440",
         "60",
         "RL",
         "80.0",
         "11584",
         "Pave",
         null,
         "Reg",
         "Lvl",
         "AllPub",
         "Inside",
         "Gtl",
         "NWAmes",
         "Norm",
         "Norm",
         "1Fam",
         "SLvl",
         "7",
         "6",
         "1979",
         "1979",
         "Hip",
         "CompShg",
         "HdBoard",
         "HdBoard",
         "BrkFace",
         "96.0",
         "TA",
         "TA",
         "CBlock",
         "TA",
         "TA",
         "No",
         "GLQ",
         "315",
         "Rec",
         "110",
         "114",
         "539",
         "GasA",
         "TA",
         "Y",
         "SBrkr",
         "1040",
         "685",
         "0",
         "1725",
         "0",
         "0",
         "2",
         "1",
         "3",
         "1",
         "TA",
         "6",
         "Typ",
         "1",
         "TA",
         "Attchd",
         "1979.0",
         "RFn",
         "2",
         "550",
         "TA",
         "TA",
         "Y",
         "0",
         "88",
         "216",
         "0",
         "0",
         "0",
         null,
         null,
         null,
         "0",
         "11",
         "2007",
         "WD",
         "Normal"
        ],
        [
         "957",
         "958",
         "20",
         "RL",
         "70.0",
         "7420",
         "Pave",
         null,
         "Reg",
         "Lvl",
         "AllPub",
         "Inside",
         "Gtl",
         "Sawyer",
         "Norm",
         "Norm",
         "1Fam",
         "1Story",
         "5",
         "5",
         "1962",
         "1962",
         "Hip",
         "CompShg",
         "MetalSd",
         "MetalSd",
         null,
         "0.0",
         "TA",
         "TA",
         "CBlock",
         "TA",
         "TA",
         "No",
         "Rec",
         "417",
         "Unf",
         "0",
         "640",
         "1057",
         "GasA",
         "TA",
         "Y",
         "SBrkr",
         "1057",
         "0",
         "0",
         "1057",
         "0",
         "0",
         "1",
         "0",
         "3",
         "1",
         "TA",
         "6",
         "Typ",
         "0",
         null,
         "Detchd",
         "1977.0",
         "Fin",
         "2",
         "576",
         "TA",
         "TA",
         "Y",
         "0",
         "0",
         "0",
         "0",
         "0",
         "0",
         null,
         null,
         null,
         "0",
         "4",
         "2007",
         "WD",
         "Normal"
        ]
       ],
       "shape": {
        "columns": 80,
        "rows": 5
       }
      },
      "text/html": [
       "<div>\n",
       "<style scoped>\n",
       "    .dataframe tbody tr th:only-of-type {\n",
       "        vertical-align: middle;\n",
       "    }\n",
       "\n",
       "    .dataframe tbody tr th {\n",
       "        vertical-align: top;\n",
       "    }\n",
       "\n",
       "    .dataframe thead th {\n",
       "        text-align: right;\n",
       "    }\n",
       "</style>\n",
       "<table border=\"1\" class=\"dataframe\">\n",
       "  <thead>\n",
       "    <tr style=\"text-align: right;\">\n",
       "      <th></th>\n",
       "      <th>Id</th>\n",
       "      <th>MSSubClass</th>\n",
       "      <th>MSZoning</th>\n",
       "      <th>LotFrontage</th>\n",
       "      <th>LotArea</th>\n",
       "      <th>Street</th>\n",
       "      <th>Alley</th>\n",
       "      <th>LotShape</th>\n",
       "      <th>LandContour</th>\n",
       "      <th>Utilities</th>\n",
       "      <th>...</th>\n",
       "      <th>ScreenPorch</th>\n",
       "      <th>PoolArea</th>\n",
       "      <th>PoolQC</th>\n",
       "      <th>Fence</th>\n",
       "      <th>MiscFeature</th>\n",
       "      <th>MiscVal</th>\n",
       "      <th>MoSold</th>\n",
       "      <th>YrSold</th>\n",
       "      <th>SaleType</th>\n",
       "      <th>SaleCondition</th>\n",
       "    </tr>\n",
       "  </thead>\n",
       "  <tbody>\n",
       "    <tr>\n",
       "      <th>458</th>\n",
       "      <td>459</td>\n",
       "      <td>70</td>\n",
       "      <td>RM</td>\n",
       "      <td>NaN</td>\n",
       "      <td>5100</td>\n",
       "      <td>Pave</td>\n",
       "      <td>Grvl</td>\n",
       "      <td>Reg</td>\n",
       "      <td>Lvl</td>\n",
       "      <td>AllPub</td>\n",
       "      <td>...</td>\n",
       "      <td>0</td>\n",
       "      <td>0</td>\n",
       "      <td>NaN</td>\n",
       "      <td>MnPrv</td>\n",
       "      <td>NaN</td>\n",
       "      <td>0</td>\n",
       "      <td>6</td>\n",
       "      <td>2008</td>\n",
       "      <td>WD</td>\n",
       "      <td>Normal</td>\n",
       "    </tr>\n",
       "    <tr>\n",
       "      <th>1123</th>\n",
       "      <td>1124</td>\n",
       "      <td>20</td>\n",
       "      <td>RL</td>\n",
       "      <td>50.0</td>\n",
       "      <td>9405</td>\n",
       "      <td>Pave</td>\n",
       "      <td>NaN</td>\n",
       "      <td>Reg</td>\n",
       "      <td>Lvl</td>\n",
       "      <td>AllPub</td>\n",
       "      <td>...</td>\n",
       "      <td>0</td>\n",
       "      <td>0</td>\n",
       "      <td>NaN</td>\n",
       "      <td>NaN</td>\n",
       "      <td>NaN</td>\n",
       "      <td>0</td>\n",
       "      <td>6</td>\n",
       "      <td>2009</td>\n",
       "      <td>WD</td>\n",
       "      <td>Normal</td>\n",
       "    </tr>\n",
       "    <tr>\n",
       "      <th>513</th>\n",
       "      <td>514</td>\n",
       "      <td>20</td>\n",
       "      <td>RL</td>\n",
       "      <td>71.0</td>\n",
       "      <td>9187</td>\n",
       "      <td>Pave</td>\n",
       "      <td>NaN</td>\n",
       "      <td>Reg</td>\n",
       "      <td>Bnk</td>\n",
       "      <td>AllPub</td>\n",
       "      <td>...</td>\n",
       "      <td>0</td>\n",
       "      <td>0</td>\n",
       "      <td>NaN</td>\n",
       "      <td>NaN</td>\n",
       "      <td>NaN</td>\n",
       "      <td>0</td>\n",
       "      <td>6</td>\n",
       "      <td>2007</td>\n",
       "      <td>WD</td>\n",
       "      <td>Normal</td>\n",
       "    </tr>\n",
       "    <tr>\n",
       "      <th>1439</th>\n",
       "      <td>1440</td>\n",
       "      <td>60</td>\n",
       "      <td>RL</td>\n",
       "      <td>80.0</td>\n",
       "      <td>11584</td>\n",
       "      <td>Pave</td>\n",
       "      <td>NaN</td>\n",
       "      <td>Reg</td>\n",
       "      <td>Lvl</td>\n",
       "      <td>AllPub</td>\n",
       "      <td>...</td>\n",
       "      <td>0</td>\n",
       "      <td>0</td>\n",
       "      <td>NaN</td>\n",
       "      <td>NaN</td>\n",
       "      <td>NaN</td>\n",
       "      <td>0</td>\n",
       "      <td>11</td>\n",
       "      <td>2007</td>\n",
       "      <td>WD</td>\n",
       "      <td>Normal</td>\n",
       "    </tr>\n",
       "    <tr>\n",
       "      <th>957</th>\n",
       "      <td>958</td>\n",
       "      <td>20</td>\n",
       "      <td>RL</td>\n",
       "      <td>70.0</td>\n",
       "      <td>7420</td>\n",
       "      <td>Pave</td>\n",
       "      <td>NaN</td>\n",
       "      <td>Reg</td>\n",
       "      <td>Lvl</td>\n",
       "      <td>AllPub</td>\n",
       "      <td>...</td>\n",
       "      <td>0</td>\n",
       "      <td>0</td>\n",
       "      <td>NaN</td>\n",
       "      <td>NaN</td>\n",
       "      <td>NaN</td>\n",
       "      <td>0</td>\n",
       "      <td>4</td>\n",
       "      <td>2007</td>\n",
       "      <td>WD</td>\n",
       "      <td>Normal</td>\n",
       "    </tr>\n",
       "  </tbody>\n",
       "</table>\n",
       "<p>5 rows × 80 columns</p>\n",
       "</div>"
      ],
      "text/plain": [
       "        Id  MSSubClass MSZoning  LotFrontage  LotArea Street Alley LotShape  \\\n",
       "458    459          70       RM          NaN     5100   Pave  Grvl      Reg   \n",
       "1123  1124          20       RL         50.0     9405   Pave   NaN      Reg   \n",
       "513    514          20       RL         71.0     9187   Pave   NaN      Reg   \n",
       "1439  1440          60       RL         80.0    11584   Pave   NaN      Reg   \n",
       "957    958          20       RL         70.0     7420   Pave   NaN      Reg   \n",
       "\n",
       "     LandContour Utilities  ... ScreenPorch PoolArea PoolQC  Fence  \\\n",
       "458          Lvl    AllPub  ...           0        0    NaN  MnPrv   \n",
       "1123         Lvl    AllPub  ...           0        0    NaN    NaN   \n",
       "513          Bnk    AllPub  ...           0        0    NaN    NaN   \n",
       "1439         Lvl    AllPub  ...           0        0    NaN    NaN   \n",
       "957          Lvl    AllPub  ...           0        0    NaN    NaN   \n",
       "\n",
       "     MiscFeature MiscVal MoSold  YrSold  SaleType  SaleCondition  \n",
       "458          NaN       0      6    2008        WD         Normal  \n",
       "1123         NaN       0      6    2009        WD         Normal  \n",
       "513          NaN       0      6    2007        WD         Normal  \n",
       "1439         NaN       0     11    2007        WD         Normal  \n",
       "957          NaN       0      4    2007        WD         Normal  \n",
       "\n",
       "[5 rows x 80 columns]"
      ]
     },
     "execution_count": 126,
     "metadata": {},
     "output_type": "execute_result"
    }
   ],
   "source": [
    "x_val.head()"
   ]
  },
  {
   "cell_type": "markdown",
   "id": "793abc6c",
   "metadata": {},
   "source": [
    "Preprocess train trước (không dùng PLP thì phải thế)"
   ]
  },
  {
   "cell_type": "code",
   "execution_count": 127,
   "id": "b8bf9f9d",
   "metadata": {},
   "outputs": [],
   "source": [
    "x_train = pd.DataFrame(preprocessor.fit_transform(x_train))"
   ]
  },
  {
   "cell_type": "code",
   "execution_count": 128,
   "id": "c6c7965b",
   "metadata": {},
   "outputs": [],
   "source": [
    "x_val = pd.DataFrame(preprocessor.transform(x_val))"
   ]
  },
  {
   "cell_type": "markdown",
   "id": "bc5f1b33",
   "metadata": {},
   "source": [
    "Tuning cho Model :\n",
    "**n_estimators** : số lượng fitting cycles  \n",
    "\n",
    "**early_stopping_rounds** : khi loss function sau các cycles có dấu hiệu chững lại, ESR cho phép dừng sớm việc \n",
    "fit. early_stopping_rounds = 5 là lý tưởng : nếu sau 5 cycles liên tục chững lại thì dừng fit   \n",
    "\n",
    "**eval_set** : là parameter đi kèm với *e_s_r*, đầu vào là [x_val, y_val]. parameter này là cơ sở để giám sát esr, nếu không có eval_set, loss function gần như sẽ luôn giảm, không có cơ sở để đánh giá và dừng fit của esr  \n",
    "\n",
    "**verbose** : in ra info log cho mỗi cycle : 0 : không in, 1 : in cơ bản, 2 : in chi tiết  \n",
    "\n",
    "**learning_rate** : (tên tham số: eta) là hệ số nhân với đóng góp của mỗi cây mới vào mô hình tổng. eta (def_val = 0,1) là hệ số đóng góp của mỗi component vào model  \n",
    "\n"
   ]
  },
  {
   "cell_type": "code",
   "execution_count": 1,
   "id": "0ecfe549",
   "metadata": {},
   "outputs": [
    {
     "ename": "NameError",
     "evalue": "name 'x_train' is not defined",
     "output_type": "error",
     "traceback": [
      "\u001b[31m---------------------------------------------------------------------------\u001b[39m",
      "\u001b[31mNameError\u001b[39m                                 Traceback (most recent call last)",
      "\u001b[36mCell\u001b[39m\u001b[36m \u001b[39m\u001b[32mIn[1]\u001b[39m\u001b[32m, line 11\u001b[39m\n\u001b[32m      1\u001b[39m \u001b[38;5;28;01mfrom\u001b[39;00m\u001b[38;5;250m \u001b[39m\u001b[34;01mxgboost\u001b[39;00m\u001b[38;5;250m \u001b[39m\u001b[38;5;28;01mimport\u001b[39;00m XGBRegressor\n\u001b[32m      3\u001b[39m XGBR = XGBRegressor(\n\u001b[32m      4\u001b[39m     n_estimators=\u001b[32m250\u001b[39m,\n\u001b[32m      5\u001b[39m     eta=\u001b[32m0.1\u001b[39m,\n\u001b[32m      6\u001b[39m     eval_metric=\u001b[33m\"\u001b[39m\u001b[33mmae\u001b[39m\u001b[33m\"\u001b[39m,\n\u001b[32m      7\u001b[39m     early_stopping_rounds=\u001b[32m5\u001b[39m\n\u001b[32m      8\u001b[39m )\n\u001b[32m     10\u001b[39m XGBR.fit(\n\u001b[32m---> \u001b[39m\u001b[32m11\u001b[39m     \u001b[43mx_train\u001b[49m, y_train,\n\u001b[32m     12\u001b[39m     eval_set=[(x_val, y_val)],\n\u001b[32m     13\u001b[39m     verbose=\u001b[32m0\u001b[39m\n\u001b[32m     14\u001b[39m )\n\u001b[32m     15\u001b[39m scores = XGBR.predict(x_val)\n",
      "\u001b[31mNameError\u001b[39m: name 'x_train' is not defined"
     ]
    }
   ],
   "source": [
    "from xgboost import XGBRegressor\n",
    "\n",
    "XGBR = XGBRegressor(\n",
    "    n_estimators=250,\n",
    "    eta=0.1,\n",
    "    eval_metric=\"mae\",\n",
    "    early_stopping_rounds=5\n",
    ")\n",
    "\n",
    "XGBR.fit(\n",
    "    x_train, y_train,\n",
    "    eval_set=[(x_val, y_val)],\n",
    "    verbose=0\n",
    ")\n",
    "scores = XGBR.predict(x_val)\n"
   ]
  },
  {
   "cell_type": "code",
   "execution_count": 130,
   "id": "b6e033ef",
   "metadata": {},
   "outputs": [
    {
     "name": "stdout",
     "output_type": "stream",
     "text": [
      "PLP : 24993.967341892007, XGB : 18472.76171875\n"
     ]
    }
   ],
   "source": [
    "from sklearn.metrics import mean_absolute_error \n",
    "accuracy2 = mean_absolute_error(PLP_pred, y_val)\n",
    "accuracy1 = mean_absolute_error(scores, y_val) \n",
    "print(f\"PLP : {accuracy2}, XGB : {accuracy1}\")"
   ]
  },
  {
   "cell_type": "code",
   "execution_count": 131,
   "id": "a6d8e4be",
   "metadata": {},
   "outputs": [
    {
     "name": "stdout",
     "output_type": "stream",
     "text": [
      "2.0.0\n"
     ]
    }
   ],
   "source": [
    "import xgboost\n",
    "print(xgboost.__version__)"
   ]
  }
 ],
 "metadata": {
  "kernelspec": {
   "display_name": "Python (ml_env)",
   "language": "python",
   "name": "ml_env"
  },
  "language_info": {
   "codemirror_mode": {
    "name": "ipython",
    "version": 3
   },
   "file_extension": ".py",
   "mimetype": "text/x-python",
   "name": "python",
   "nbconvert_exporter": "python",
   "pygments_lexer": "ipython3",
   "version": "3.11.13"
  }
 },
 "nbformat": 4,
 "nbformat_minor": 5
}
