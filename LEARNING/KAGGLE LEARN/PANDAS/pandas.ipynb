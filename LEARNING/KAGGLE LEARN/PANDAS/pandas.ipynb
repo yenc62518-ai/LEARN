{
 "cells": [
  {
   "cell_type": "code",
   "execution_count": 1,
   "id": "b9d34f68",
   "metadata": {},
   "outputs": [],
   "source": [
    "import pandas as pd\n",
    "data = pd.read_csv('./titanic-parquet.tsv', sep = '\\t')"
   ]
  },
  {
   "cell_type": "markdown",
   "id": "c201aa44",
   "metadata": {},
   "source": [
    "***DATAFRAME AND SERIES***"
   ]
  },
  {
   "cell_type": "markdown",
   "id": "77434a4a",
   "metadata": {},
   "source": [
    "create DataFrame :\n"
   ]
  },
  {
   "cell_type": "code",
   "execution_count": 2,
   "id": "9541ddb3",
   "metadata": {},
   "outputs": [],
   "source": [
    "status = pd.DataFrame({'Name' : data.Name,\n",
    "                       'Survived' : data.Survived,\n",
    "                       'Fare' : data.Fare}, \n",
    "                       index = data.PassengerId)"
   ]
  },
  {
   "cell_type": "markdown",
   "id": "fd284925",
   "metadata": {},
   "source": [
    "***PANDAS - INDEXING, SELECTING AND ASSIGNING***"
   ]
  },
  {
   "cell_type": "markdown",
   "id": "74728453",
   "metadata": {},
   "source": [
    "ILOC and LOC :        \n",
    "    iloc : ***data.iloc[index]*** : trả về HÀNG thứ <index+1>  \n",
    "    loc : ***data.loc[column name]*** : giống như iloc nhưng dùng tên cột hoặc tên hàng"
   ]
  },
  {
   "cell_type": "markdown",
   "id": "ac6a2c2c",
   "metadata": {},
   "source": [
    "***KHI NÀO DÙNG LOC, ILOC***   \n",
    "Dùng loc sẽ trả về [], dùng iloc trả về [)  \n",
    "Dùng loc khi index **categorical type**, dùng iloc với **numeric type**"
   ]
  },
  {
   "cell_type": "code",
   "execution_count": 3,
   "id": "bad38688",
   "metadata": {},
   "outputs": [
    {
     "data": {
      "application/vnd.microsoft.datawrangler.viewer.v0+json": {
       "columns": [
        {
         "name": "index",
         "rawType": "object",
         "type": "string"
        },
        {
         "name": "3",
         "rawType": "object",
         "type": "unknown"
        }
       ],
       "ref": "5888a440-899a-46de-b56d-b86f89659772",
       "rows": [
        [
         "Name",
         "Futrelle, Mrs. Jacques Heath (Lily May Peel)"
        ],
        [
         "Survived",
         "1.0"
        ],
        [
         "Fare",
         "53.1"
        ]
       ],
       "shape": {
        "columns": 1,
        "rows": 3
       }
      },
      "text/plain": [
       "Name        Futrelle, Mrs. Jacques Heath (Lily May Peel)\n",
       "Survived                                             1.0\n",
       "Fare                                                53.1\n",
       "Name: 3, dtype: object"
      ]
     },
     "execution_count": 3,
     "metadata": {},
     "output_type": "execute_result"
    }
   ],
   "source": [
    "status.iloc[2, :] # hàng có index thứ 2, là hành khách số 3, hiển thị toàn bộ thông tin (mọi cột)"
   ]
  },
  {
   "cell_type": "code",
   "execution_count": 4,
   "id": "93aa9e80",
   "metadata": {},
   "outputs": [
    {
     "data": {
      "application/vnd.microsoft.datawrangler.viewer.v0+json": {
       "columns": [
        {
         "name": "index",
         "rawType": "object",
         "type": "string"
        },
        {
         "name": "3",
         "rawType": "object",
         "type": "unknown"
        }
       ],
       "ref": "8b967b00-424f-4e26-9802-49f5e43acaa0",
       "rows": [
        [
         "Survived",
         "1.0"
        ],
        [
         "Fare",
         "53.1"
        ]
       ],
       "shape": {
        "columns": 1,
        "rows": 2
       }
      },
      "text/plain": [
       "Survived     1.0\n",
       "Fare        53.1\n",
       "Name: 3, dtype: object"
      ]
     },
     "execution_count": 4,
     "metadata": {},
     "output_type": "execute_result"
    }
   ],
   "source": [
    "status.loc[3, ['Survived', 'Fare']] # hiển thị hành khách có PassengerId (cột được chọn làm index) là 3, hiển thị 2 thông tin"
   ]
  },
  {
   "cell_type": "code",
   "execution_count": 5,
   "id": "52c99a5f",
   "metadata": {},
   "outputs": [
    {
     "data": {
      "text/plain": [
       "'Cumings, Mrs. John Bradley (Florence Briggs Thayer)'"
      ]
     },
     "execution_count": 5,
     "metadata": {},
     "output_type": "execute_result"
    }
   ],
   "source": [
    "status.loc[1, 'Name']"
   ]
  },
  {
   "cell_type": "markdown",
   "id": "10783a50",
   "metadata": {},
   "source": [
    "***INDEX MANIPULATING***"
   ]
  },
  {
   "cell_type": "markdown",
   "id": "97808e6f",
   "metadata": {},
   "source": [
    "***set_index(column)*** mang cột đó thành index"
   ]
  },
  {
   "cell_type": "code",
   "execution_count": 6,
   "id": "e51a050e",
   "metadata": {},
   "outputs": [
    {
     "data": {
      "application/vnd.microsoft.datawrangler.viewer.v0+json": {
       "columns": [
        {
         "name": "Name",
         "rawType": "object",
         "type": "string"
        },
        {
         "name": "Survived",
         "rawType": "float64",
         "type": "float"
        },
        {
         "name": "Fare",
         "rawType": "float64",
         "type": "float"
        }
       ],
       "ref": "0b213cb8-d90c-4e6a-a7b0-bbcbf4a4bed1",
       "rows": [
        [
         "Cumings, Mrs. John Bradley (Florence Briggs Thayer)",
         "1.0",
         "71.2833"
        ],
        [
         "Heikkinen, Miss. Laina",
         "1.0",
         "7.925"
        ],
        [
         "Futrelle, Mrs. Jacques Heath (Lily May Peel)",
         "1.0",
         "53.1"
        ],
        [
         "Allen, Mr. William Henry",
         "0.0",
         "8.05"
        ],
        [
         "Moran, Mr. James",
         "0.0",
         "8.4583"
        ]
       ],
       "shape": {
        "columns": 2,
        "rows": 5
       }
      },
      "text/html": [
       "<div>\n",
       "<style scoped>\n",
       "    .dataframe tbody tr th:only-of-type {\n",
       "        vertical-align: middle;\n",
       "    }\n",
       "\n",
       "    .dataframe tbody tr th {\n",
       "        vertical-align: top;\n",
       "    }\n",
       "\n",
       "    .dataframe thead th {\n",
       "        text-align: right;\n",
       "    }\n",
       "</style>\n",
       "<table border=\"1\" class=\"dataframe\">\n",
       "  <thead>\n",
       "    <tr style=\"text-align: right;\">\n",
       "      <th></th>\n",
       "      <th>Survived</th>\n",
       "      <th>Fare</th>\n",
       "    </tr>\n",
       "    <tr>\n",
       "      <th>Name</th>\n",
       "      <th></th>\n",
       "      <th></th>\n",
       "    </tr>\n",
       "  </thead>\n",
       "  <tbody>\n",
       "    <tr>\n",
       "      <th>Cumings, Mrs. John Bradley (Florence Briggs Thayer)</th>\n",
       "      <td>1.0</td>\n",
       "      <td>71.2833</td>\n",
       "    </tr>\n",
       "    <tr>\n",
       "      <th>Heikkinen, Miss. Laina</th>\n",
       "      <td>1.0</td>\n",
       "      <td>7.9250</td>\n",
       "    </tr>\n",
       "    <tr>\n",
       "      <th>Futrelle, Mrs. Jacques Heath (Lily May Peel)</th>\n",
       "      <td>1.0</td>\n",
       "      <td>53.1000</td>\n",
       "    </tr>\n",
       "    <tr>\n",
       "      <th>Allen, Mr. William Henry</th>\n",
       "      <td>0.0</td>\n",
       "      <td>8.0500</td>\n",
       "    </tr>\n",
       "    <tr>\n",
       "      <th>Moran, Mr. James</th>\n",
       "      <td>0.0</td>\n",
       "      <td>8.4583</td>\n",
       "    </tr>\n",
       "  </tbody>\n",
       "</table>\n",
       "</div>"
      ],
      "text/plain": [
       "                                                    Survived     Fare\n",
       "Name                                                                 \n",
       "Cumings, Mrs. John Bradley (Florence Briggs Tha...       1.0  71.2833\n",
       "Heikkinen, Miss. Laina                                   1.0   7.9250\n",
       "Futrelle, Mrs. Jacques Heath (Lily May Peel)             1.0  53.1000\n",
       "Allen, Mr. William Henry                                 0.0   8.0500\n",
       "Moran, Mr. James                                         0.0   8.4583"
      ]
     },
     "execution_count": 6,
     "metadata": {},
     "output_type": "execute_result"
    }
   ],
   "source": [
    "status.set_index('Name').head()"
   ]
  },
  {
   "cell_type": "markdown",
   "id": "70a3c9bb",
   "metadata": {},
   "source": [
    "***CONDITIONAL SELECTION***  \n",
    "This operation produced a Series of True/False booleans based on the country of each record.  \n",
    " This result can then be used inside of loc to select the relevant data:"
   ]
  },
  {
   "cell_type": "code",
   "execution_count": 7,
   "id": "449ea7e7",
   "metadata": {},
   "outputs": [
    {
     "data": {
      "application/vnd.microsoft.datawrangler.viewer.v0+json": {
       "columns": [
        {
         "name": "index",
         "rawType": "int64",
         "type": "integer"
        },
        {
         "name": "Name",
         "rawType": "object",
         "type": "string"
        },
        {
         "name": "Fare",
         "rawType": "float64",
         "type": "float"
        },
        {
         "name": "Survived",
         "rawType": "int64",
         "type": "integer"
        }
       ],
       "ref": "dd2b3340-909b-4806-bf7f-c7b1b1edd465",
       "rows": [
        [
         "1",
         "Cumings, Mrs. John Bradley (Florence Briggs Thayer)",
         "71.2833",
         "1"
        ],
        [
         "2",
         "Heikkinen, Miss. Laina",
         "7.925",
         "1"
        ],
        [
         "3",
         "Futrelle, Mrs. Jacques Heath (Lily May Peel)",
         "53.1",
         "1"
        ],
        [
         "8",
         "Johnson, Mrs. Oscar W (Elisabeth Vilhelmina Berg)",
         "11.1333",
         "1"
        ]
       ],
       "shape": {
        "columns": 3,
        "rows": 4
       }
      },
      "text/html": [
       "<div>\n",
       "<style scoped>\n",
       "    .dataframe tbody tr th:only-of-type {\n",
       "        vertical-align: middle;\n",
       "    }\n",
       "\n",
       "    .dataframe tbody tr th {\n",
       "        vertical-align: top;\n",
       "    }\n",
       "\n",
       "    .dataframe thead th {\n",
       "        text-align: right;\n",
       "    }\n",
       "</style>\n",
       "<table border=\"1\" class=\"dataframe\">\n",
       "  <thead>\n",
       "    <tr style=\"text-align: right;\">\n",
       "      <th></th>\n",
       "      <th>Name</th>\n",
       "      <th>Fare</th>\n",
       "      <th>Survived</th>\n",
       "    </tr>\n",
       "  </thead>\n",
       "  <tbody>\n",
       "    <tr>\n",
       "      <th>1</th>\n",
       "      <td>Cumings, Mrs. John Bradley (Florence Briggs Th...</td>\n",
       "      <td>71.2833</td>\n",
       "      <td>1</td>\n",
       "    </tr>\n",
       "    <tr>\n",
       "      <th>2</th>\n",
       "      <td>Heikkinen, Miss. Laina</td>\n",
       "      <td>7.9250</td>\n",
       "      <td>1</td>\n",
       "    </tr>\n",
       "    <tr>\n",
       "      <th>3</th>\n",
       "      <td>Futrelle, Mrs. Jacques Heath (Lily May Peel)</td>\n",
       "      <td>53.1000</td>\n",
       "      <td>1</td>\n",
       "    </tr>\n",
       "    <tr>\n",
       "      <th>8</th>\n",
       "      <td>Johnson, Mrs. Oscar W (Elisabeth Vilhelmina Berg)</td>\n",
       "      <td>11.1333</td>\n",
       "      <td>1</td>\n",
       "    </tr>\n",
       "  </tbody>\n",
       "</table>\n",
       "</div>"
      ],
      "text/plain": [
       "                                                Name     Fare  Survived\n",
       "1  Cumings, Mrs. John Bradley (Florence Briggs Th...  71.2833         1\n",
       "2                             Heikkinen, Miss. Laina   7.9250         1\n",
       "3       Futrelle, Mrs. Jacques Heath (Lily May Peel)  53.1000         1\n",
       "8  Johnson, Mrs. Oscar W (Elisabeth Vilhelmina Berg)  11.1333         1"
      ]
     },
     "execution_count": 7,
     "metadata": {},
     "output_type": "execute_result"
    }
   ],
   "source": [
    "data.loc[(data.Sex == 'female'), ['Name', 'Fare', 'Survived']].head(4)"
   ]
  },
  {
   "cell_type": "code",
   "execution_count": 8,
   "id": "800ea229",
   "metadata": {},
   "outputs": [
    {
     "data": {
      "application/vnd.microsoft.datawrangler.viewer.v0+json": {
       "columns": [
        {
         "name": "index",
         "rawType": "int64",
         "type": "integer"
        },
        {
         "name": "Name",
         "rawType": "object",
         "type": "string"
        },
        {
         "name": "Sex",
         "rawType": "object",
         "type": "string"
        },
        {
         "name": "Fare",
         "rawType": "float64",
         "type": "float"
        }
       ],
       "ref": "acb9faf2-ebca-44d0-8ce5-d3f5da5aeae8",
       "rows": [
        [
         "1",
         "Cumings, Mrs. John Bradley (Florence Briggs Thayer)",
         "female",
         "71.2833"
        ],
        [
         "2",
         "Heikkinen, Miss. Laina",
         "female",
         "7.925"
        ],
        [
         "4",
         "Allen, Mr. William Henry",
         "male",
         "8.05"
        ],
        [
         "6",
         "McCarthy, Mr. Timothy J",
         "male",
         "51.8625"
        ],
        [
         "8",
         "Johnson, Mrs. Oscar W (Elisabeth Vilhelmina Berg)",
         "female",
         "11.1333"
        ]
       ],
       "shape": {
        "columns": 3,
        "rows": 5
       }
      },
      "text/html": [
       "<div>\n",
       "<style scoped>\n",
       "    .dataframe tbody tr th:only-of-type {\n",
       "        vertical-align: middle;\n",
       "    }\n",
       "\n",
       "    .dataframe tbody tr th {\n",
       "        vertical-align: top;\n",
       "    }\n",
       "\n",
       "    .dataframe thead th {\n",
       "        text-align: right;\n",
       "    }\n",
       "</style>\n",
       "<table border=\"1\" class=\"dataframe\">\n",
       "  <thead>\n",
       "    <tr style=\"text-align: right;\">\n",
       "      <th></th>\n",
       "      <th>Name</th>\n",
       "      <th>Sex</th>\n",
       "      <th>Fare</th>\n",
       "    </tr>\n",
       "  </thead>\n",
       "  <tbody>\n",
       "    <tr>\n",
       "      <th>1</th>\n",
       "      <td>Cumings, Mrs. John Bradley (Florence Briggs Th...</td>\n",
       "      <td>female</td>\n",
       "      <td>71.2833</td>\n",
       "    </tr>\n",
       "    <tr>\n",
       "      <th>2</th>\n",
       "      <td>Heikkinen, Miss. Laina</td>\n",
       "      <td>female</td>\n",
       "      <td>7.9250</td>\n",
       "    </tr>\n",
       "    <tr>\n",
       "      <th>4</th>\n",
       "      <td>Allen, Mr. William Henry</td>\n",
       "      <td>male</td>\n",
       "      <td>8.0500</td>\n",
       "    </tr>\n",
       "    <tr>\n",
       "      <th>6</th>\n",
       "      <td>McCarthy, Mr. Timothy J</td>\n",
       "      <td>male</td>\n",
       "      <td>51.8625</td>\n",
       "    </tr>\n",
       "    <tr>\n",
       "      <th>8</th>\n",
       "      <td>Johnson, Mrs. Oscar W (Elisabeth Vilhelmina Berg)</td>\n",
       "      <td>female</td>\n",
       "      <td>11.1333</td>\n",
       "    </tr>\n",
       "  </tbody>\n",
       "</table>\n",
       "</div>"
      ],
      "text/plain": [
       "                                                Name     Sex     Fare\n",
       "1  Cumings, Mrs. John Bradley (Florence Briggs Th...  female  71.2833\n",
       "2                             Heikkinen, Miss. Laina  female   7.9250\n",
       "4                           Allen, Mr. William Henry    male   8.0500\n",
       "6                            McCarthy, Mr. Timothy J    male  51.8625\n",
       "8  Johnson, Mrs. Oscar W (Elisabeth Vilhelmina Berg)  female  11.1333"
      ]
     },
     "execution_count": 8,
     "metadata": {},
     "output_type": "execute_result"
    }
   ],
   "source": [
    "data.loc[[1,2,4,6,8], ['Name', 'Sex', 'Fare']]"
   ]
  },
  {
   "cell_type": "markdown",
   "id": "57051987",
   "metadata": {},
   "source": [
    "***NESTING***"
   ]
  },
  {
   "cell_type": "code",
   "execution_count": 9,
   "id": "2c7e1cf8",
   "metadata": {},
   "outputs": [
    {
     "data": {
      "application/vnd.microsoft.datawrangler.viewer.v0+json": {
       "columns": [
        {
         "name": "index",
         "rawType": "int64",
         "type": "integer"
        },
        {
         "name": "PassengerId",
         "rawType": "int64",
         "type": "integer"
        },
        {
         "name": "Survived",
         "rawType": "int64",
         "type": "integer"
        },
        {
         "name": "Pclass",
         "rawType": "int64",
         "type": "integer"
        },
        {
         "name": "Name",
         "rawType": "object",
         "type": "string"
        },
        {
         "name": "Sex",
         "rawType": "object",
         "type": "string"
        },
        {
         "name": "Age",
         "rawType": "object",
         "type": "string"
        },
        {
         "name": "SibSp",
         "rawType": "int64",
         "type": "integer"
        },
        {
         "name": "Parch",
         "rawType": "int64",
         "type": "integer"
        },
        {
         "name": "Ticket",
         "rawType": "object",
         "type": "string"
        },
        {
         "name": "Fare",
         "rawType": "float64",
         "type": "float"
        },
        {
         "name": "Cabin",
         "rawType": "object",
         "type": "string"
        },
        {
         "name": "Embarked",
         "rawType": "object",
         "type": "string"
        }
       ],
       "ref": "586a8f11-674c-4d7c-8a94-46fba071d18e",
       "rows": [
        [
         "17",
         "18",
         "1",
         "2",
         "Williams, Mr. Charles Eugene",
         "male",
         "\\N",
         "0",
         "0",
         "244373",
         "13.0",
         "\\N",
         "S"
        ],
        [
         "21",
         "22",
         "1",
         "2",
         "Beesley, Mr. Lawrence",
         "male",
         "34",
         "0",
         "0",
         "248698",
         "13.0",
         "D56",
         "S"
        ],
        [
         "23",
         "24",
         "1",
         "1",
         "Sloper, Mr. William Thompson",
         "male",
         "28",
         "0",
         "0",
         "113788",
         "35.5",
         "A6",
         "S"
        ],
        [
         "36",
         "37",
         "1",
         "3",
         "Mamee, Mr. Hanna",
         "male",
         "\\N",
         "0",
         "0",
         "2677",
         "7.2292",
         "\\N",
         "C"
        ],
        [
         "55",
         "56",
         "1",
         "1",
         "Woolner, Mr. Hugh",
         "male",
         "\\N",
         "0",
         "0",
         "19947",
         "35.5",
         "C52",
         "S"
        ]
       ],
       "shape": {
        "columns": 12,
        "rows": 5
       }
      },
      "text/html": [
       "<div>\n",
       "<style scoped>\n",
       "    .dataframe tbody tr th:only-of-type {\n",
       "        vertical-align: middle;\n",
       "    }\n",
       "\n",
       "    .dataframe tbody tr th {\n",
       "        vertical-align: top;\n",
       "    }\n",
       "\n",
       "    .dataframe thead th {\n",
       "        text-align: right;\n",
       "    }\n",
       "</style>\n",
       "<table border=\"1\" class=\"dataframe\">\n",
       "  <thead>\n",
       "    <tr style=\"text-align: right;\">\n",
       "      <th></th>\n",
       "      <th>PassengerId</th>\n",
       "      <th>Survived</th>\n",
       "      <th>Pclass</th>\n",
       "      <th>Name</th>\n",
       "      <th>Sex</th>\n",
       "      <th>Age</th>\n",
       "      <th>SibSp</th>\n",
       "      <th>Parch</th>\n",
       "      <th>Ticket</th>\n",
       "      <th>Fare</th>\n",
       "      <th>Cabin</th>\n",
       "      <th>Embarked</th>\n",
       "    </tr>\n",
       "  </thead>\n",
       "  <tbody>\n",
       "    <tr>\n",
       "      <th>17</th>\n",
       "      <td>18</td>\n",
       "      <td>1</td>\n",
       "      <td>2</td>\n",
       "      <td>Williams, Mr. Charles Eugene</td>\n",
       "      <td>male</td>\n",
       "      <td>\\N</td>\n",
       "      <td>0</td>\n",
       "      <td>0</td>\n",
       "      <td>244373</td>\n",
       "      <td>13.0000</td>\n",
       "      <td>\\N</td>\n",
       "      <td>S</td>\n",
       "    </tr>\n",
       "    <tr>\n",
       "      <th>21</th>\n",
       "      <td>22</td>\n",
       "      <td>1</td>\n",
       "      <td>2</td>\n",
       "      <td>Beesley, Mr. Lawrence</td>\n",
       "      <td>male</td>\n",
       "      <td>34</td>\n",
       "      <td>0</td>\n",
       "      <td>0</td>\n",
       "      <td>248698</td>\n",
       "      <td>13.0000</td>\n",
       "      <td>D56</td>\n",
       "      <td>S</td>\n",
       "    </tr>\n",
       "    <tr>\n",
       "      <th>23</th>\n",
       "      <td>24</td>\n",
       "      <td>1</td>\n",
       "      <td>1</td>\n",
       "      <td>Sloper, Mr. William Thompson</td>\n",
       "      <td>male</td>\n",
       "      <td>28</td>\n",
       "      <td>0</td>\n",
       "      <td>0</td>\n",
       "      <td>113788</td>\n",
       "      <td>35.5000</td>\n",
       "      <td>A6</td>\n",
       "      <td>S</td>\n",
       "    </tr>\n",
       "    <tr>\n",
       "      <th>36</th>\n",
       "      <td>37</td>\n",
       "      <td>1</td>\n",
       "      <td>3</td>\n",
       "      <td>Mamee, Mr. Hanna</td>\n",
       "      <td>male</td>\n",
       "      <td>\\N</td>\n",
       "      <td>0</td>\n",
       "      <td>0</td>\n",
       "      <td>2677</td>\n",
       "      <td>7.2292</td>\n",
       "      <td>\\N</td>\n",
       "      <td>C</td>\n",
       "    </tr>\n",
       "    <tr>\n",
       "      <th>55</th>\n",
       "      <td>56</td>\n",
       "      <td>1</td>\n",
       "      <td>1</td>\n",
       "      <td>Woolner, Mr. Hugh</td>\n",
       "      <td>male</td>\n",
       "      <td>\\N</td>\n",
       "      <td>0</td>\n",
       "      <td>0</td>\n",
       "      <td>19947</td>\n",
       "      <td>35.5000</td>\n",
       "      <td>C52</td>\n",
       "      <td>S</td>\n",
       "    </tr>\n",
       "  </tbody>\n",
       "</table>\n",
       "</div>"
      ],
      "text/plain": [
       "    PassengerId  Survived  Pclass                          Name   Sex Age  \\\n",
       "17           18         1       2  Williams, Mr. Charles Eugene  male  \\N   \n",
       "21           22         1       2         Beesley, Mr. Lawrence  male  34   \n",
       "23           24         1       1  Sloper, Mr. William Thompson  male  28   \n",
       "36           37         1       3              Mamee, Mr. Hanna  male  \\N   \n",
       "55           56         1       1             Woolner, Mr. Hugh  male  \\N   \n",
       "\n",
       "    SibSp  Parch  Ticket     Fare Cabin Embarked  \n",
       "17      0      0  244373  13.0000    \\N        S  \n",
       "21      0      0  248698  13.0000   D56        S  \n",
       "23      0      0  113788  35.5000    A6        S  \n",
       "36      0      0    2677   7.2292    \\N        C  \n",
       "55      0      0   19947  35.5000   C52        S  "
      ]
     },
     "execution_count": 9,
     "metadata": {},
     "output_type": "execute_result"
    }
   ],
   "source": [
    "data.loc[(data.Sex == 'male') & (data.Survived == 1)].head()"
   ]
  },
  {
   "cell_type": "code",
   "execution_count": 10,
   "id": "f2623fd3",
   "metadata": {},
   "outputs": [
    {
     "data": {
      "application/vnd.microsoft.datawrangler.viewer.v0+json": {
       "columns": [
        {
         "name": "index",
         "rawType": "object",
         "type": "string"
        },
        {
         "name": "0",
         "rawType": "object",
         "type": "unknown"
        }
       ],
       "ref": "74a79936-b353-4c5f-b79c-af588c40afbd",
       "rows": [
        [
         "PassengerId",
         "0"
        ],
        [
         "Survived",
         "0"
        ],
        [
         "Pclass",
         "0"
        ],
        [
         "Name",
         "0"
        ],
        [
         "Sex",
         "0"
        ],
        [
         "Age",
         "0"
        ],
        [
         "SibSp",
         "0"
        ],
        [
         "Parch",
         "0"
        ],
        [
         "Ticket",
         "0"
        ],
        [
         "Fare",
         "0.0"
        ],
        [
         "Cabin",
         "0"
        ],
        [
         "Embarked",
         "0"
        ]
       ],
       "shape": {
        "columns": 1,
        "rows": 12
       }
      },
      "text/plain": [
       "PassengerId      0\n",
       "Survived         0\n",
       "Pclass           0\n",
       "Name             0\n",
       "Sex              0\n",
       "Age              0\n",
       "SibSp            0\n",
       "Parch            0\n",
       "Ticket           0\n",
       "Fare           0.0\n",
       "Cabin            0\n",
       "Embarked         0\n",
       "dtype: object"
      ]
     },
     "execution_count": 10,
     "metadata": {},
     "output_type": "execute_result"
    }
   ],
   "source": [
    "data.loc[data.Age.isnull()].sum()"
   ]
  },
  {
   "cell_type": "code",
   "execution_count": 11,
   "id": "e507e168",
   "metadata": {},
   "outputs": [
    {
     "data": {
      "application/vnd.microsoft.datawrangler.viewer.v0+json": {
       "columns": [
        {
         "name": "index",
         "rawType": "int64",
         "type": "integer"
        },
        {
         "name": "test",
         "rawType": "object",
         "type": "string"
        }
       ],
       "ref": "f05e6ff7-41ab-4362-8eea-8344900e9a57",
       "rows": [
        [
         "0",
         "yes"
        ],
        [
         "1",
         "yes"
        ],
        [
         "2",
         "yes"
        ],
        [
         "3",
         "yes"
        ],
        [
         "4",
         "yes"
        ]
       ],
       "shape": {
        "columns": 1,
        "rows": 5
       }
      },
      "text/plain": [
       "0    yes\n",
       "1    yes\n",
       "2    yes\n",
       "3    yes\n",
       "4    yes\n",
       "Name: test, dtype: object"
      ]
     },
     "execution_count": 11,
     "metadata": {},
     "output_type": "execute_result"
    }
   ],
   "source": [
    "data['test'] = 'yes'\n",
    "data.loc[:, 'test'].head()"
   ]
  },
  {
   "cell_type": "code",
   "execution_count": 12,
   "id": "6fbd1c3f",
   "metadata": {},
   "outputs": [
    {
     "data": {
      "application/vnd.microsoft.datawrangler.viewer.v0+json": {
       "columns": [
        {
         "name": "PassengerId",
         "rawType": "int64",
         "type": "integer"
        },
        {
         "name": "Name",
         "rawType": "object",
         "type": "string"
        },
        {
         "name": "Survived",
         "rawType": "float64",
         "type": "float"
        },
        {
         "name": "Fare",
         "rawType": "float64",
         "type": "float"
        },
        {
         "name": "index",
         "rawType": "int64",
         "type": "integer"
        }
       ],
       "ref": "e31cd77f-15eb-40b3-8a1a-b36a4785b6e5",
       "rows": [
        [
         "1",
         "Cumings, Mrs. John Bradley (Florence Briggs Thayer)",
         "1.0",
         "71.2833",
         "1"
        ],
        [
         "2",
         "Heikkinen, Miss. Laina",
         "1.0",
         "7.925",
         "2"
        ],
        [
         "3",
         "Futrelle, Mrs. Jacques Heath (Lily May Peel)",
         "1.0",
         "53.1",
         "3"
        ],
        [
         "4",
         "Allen, Mr. William Henry",
         "0.0",
         "8.05",
         "4"
        ],
        [
         "5",
         "Moran, Mr. James",
         "0.0",
         "8.4583",
         "5"
        ]
       ],
       "shape": {
        "columns": 4,
        "rows": 5
       }
      },
      "text/html": [
       "<div>\n",
       "<style scoped>\n",
       "    .dataframe tbody tr th:only-of-type {\n",
       "        vertical-align: middle;\n",
       "    }\n",
       "\n",
       "    .dataframe tbody tr th {\n",
       "        vertical-align: top;\n",
       "    }\n",
       "\n",
       "    .dataframe thead th {\n",
       "        text-align: right;\n",
       "    }\n",
       "</style>\n",
       "<table border=\"1\" class=\"dataframe\">\n",
       "  <thead>\n",
       "    <tr style=\"text-align: right;\">\n",
       "      <th></th>\n",
       "      <th>Name</th>\n",
       "      <th>Survived</th>\n",
       "      <th>Fare</th>\n",
       "      <th>index</th>\n",
       "    </tr>\n",
       "    <tr>\n",
       "      <th>PassengerId</th>\n",
       "      <th></th>\n",
       "      <th></th>\n",
       "      <th></th>\n",
       "      <th></th>\n",
       "    </tr>\n",
       "  </thead>\n",
       "  <tbody>\n",
       "    <tr>\n",
       "      <th>1</th>\n",
       "      <td>Cumings, Mrs. John Bradley (Florence Briggs Th...</td>\n",
       "      <td>1.0</td>\n",
       "      <td>71.2833</td>\n",
       "      <td>1</td>\n",
       "    </tr>\n",
       "    <tr>\n",
       "      <th>2</th>\n",
       "      <td>Heikkinen, Miss. Laina</td>\n",
       "      <td>1.0</td>\n",
       "      <td>7.9250</td>\n",
       "      <td>2</td>\n",
       "    </tr>\n",
       "    <tr>\n",
       "      <th>3</th>\n",
       "      <td>Futrelle, Mrs. Jacques Heath (Lily May Peel)</td>\n",
       "      <td>1.0</td>\n",
       "      <td>53.1000</td>\n",
       "      <td>3</td>\n",
       "    </tr>\n",
       "    <tr>\n",
       "      <th>4</th>\n",
       "      <td>Allen, Mr. William Henry</td>\n",
       "      <td>0.0</td>\n",
       "      <td>8.0500</td>\n",
       "      <td>4</td>\n",
       "    </tr>\n",
       "    <tr>\n",
       "      <th>5</th>\n",
       "      <td>Moran, Mr. James</td>\n",
       "      <td>0.0</td>\n",
       "      <td>8.4583</td>\n",
       "      <td>5</td>\n",
       "    </tr>\n",
       "  </tbody>\n",
       "</table>\n",
       "</div>"
      ],
      "text/plain": [
       "                                                          Name  Survived  \\\n",
       "PassengerId                                                                \n",
       "1            Cumings, Mrs. John Bradley (Florence Briggs Th...       1.0   \n",
       "2                                       Heikkinen, Miss. Laina       1.0   \n",
       "3                 Futrelle, Mrs. Jacques Heath (Lily May Peel)       1.0   \n",
       "4                                     Allen, Mr. William Henry       0.0   \n",
       "5                                             Moran, Mr. James       0.0   \n",
       "\n",
       "                Fare  index  \n",
       "PassengerId                  \n",
       "1            71.2833      1  \n",
       "2             7.9250      2  \n",
       "3            53.1000      3  \n",
       "4             8.0500      4  \n",
       "5             8.4583      5  "
      ]
     },
     "execution_count": 12,
     "metadata": {},
     "output_type": "execute_result"
    }
   ],
   "source": [
    "status['index'] = range(1, len(status)+1)\n",
    "status.head()"
   ]
  },
  {
   "cell_type": "markdown",
   "id": "db2115d4",
   "metadata": {},
   "source": [
    "***SUMMARY FUNCTIONS AND MAPS***"
   ]
  },
  {
   "cell_type": "markdown",
   "id": "bb329f9e",
   "metadata": {},
   "source": [
    "**SUMMARY FUNCTIONS**  \n",
    "Là những hàm trả về thông tin của DataFrame  \n",
    "Đối với dạng dữ liệu số sẽ trả về các thống kê trên toàn bảng  \n",
    "Đối với dạng dữ liệu phân loại sẽ trả về như sau :"
   ]
  },
  {
   "cell_type": "code",
   "execution_count": 13,
   "id": "18772ef5",
   "metadata": {},
   "outputs": [
    {
     "data": {
      "application/vnd.microsoft.datawrangler.viewer.v0+json": {
       "columns": [
        {
         "name": "index",
         "rawType": "object",
         "type": "string"
        },
        {
         "name": "Sex",
         "rawType": "object",
         "type": "unknown"
        }
       ],
       "ref": "9f025a26-2e37-4777-8518-cb5fc80c26e6",
       "rows": [
        [
         "count",
         "891"
        ],
        [
         "unique",
         "2"
        ],
        [
         "top",
         "male"
        ],
        [
         "freq",
         "577"
        ]
       ],
       "shape": {
        "columns": 1,
        "rows": 4
       }
      },
      "text/plain": [
       "count      891\n",
       "unique       2\n",
       "top       male\n",
       "freq       577\n",
       "Name: Sex, dtype: object"
      ]
     },
     "execution_count": 13,
     "metadata": {},
     "output_type": "execute_result"
    }
   ],
   "source": [
    "data.Sex.describe() "
   ]
  },
  {
   "cell_type": "code",
   "execution_count": 14,
   "id": "e322f5de",
   "metadata": {},
   "outputs": [
    {
     "data": {
      "text/plain": [
       "np.float64(32.204207968574636)"
      ]
     },
     "execution_count": 14,
     "metadata": {},
     "output_type": "execute_result"
    }
   ],
   "source": [
    "data['Fare'].mean()"
   ]
  },
  {
   "cell_type": "markdown",
   "id": "cdc6fd3e",
   "metadata": {},
   "source": [
    "***nunique và unique***  "
   ]
  },
  {
   "cell_type": "code",
   "execution_count": 15,
   "id": "3a70c41e",
   "metadata": {},
   "outputs": [
    {
     "data": {
      "text/plain": [
       "array(['male', 'female'], dtype=object)"
      ]
     },
     "execution_count": 15,
     "metadata": {},
     "output_type": "execute_result"
    }
   ],
   "source": [
    "data['Sex'].unique()"
   ]
  },
  {
   "cell_type": "code",
   "execution_count": 16,
   "id": "6808acd4",
   "metadata": {},
   "outputs": [],
   "source": [
    "x = data.nunique() # gọi data về cơ bản là gọi data[:, :]"
   ]
  },
  {
   "cell_type": "markdown",
   "id": "e2e28b74",
   "metadata": {},
   "source": [
    "***value_counts()***  \n",
    "Trả vể list các biến duy nhất và tần suất xuất hiện"
   ]
  },
  {
   "cell_type": "code",
   "execution_count": 17,
   "id": "68548114",
   "metadata": {},
   "outputs": [],
   "source": [
    "VC = data['Pclass'].value_counts()"
   ]
  },
  {
   "cell_type": "markdown",
   "id": "cb827e21",
   "metadata": {},
   "source": [
    "***MAPS***  \n",
    "map is a function used for transforming data to another type or representation"
   ]
  },
  {
   "cell_type": "code",
   "execution_count": 18,
   "id": "561ec960",
   "metadata": {},
   "outputs": [
    {
     "data": {
      "application/vnd.microsoft.datawrangler.viewer.v0+json": {
       "columns": [
        {
         "name": "index",
         "rawType": "int64",
         "type": "integer"
        },
        {
         "name": "Fare",
         "rawType": "float64",
         "type": "float"
        }
       ],
       "ref": "9003380e-1f3e-427f-b858-74badf0f0561",
       "rows": [
        [
         "0",
         "7.25"
        ],
        [
         "1",
         "71.2833"
        ],
        [
         "2",
         "7.925"
        ],
        [
         "3",
         "53.1"
        ],
        [
         "4",
         "8.05"
        ]
       ],
       "shape": {
        "columns": 1,
        "rows": 5
       }
      },
      "text/plain": [
       "0     7.2500\n",
       "1    71.2833\n",
       "2     7.9250\n",
       "3    53.1000\n",
       "4     8.0500\n",
       "Name: Fare, dtype: float64"
      ]
     },
     "execution_count": 18,
     "metadata": {},
     "output_type": "execute_result"
    }
   ],
   "source": [
    "data.Fare.head()"
   ]
  },
  {
   "cell_type": "markdown",
   "id": "0fbe4fcc",
   "metadata": {},
   "source": [
    "Cách hoạt động của map : nó sẽ iterate qua từng phần tử của data (*or so-called ánh xạ*)  \n",
    "sau đó tùy vào dữ liệu mà nó nhận gồm hàm / dict / Series mà sẽ biến đổi data thành phương thức được truyền vào"
   ]
  },
  {
   "cell_type": "code",
   "execution_count": 19,
   "id": "560d9127",
   "metadata": {},
   "outputs": [
    {
     "data": {
      "application/vnd.microsoft.datawrangler.viewer.v0+json": {
       "columns": [
        {
         "name": "index",
         "rawType": "int64",
         "type": "integer"
        },
        {
         "name": "Fare",
         "rawType": "float64",
         "type": "float"
        }
       ],
       "ref": "f371bf1b-9b51-476c-988c-c2c55c87dbda",
       "rows": [
        [
         "0",
         "-24.954207968574636"
        ],
        [
         "1",
         "39.07909203142536"
        ],
        [
         "2",
         "-24.279207968574635"
        ],
        [
         "3",
         "20.895792031425366"
        ],
        [
         "4",
         "-24.154207968574635"
        ]
       ],
       "shape": {
        "columns": 1,
        "rows": 5
       }
      },
      "text/plain": [
       "0   -24.954208\n",
       "1    39.079092\n",
       "2   -24.279208\n",
       "3    20.895792\n",
       "4   -24.154208\n",
       "Name: Fare, dtype: float64"
      ]
     },
     "execution_count": 19,
     "metadata": {},
     "output_type": "execute_result"
    }
   ],
   "source": [
    "mean_fare = data.Fare.mean()\n",
    "data['Fare'] = data.Fare.map(lambda x : x - mean_fare)\n",
    "data.Fare.head()"
   ]
  },
  {
   "cell_type": "markdown",
   "id": "3ada19e8",
   "metadata": {},
   "source": [
    "Ở đây khi dùng data.Fare.map, map sẽ ánh xạ từng phần tử của data.Fare vào biến x, với mỗi x  \n",
    "sẽ trừ đi mean_fare, cuối cùng trả về 1 Series  \n",
    "\n",
    "Bên dưới là ví dụ chuyển giới tính về 0 và 1 dùng map. Nhanh hơn LabelEncoder và trực quan hơn"
   ]
  },
  {
   "cell_type": "code",
   "execution_count": 20,
   "id": "b848e4f3",
   "metadata": {},
   "outputs": [
    {
     "data": {
      "application/vnd.microsoft.datawrangler.viewer.v0+json": {
       "columns": [
        {
         "name": "index",
         "rawType": "int64",
         "type": "integer"
        },
        {
         "name": "Sex",
         "rawType": "int64",
         "type": "integer"
        }
       ],
       "ref": "cc217e0c-b34b-42f2-9b98-0ef010bdc399",
       "rows": [
        [
         "0",
         "1"
        ],
        [
         "1",
         "0"
        ],
        [
         "2",
         "0"
        ],
        [
         "3",
         "0"
        ],
        [
         "4",
         "1"
        ]
       ],
       "shape": {
        "columns": 1,
        "rows": 5
       }
      },
      "text/plain": [
       "0    1\n",
       "1    0\n",
       "2    0\n",
       "3    0\n",
       "4    1\n",
       "Name: Sex, dtype: int64"
      ]
     },
     "execution_count": 20,
     "metadata": {},
     "output_type": "execute_result"
    }
   ],
   "source": [
    "data['Sex'] = data.Sex.map(lambda x : 1 if (x=='male') else 0)\n",
    "data['Sex'].head()"
   ]
  },
  {
   "cell_type": "markdown",
   "id": "76a4bd31",
   "metadata": {},
   "source": [
    "***APPLY***  \n",
    "Áp dụng hàm trong apply cho mọi giá trị trong Series (mặc định axis = 1)  \n",
    "Nếu áp dụng cho cột, dùng axis = 0"
   ]
  },
  {
   "cell_type": "code",
   "execution_count": 21,
   "id": "1c1a225e",
   "metadata": {},
   "outputs": [
    {
     "data": {
      "application/vnd.microsoft.datawrangler.viewer.v0+json": {
       "columns": [
        {
         "name": "index",
         "rawType": "int64",
         "type": "integer"
        },
        {
         "name": "Sex",
         "rawType": "object",
         "type": "string"
        }
       ],
       "ref": "0ec457a0-e0e8-42df-95e0-ac6ebea3a0bd",
       "rows": [
        [
         "0",
         "male"
        ],
        [
         "1",
         "female"
        ],
        [
         "2",
         "female"
        ],
        [
         "3",
         "female"
        ],
        [
         "4",
         "male"
        ]
       ],
       "shape": {
        "columns": 1,
        "rows": 5
       }
      },
      "text/plain": [
       "0      male\n",
       "1    female\n",
       "2    female\n",
       "3    female\n",
       "4      male\n",
       "Name: Sex, dtype: object"
      ]
     },
     "execution_count": 21,
     "metadata": {},
     "output_type": "execute_result"
    }
   ],
   "source": [
    "data.Sex = data['Sex'].apply((lambda x : 'male' if (x==1) else 'female'))\n",
    "data['Sex'].head()"
   ]
  },
  {
   "cell_type": "code",
   "execution_count": 22,
   "id": "e86e7b54",
   "metadata": {},
   "outputs": [
    {
     "data": {
      "application/vnd.microsoft.datawrangler.viewer.v0+json": {
       "columns": [
        {
         "name": "index",
         "rawType": "int64",
         "type": "integer"
        },
        {
         "name": "0",
         "rawType": "int64",
         "type": "integer"
        }
       ],
       "ref": "f79da02e-daa0-45dc-a8b5-baa82955cc05",
       "rows": [
        [
         "0",
         "4"
        ],
        [
         "1",
         "6"
        ]
       ],
       "shape": {
        "columns": 1,
        "rows": 2
       }
      },
      "text/plain": [
       "0    4\n",
       "1    6\n",
       "dtype: int64"
      ]
     },
     "execution_count": 22,
     "metadata": {},
     "output_type": "execute_result"
    }
   ],
   "source": [
    "df = pd.DataFrame({'A':[1,2], 'B':[3,4]})\n",
    "df_sum = df.apply(sum, axis=1)  # tính tổng từng hàng\n",
    "df_sum"
   ]
  },
  {
   "cell_type": "code",
   "execution_count": 23,
   "id": "b2e021eb",
   "metadata": {},
   "outputs": [
    {
     "data": {
      "application/vnd.microsoft.datawrangler.viewer.v0+json": {
       "columns": [
        {
         "name": "index",
         "rawType": "int64",
         "type": "integer"
        },
        {
         "name": "A",
         "rawType": "int64",
         "type": "integer"
        },
        {
         "name": "B",
         "rawType": "int64",
         "type": "integer"
        },
        {
         "name": "Total",
         "rawType": "int64",
         "type": "integer"
        }
       ],
       "ref": "5536fe3a-aba3-4558-9039-65640d386630",
       "rows": [
        [
         "0",
         "1",
         "3",
         "4"
        ],
        [
         "1",
         "2",
         "4",
         "6"
        ]
       ],
       "shape": {
        "columns": 3,
        "rows": 2
       }
      },
      "text/html": [
       "<div>\n",
       "<style scoped>\n",
       "    .dataframe tbody tr th:only-of-type {\n",
       "        vertical-align: middle;\n",
       "    }\n",
       "\n",
       "    .dataframe tbody tr th {\n",
       "        vertical-align: top;\n",
       "    }\n",
       "\n",
       "    .dataframe thead th {\n",
       "        text-align: right;\n",
       "    }\n",
       "</style>\n",
       "<table border=\"1\" class=\"dataframe\">\n",
       "  <thead>\n",
       "    <tr style=\"text-align: right;\">\n",
       "      <th></th>\n",
       "      <th>A</th>\n",
       "      <th>B</th>\n",
       "      <th>Total</th>\n",
       "    </tr>\n",
       "  </thead>\n",
       "  <tbody>\n",
       "    <tr>\n",
       "      <th>0</th>\n",
       "      <td>1</td>\n",
       "      <td>3</td>\n",
       "      <td>4</td>\n",
       "    </tr>\n",
       "    <tr>\n",
       "      <th>1</th>\n",
       "      <td>2</td>\n",
       "      <td>4</td>\n",
       "      <td>6</td>\n",
       "    </tr>\n",
       "  </tbody>\n",
       "</table>\n",
       "</div>"
      ],
      "text/plain": [
       "   A  B  Total\n",
       "0  1  3      4\n",
       "1  2  4      6"
      ]
     },
     "execution_count": 23,
     "metadata": {},
     "output_type": "execute_result"
    }
   ],
   "source": [
    "df['Total'] = df.apply(lambda row: row['A'] + row['B'], axis=1)\n",
    "df"
   ]
  },
  {
   "cell_type": "markdown",
   "id": "9695cb77",
   "metadata": {},
   "source": [
    "Có thể đơn giản meaning bằng cách dùng data['Fare'] - mean_fare  \n",
    "Và cũng có thể đơn giản gộp 2 Series lại với nhau : data['Name'] + '-' + data['Age']"
   ]
  },
  {
   "cell_type": "code",
   "execution_count": 24,
   "id": "90b55557",
   "metadata": {},
   "outputs": [
    {
     "data": {
      "application/vnd.microsoft.datawrangler.viewer.v0+json": {
       "columns": [
        {
         "name": "index",
         "rawType": "int64",
         "type": "integer"
        },
        {
         "name": "PassengerId",
         "rawType": "int64",
         "type": "integer"
        },
        {
         "name": "Survived",
         "rawType": "int64",
         "type": "integer"
        },
        {
         "name": "Pclass",
         "rawType": "int64",
         "type": "integer"
        },
        {
         "name": "Name",
         "rawType": "object",
         "type": "string"
        },
        {
         "name": "Sex",
         "rawType": "object",
         "type": "string"
        },
        {
         "name": "Age",
         "rawType": "object",
         "type": "string"
        },
        {
         "name": "SibSp",
         "rawType": "int64",
         "type": "integer"
        },
        {
         "name": "Parch",
         "rawType": "int64",
         "type": "integer"
        },
        {
         "name": "Ticket",
         "rawType": "object",
         "type": "string"
        },
        {
         "name": "Fare",
         "rawType": "float64",
         "type": "float"
        },
        {
         "name": "Cabin",
         "rawType": "object",
         "type": "string"
        },
        {
         "name": "Embarked",
         "rawType": "object",
         "type": "string"
        },
        {
         "name": "test",
         "rawType": "object",
         "type": "string"
        },
        {
         "name": "NA",
         "rawType": "object",
         "type": "string"
        }
       ],
       "ref": "eb769c3a-1343-4546-9927-3a1892bd054a",
       "rows": [
        [
         "0",
         "1",
         "0",
         "3",
         "Braund, Mr. Owen Harris",
         "male",
         "22",
         "1",
         "0",
         "A/5 21171",
         "-24.954207968574636",
         "\\N",
         "S",
         "yes",
         "Braund, Mr. Owen Harris-22"
        ],
        [
         "1",
         "2",
         "1",
         "1",
         "Cumings, Mrs. John Bradley (Florence Briggs Thayer)",
         "female",
         "38",
         "1",
         "0",
         "PC 17599",
         "39.07909203142536",
         "C85",
         "C",
         "yes",
         "Cumings, Mrs. John Bradley (Florence Briggs Thayer)-38"
        ]
       ],
       "shape": {
        "columns": 14,
        "rows": 2
       }
      },
      "text/html": [
       "<div>\n",
       "<style scoped>\n",
       "    .dataframe tbody tr th:only-of-type {\n",
       "        vertical-align: middle;\n",
       "    }\n",
       "\n",
       "    .dataframe tbody tr th {\n",
       "        vertical-align: top;\n",
       "    }\n",
       "\n",
       "    .dataframe thead th {\n",
       "        text-align: right;\n",
       "    }\n",
       "</style>\n",
       "<table border=\"1\" class=\"dataframe\">\n",
       "  <thead>\n",
       "    <tr style=\"text-align: right;\">\n",
       "      <th></th>\n",
       "      <th>PassengerId</th>\n",
       "      <th>Survived</th>\n",
       "      <th>Pclass</th>\n",
       "      <th>Name</th>\n",
       "      <th>Sex</th>\n",
       "      <th>Age</th>\n",
       "      <th>SibSp</th>\n",
       "      <th>Parch</th>\n",
       "      <th>Ticket</th>\n",
       "      <th>Fare</th>\n",
       "      <th>Cabin</th>\n",
       "      <th>Embarked</th>\n",
       "      <th>test</th>\n",
       "      <th>NA</th>\n",
       "    </tr>\n",
       "  </thead>\n",
       "  <tbody>\n",
       "    <tr>\n",
       "      <th>0</th>\n",
       "      <td>1</td>\n",
       "      <td>0</td>\n",
       "      <td>3</td>\n",
       "      <td>Braund, Mr. Owen Harris</td>\n",
       "      <td>male</td>\n",
       "      <td>22</td>\n",
       "      <td>1</td>\n",
       "      <td>0</td>\n",
       "      <td>A/5 21171</td>\n",
       "      <td>-24.954208</td>\n",
       "      <td>\\N</td>\n",
       "      <td>S</td>\n",
       "      <td>yes</td>\n",
       "      <td>Braund, Mr. Owen Harris-22</td>\n",
       "    </tr>\n",
       "    <tr>\n",
       "      <th>1</th>\n",
       "      <td>2</td>\n",
       "      <td>1</td>\n",
       "      <td>1</td>\n",
       "      <td>Cumings, Mrs. John Bradley (Florence Briggs Th...</td>\n",
       "      <td>female</td>\n",
       "      <td>38</td>\n",
       "      <td>1</td>\n",
       "      <td>0</td>\n",
       "      <td>PC 17599</td>\n",
       "      <td>39.079092</td>\n",
       "      <td>C85</td>\n",
       "      <td>C</td>\n",
       "      <td>yes</td>\n",
       "      <td>Cumings, Mrs. John Bradley (Florence Briggs Th...</td>\n",
       "    </tr>\n",
       "  </tbody>\n",
       "</table>\n",
       "</div>"
      ],
      "text/plain": [
       "   PassengerId  Survived  Pclass  \\\n",
       "0            1         0       3   \n",
       "1            2         1       1   \n",
       "\n",
       "                                                Name     Sex Age  SibSp  \\\n",
       "0                            Braund, Mr. Owen Harris    male  22      1   \n",
       "1  Cumings, Mrs. John Bradley (Florence Briggs Th...  female  38      1   \n",
       "\n",
       "   Parch     Ticket       Fare Cabin Embarked test  \\\n",
       "0      0  A/5 21171 -24.954208    \\N        S  yes   \n",
       "1      0   PC 17599  39.079092   C85        C  yes   \n",
       "\n",
       "                                                  NA  \n",
       "0                         Braund, Mr. Owen Harris-22  \n",
       "1  Cumings, Mrs. John Bradley (Florence Briggs Th...  "
      ]
     },
     "execution_count": 24,
     "metadata": {},
     "output_type": "execute_result"
    }
   ],
   "source": [
    "data['NA'] = data['Name'] + '-' + data['Age']\n",
    "data.head(2)"
   ]
  },
  {
   "cell_type": "markdown",
   "id": "38edf8ba",
   "metadata": {},
   "source": [
    "**FILL NA CHO DATAFRAME**"
   ]
  },
  {
   "cell_type": "code",
   "execution_count": 25,
   "id": "28be64d9",
   "metadata": {},
   "outputs": [],
   "source": [
    "import numpy as np\n",
    "data['Age'] = data.Age.replace(r'\\N', np.nan)"
   ]
  },
  {
   "cell_type": "code",
   "execution_count": 26,
   "id": "d4fb3d5b",
   "metadata": {},
   "outputs": [],
   "source": [
    "data['Age'] = pd.to_numeric(data['Age'])"
   ]
  },
  {
   "cell_type": "markdown",
   "id": "3d069980",
   "metadata": {},
   "source": [
    "***GROUPING AND SORTING***"
   ]
  },
  {
   "cell_type": "markdown",
   "id": "8079c734",
   "metadata": {},
   "source": [
    "***GROUPBY() FUNCTION***  \n",
    "dùng để chia dữ liệu theo nhóm dựa trên giá trị của một hay nhiều cột, sau đó có thể áp dụng các phép toán tổng hợp (aggregation), biến đổi (transformation), hoặc lọc (filter) trên từng nhóm riêng biệt."
   ]
  },
  {
   "cell_type": "code",
   "execution_count": 27,
   "id": "8dc0211d",
   "metadata": {},
   "outputs": [],
   "source": [
    "data['Age'] = pd.cut(data['Age'], bins= [0,20,30,40,60,100], labels = ['tre', 'thanh nien', 'truong thanh', 'trung nien', 'gia'])"
   ]
  },
  {
   "cell_type": "code",
   "execution_count": null,
   "id": "2644bc2b",
   "metadata": {},
   "outputs": [
    {
     "name": "stderr",
     "output_type": "stream",
     "text": [
      "C:\\Users\\MSI VN\\AppData\\Local\\Temp\\ipykernel_23760\\3631278127.py:1: FutureWarning: The default of observed=False is deprecated and will be changed to True in a future version of pandas. Pass observed=False to retain current behavior or observed=True to adopt the future default and silence this warning.\n",
      "  data.groupby('Age').Age.count()\n"
     ]
    },
    {
     "data": {
      "application/vnd.microsoft.datawrangler.viewer.v0+json": {
       "columns": [
        {
         "name": "Age",
         "rawType": "category",
         "type": "unknown"
        },
        {
         "name": "Age",
         "rawType": "int64",
         "type": "integer"
        }
       ],
       "ref": "6e71bac4-d685-4f38-bb97-d05ae3788efd",
       "rows": [
        [
         "tre",
         "179"
        ],
        [
         "thanh nien",
         "230"
        ],
        [
         "truong thanh",
         "155"
        ],
        [
         "trung nien",
         "128"
        ],
        [
         "gia",
         "22"
        ]
       ],
       "shape": {
        "columns": 1,
        "rows": 5
       }
      },
      "text/plain": [
       "Age\n",
       "tre             179\n",
       "thanh nien      230\n",
       "truong thanh    155\n",
       "trung nien      128\n",
       "gia              22\n",
       "Name: Age, dtype: int64"
      ]
     },
     "execution_count": 28,
     "metadata": {},
     "output_type": "execute_result"
    }
   ],
   "source": [
    "data.groupby('Age').Age.count() "
   ]
  },
  {
   "cell_type": "markdown",
   "id": "d9f681c0",
   "metadata": {},
   "source": [
    "Groupby trả về 1 kiểu dữ liệu riêng, và sẽ chỉ thực thi khi được gọi hàm mean(), sum(), count(),...\n",
    "Đối với lệnh data.groupby('Age').Age.count() sẽ tạo 1 groupby type, cột được group là Age, giới hạn \n",
    "dataframe lại theo Age, và áp dụng hàm count cho từng nhóm"
   ]
  },
  {
   "cell_type": "code",
   "execution_count": 29,
   "id": "317bbed9",
   "metadata": {},
   "outputs": [
    {
     "name": "stderr",
     "output_type": "stream",
     "text": [
      "C:\\Users\\MSI VN\\AppData\\Local\\Temp\\ipykernel_23760\\3972973928.py:1: FutureWarning: The default of observed=False is deprecated and will be changed to True in a future version of pandas. Pass observed=False to retain current behavior or observed=True to adopt the future default and silence this warning.\n",
      "  data.groupby('Age')['Fare'].mean() #group số tuổi của hành khách sau đó tính mean Fare\n"
     ]
    },
    {
     "data": {
      "application/vnd.microsoft.datawrangler.viewer.v0+json": {
       "columns": [
        {
         "name": "Age",
         "rawType": "category",
         "type": "unknown"
        },
        {
         "name": "Fare",
         "rawType": "float64",
         "type": "float"
        }
       ],
       "ref": "3025f030-3ab0-4f89-aa51-b7bfc78ac77e",
       "rows": [
        [
         "tre",
         "-2.351134225557876"
        ],
        [
         "thanh nien",
         "-3.8974892729224617"
        ],
        [
         "truong thanh",
         "10.291892031425366"
        ],
        [
         "trung nien",
         "10.144036562675364"
        ],
        [
         "gia",
         "9.167005667789"
        ]
       ],
       "shape": {
        "columns": 1,
        "rows": 5
       }
      },
      "text/plain": [
       "Age\n",
       "tre             -2.351134\n",
       "thanh nien      -3.897489\n",
       "truong thanh    10.291892\n",
       "trung nien      10.144037\n",
       "gia              9.167006\n",
       "Name: Fare, dtype: float64"
      ]
     },
     "execution_count": 29,
     "metadata": {},
     "output_type": "execute_result"
    }
   ],
   "source": [
    "data.groupby('Age')['Fare'].mean() #group số tuổi của hành khách sau đó tính mean Fare"
   ]
  },
  {
   "cell_type": "code",
   "execution_count": 30,
   "id": "4193251b",
   "metadata": {},
   "outputs": [
    {
     "name": "stderr",
     "output_type": "stream",
     "text": [
      "C:\\Users\\MSI VN\\AppData\\Local\\Temp\\ipykernel_23760\\3015443280.py:1: FutureWarning: The default of observed=False is deprecated and will be changed to True in a future version of pandas. Pass observed=False to retain current behavior or observed=True to adopt the future default and silence this warning.\n",
      "  data.loc[data['Survived'] == 0].groupby(['Age'])['Survived'].count()\n"
     ]
    },
    {
     "data": {
      "application/vnd.microsoft.datawrangler.viewer.v0+json": {
       "columns": [
        {
         "name": "Age",
         "rawType": "category",
         "type": "unknown"
        },
        {
         "name": "Survived",
         "rawType": "int64",
         "type": "integer"
        }
       ],
       "ref": "8c9cd709-a9b1-4545-b54b-a96363d40165",
       "rows": [
        [
         "tre",
         "97"
        ],
        [
         "thanh nien",
         "146"
        ],
        [
         "truong thanh",
         "86"
        ],
        [
         "trung nien",
         "78"
        ],
        [
         "gia",
         "17"
        ]
       ],
       "shape": {
        "columns": 1,
        "rows": 5
       }
      },
      "text/plain": [
       "Age\n",
       "tre              97\n",
       "thanh nien      146\n",
       "truong thanh     86\n",
       "trung nien       78\n",
       "gia              17\n",
       "Name: Survived, dtype: int64"
      ]
     },
     "execution_count": 30,
     "metadata": {},
     "output_type": "execute_result"
    }
   ],
   "source": [
    "data.loc[data['Survived'] == 0].groupby(['Age'])['Survived'].count()\n",
    "#lọc ra những người đã chết -> group lại theo nhóm -> thông tin là Survived -> đếm số lượng mỗi nhóm"
   ]
  },
  {
   "cell_type": "code",
   "execution_count": 31,
   "id": "d7bf238f",
   "metadata": {},
   "outputs": [
    {
     "name": "stderr",
     "output_type": "stream",
     "text": [
      "C:\\Users\\MSI VN\\AppData\\Local\\Temp\\ipykernel_23760\\3062997515.py:1: FutureWarning: The default of observed=False is deprecated and will be changed to True in a future version of pandas. Pass observed=False to retain current behavior or observed=True to adopt the future default and silence this warning.\n",
      "  des = data.groupby(['Age']).Fare.agg([len, min, max])\n",
      "C:\\Users\\MSI VN\\AppData\\Local\\Temp\\ipykernel_23760\\3062997515.py:1: FutureWarning: The provided callable <built-in function min> is currently using SeriesGroupBy.min. In a future version of pandas, the provided callable will be used directly. To keep current behavior pass the string \"min\" instead.\n",
      "  des = data.groupby(['Age']).Fare.agg([len, min, max])\n",
      "C:\\Users\\MSI VN\\AppData\\Local\\Temp\\ipykernel_23760\\3062997515.py:1: FutureWarning: The provided callable <built-in function max> is currently using SeriesGroupBy.max. In a future version of pandas, the provided callable will be used directly. To keep current behavior pass the string \"max\" instead.\n",
      "  des = data.groupby(['Age']).Fare.agg([len, min, max])\n"
     ]
    }
   ],
   "source": [
    "des = data.groupby(['Age']).Fare.agg([len, min, max])"
   ]
  },
  {
   "cell_type": "markdown",
   "id": "04ba7ff4",
   "metadata": {},
   "source": [
    "Nếu là value_counts() thì nó chỉ đếm được số giá trị nằm trong cột được chọn, còn groupby có thể\n",
    "đếm được số lượng thuộc tính này ứng với thuộc tính khác, ở đây là số province ứng với mỗi country"
   ]
  },
  {
   "cell_type": "markdown",
   "id": "a706ef2e",
   "metadata": {},
   "source": [
    "***SORTING***\n"
   ]
  },
  {
   "cell_type": "code",
   "execution_count": 32,
   "id": "f6448ae1",
   "metadata": {},
   "outputs": [
    {
     "data": {
      "application/vnd.microsoft.datawrangler.viewer.v0+json": {
       "columns": [
        {
         "name": "index",
         "rawType": "int64",
         "type": "integer"
        },
        {
         "name": "PassengerId",
         "rawType": "int64",
         "type": "integer"
        },
        {
         "name": "Survived",
         "rawType": "int64",
         "type": "integer"
        },
        {
         "name": "Pclass",
         "rawType": "int64",
         "type": "integer"
        },
        {
         "name": "Name",
         "rawType": "object",
         "type": "string"
        },
        {
         "name": "Sex",
         "rawType": "object",
         "type": "string"
        },
        {
         "name": "Age",
         "rawType": "category",
         "type": "unknown"
        },
        {
         "name": "SibSp",
         "rawType": "int64",
         "type": "integer"
        },
        {
         "name": "Parch",
         "rawType": "int64",
         "type": "integer"
        },
        {
         "name": "Ticket",
         "rawType": "object",
         "type": "string"
        },
        {
         "name": "Fare",
         "rawType": "float64",
         "type": "float"
        },
        {
         "name": "Cabin",
         "rawType": "object",
         "type": "string"
        },
        {
         "name": "Embarked",
         "rawType": "object",
         "type": "string"
        },
        {
         "name": "test",
         "rawType": "object",
         "type": "string"
        },
        {
         "name": "NA",
         "rawType": "object",
         "type": "string"
        }
       ],
       "ref": "43b1030b-81b4-461b-9b38-56b8b8861b3f",
       "rows": [
        [
         "438",
         "439",
         "0",
         "1",
         "Fortune, Mr. Mark",
         "male",
         "gia",
         "1",
         "4",
         "19950",
         "230.79579203142538",
         "C23 C25 C27",
         "S",
         "yes",
         "Fortune, Mr. Mark-64"
        ],
        [
         "252",
         "253",
         "0",
         "1",
         "Stead, Mr. William Thomas",
         "male",
         "gia",
         "0",
         "0",
         "113514",
         "-5.654207968574635",
         "C87",
         "S",
         "yes",
         "Stead, Mr. William Thomas-62"
        ],
        [
         "456",
         "457",
         "0",
         "1",
         "Millet, Mr. Francis Davis",
         "male",
         "gia",
         "0",
         "0",
         "13509",
         "-5.654207968574635",
         "E38",
         "S",
         "yes",
         "Millet, Mr. Francis Davis-65"
        ],
        [
         "96",
         "97",
         "0",
         "1",
         "Goldschmidt, Mr. George B",
         "male",
         "gia",
         "0",
         "0",
         "PC 17754",
         "2.449992031425367",
         "A5",
         "C",
         "yes",
         "Goldschmidt, Mr. George B-71"
        ],
        [
         "555",
         "556",
         "0",
         "1",
         "Wright, Mr. George",
         "male",
         "gia",
         "0",
         "0",
         "113807",
         "-5.654207968574635",
         "\\N",
         "S",
         "yes",
         "Wright, Mr. George-62"
        ]
       ],
       "shape": {
        "columns": 14,
        "rows": 5
       }
      },
      "text/html": [
       "<div>\n",
       "<style scoped>\n",
       "    .dataframe tbody tr th:only-of-type {\n",
       "        vertical-align: middle;\n",
       "    }\n",
       "\n",
       "    .dataframe tbody tr th {\n",
       "        vertical-align: top;\n",
       "    }\n",
       "\n",
       "    .dataframe thead th {\n",
       "        text-align: right;\n",
       "    }\n",
       "</style>\n",
       "<table border=\"1\" class=\"dataframe\">\n",
       "  <thead>\n",
       "    <tr style=\"text-align: right;\">\n",
       "      <th></th>\n",
       "      <th>PassengerId</th>\n",
       "      <th>Survived</th>\n",
       "      <th>Pclass</th>\n",
       "      <th>Name</th>\n",
       "      <th>Sex</th>\n",
       "      <th>Age</th>\n",
       "      <th>SibSp</th>\n",
       "      <th>Parch</th>\n",
       "      <th>Ticket</th>\n",
       "      <th>Fare</th>\n",
       "      <th>Cabin</th>\n",
       "      <th>Embarked</th>\n",
       "      <th>test</th>\n",
       "      <th>NA</th>\n",
       "    </tr>\n",
       "  </thead>\n",
       "  <tbody>\n",
       "    <tr>\n",
       "      <th>438</th>\n",
       "      <td>439</td>\n",
       "      <td>0</td>\n",
       "      <td>1</td>\n",
       "      <td>Fortune, Mr. Mark</td>\n",
       "      <td>male</td>\n",
       "      <td>gia</td>\n",
       "      <td>1</td>\n",
       "      <td>4</td>\n",
       "      <td>19950</td>\n",
       "      <td>230.795792</td>\n",
       "      <td>C23 C25 C27</td>\n",
       "      <td>S</td>\n",
       "      <td>yes</td>\n",
       "      <td>Fortune, Mr. Mark-64</td>\n",
       "    </tr>\n",
       "    <tr>\n",
       "      <th>252</th>\n",
       "      <td>253</td>\n",
       "      <td>0</td>\n",
       "      <td>1</td>\n",
       "      <td>Stead, Mr. William Thomas</td>\n",
       "      <td>male</td>\n",
       "      <td>gia</td>\n",
       "      <td>0</td>\n",
       "      <td>0</td>\n",
       "      <td>113514</td>\n",
       "      <td>-5.654208</td>\n",
       "      <td>C87</td>\n",
       "      <td>S</td>\n",
       "      <td>yes</td>\n",
       "      <td>Stead, Mr. William Thomas-62</td>\n",
       "    </tr>\n",
       "    <tr>\n",
       "      <th>456</th>\n",
       "      <td>457</td>\n",
       "      <td>0</td>\n",
       "      <td>1</td>\n",
       "      <td>Millet, Mr. Francis Davis</td>\n",
       "      <td>male</td>\n",
       "      <td>gia</td>\n",
       "      <td>0</td>\n",
       "      <td>0</td>\n",
       "      <td>13509</td>\n",
       "      <td>-5.654208</td>\n",
       "      <td>E38</td>\n",
       "      <td>S</td>\n",
       "      <td>yes</td>\n",
       "      <td>Millet, Mr. Francis Davis-65</td>\n",
       "    </tr>\n",
       "    <tr>\n",
       "      <th>96</th>\n",
       "      <td>97</td>\n",
       "      <td>0</td>\n",
       "      <td>1</td>\n",
       "      <td>Goldschmidt, Mr. George B</td>\n",
       "      <td>male</td>\n",
       "      <td>gia</td>\n",
       "      <td>0</td>\n",
       "      <td>0</td>\n",
       "      <td>PC 17754</td>\n",
       "      <td>2.449992</td>\n",
       "      <td>A5</td>\n",
       "      <td>C</td>\n",
       "      <td>yes</td>\n",
       "      <td>Goldschmidt, Mr. George B-71</td>\n",
       "    </tr>\n",
       "    <tr>\n",
       "      <th>555</th>\n",
       "      <td>556</td>\n",
       "      <td>0</td>\n",
       "      <td>1</td>\n",
       "      <td>Wright, Mr. George</td>\n",
       "      <td>male</td>\n",
       "      <td>gia</td>\n",
       "      <td>0</td>\n",
       "      <td>0</td>\n",
       "      <td>113807</td>\n",
       "      <td>-5.654208</td>\n",
       "      <td>\\N</td>\n",
       "      <td>S</td>\n",
       "      <td>yes</td>\n",
       "      <td>Wright, Mr. George-62</td>\n",
       "    </tr>\n",
       "  </tbody>\n",
       "</table>\n",
       "</div>"
      ],
      "text/plain": [
       "     PassengerId  Survived  Pclass                       Name   Sex  Age  \\\n",
       "438          439         0       1          Fortune, Mr. Mark  male  gia   \n",
       "252          253         0       1  Stead, Mr. William Thomas  male  gia   \n",
       "456          457         0       1  Millet, Mr. Francis Davis  male  gia   \n",
       "96            97         0       1  Goldschmidt, Mr. George B  male  gia   \n",
       "555          556         0       1         Wright, Mr. George  male  gia   \n",
       "\n",
       "     SibSp  Parch    Ticket        Fare        Cabin Embarked test  \\\n",
       "438      1      4     19950  230.795792  C23 C25 C27        S  yes   \n",
       "252      0      0    113514   -5.654208          C87        S  yes   \n",
       "456      0      0     13509   -5.654208          E38        S  yes   \n",
       "96       0      0  PC 17754    2.449992           A5        C  yes   \n",
       "555      0      0    113807   -5.654208           \\N        S  yes   \n",
       "\n",
       "                               NA  \n",
       "438          Fortune, Mr. Mark-64  \n",
       "252  Stead, Mr. William Thomas-62  \n",
       "456  Millet, Mr. Francis Davis-65  \n",
       "96   Goldschmidt, Mr. George B-71  \n",
       "555         Wright, Mr. George-62  "
      ]
     },
     "execution_count": 32,
     "metadata": {},
     "output_type": "execute_result"
    }
   ],
   "source": [
    "data.sort_values(by=['Age'], ascending = False).head()"
   ]
  },
  {
   "cell_type": "markdown",
   "id": "d521b002",
   "metadata": {},
   "source": [
    "***TYPE AND DATA***\n"
   ]
  },
  {
   "cell_type": "markdown",
   "id": "9632b7e9",
   "metadata": {},
   "source": [
    "**dtype** : trả về kiểu dữ liệu của 1 cột"
   ]
  },
  {
   "cell_type": "code",
   "execution_count": 33,
   "id": "39afdbea",
   "metadata": {},
   "outputs": [
    {
     "data": {
      "text/plain": [
       "dtype('O')"
      ]
     },
     "execution_count": 33,
     "metadata": {},
     "output_type": "execute_result"
    }
   ],
   "source": [
    "data.Sex.dtype"
   ]
  },
  {
   "cell_type": "code",
   "execution_count": 34,
   "id": "96516a57",
   "metadata": {},
   "outputs": [
    {
     "data": {
      "application/vnd.microsoft.datawrangler.viewer.v0+json": {
       "columns": [
        {
         "name": "index",
         "rawType": "object",
         "type": "string"
        },
        {
         "name": "0",
         "rawType": "object",
         "type": "unknown"
        }
       ],
       "ref": "afd0da04-bb73-458d-ab48-a8f5e5e15e7a",
       "rows": [
        [
         "PassengerId",
         "int64"
        ],
        [
         "Survived",
         "int64"
        ],
        [
         "Pclass",
         "int64"
        ],
        [
         "Name",
         "object"
        ],
        [
         "Sex",
         "object"
        ],
        [
         "Age",
         "category"
        ],
        [
         "SibSp",
         "int64"
        ],
        [
         "Parch",
         "int64"
        ],
        [
         "Ticket",
         "object"
        ],
        [
         "Fare",
         "float64"
        ],
        [
         "Cabin",
         "object"
        ],
        [
         "Embarked",
         "object"
        ],
        [
         "test",
         "object"
        ],
        [
         "NA",
         "object"
        ]
       ],
       "shape": {
        "columns": 1,
        "rows": 14
       }
      },
      "text/plain": [
       "PassengerId       int64\n",
       "Survived          int64\n",
       "Pclass            int64\n",
       "Name             object\n",
       "Sex              object\n",
       "Age            category\n",
       "SibSp             int64\n",
       "Parch             int64\n",
       "Ticket           object\n",
       "Fare            float64\n",
       "Cabin            object\n",
       "Embarked         object\n",
       "test             object\n",
       "NA               object\n",
       "dtype: object"
      ]
     },
     "execution_count": 34,
     "metadata": {},
     "output_type": "execute_result"
    }
   ],
   "source": [
    "data.dtypes"
   ]
  },
  {
   "cell_type": "markdown",
   "id": "19cc9d47",
   "metadata": {},
   "source": [
    "**astype(<type>)** chuyển đổi kiểu dữ liệu"
   ]
  },
  {
   "cell_type": "code",
   "execution_count": 35,
   "id": "83fca988",
   "metadata": {},
   "outputs": [
    {
     "data": {
      "text/plain": [
       "dtype('float64')"
      ]
     },
     "execution_count": 35,
     "metadata": {},
     "output_type": "execute_result"
    }
   ],
   "source": [
    "data.Fare.dtype"
   ]
  },
  {
   "cell_type": "code",
   "execution_count": 36,
   "id": "d18c2403",
   "metadata": {},
   "outputs": [
    {
     "data": {
      "application/vnd.microsoft.datawrangler.viewer.v0+json": {
       "columns": [
        {
         "name": "index",
         "rawType": "int64",
         "type": "integer"
        },
        {
         "name": "Fare",
         "rawType": "int64",
         "type": "integer"
        }
       ],
       "ref": "a8064165-cbed-4685-a1c0-3f43ac46840e",
       "rows": [
        [
         "0",
         "-24"
        ],
        [
         "1",
         "39"
        ],
        [
         "2",
         "-24"
        ],
        [
         "3",
         "20"
        ],
        [
         "4",
         "-24"
        ],
        [
         "5",
         "-23"
        ],
        [
         "6",
         "19"
        ],
        [
         "7",
         "-11"
        ],
        [
         "8",
         "-21"
        ],
        [
         "9",
         "-2"
        ],
        [
         "10",
         "-15"
        ],
        [
         "11",
         "-5"
        ],
        [
         "12",
         "-24"
        ],
        [
         "13",
         "0"
        ],
        [
         "14",
         "-24"
        ],
        [
         "15",
         "-16"
        ],
        [
         "16",
         "-3"
        ],
        [
         "17",
         "-19"
        ],
        [
         "18",
         "-14"
        ],
        [
         "19",
         "-24"
        ],
        [
         "20",
         "-6"
        ],
        [
         "21",
         "-19"
        ],
        [
         "22",
         "-24"
        ],
        [
         "23",
         "3"
        ],
        [
         "24",
         "-11"
        ],
        [
         "25",
         "0"
        ],
        [
         "26",
         "-24"
        ],
        [
         "27",
         "230"
        ],
        [
         "28",
         "-24"
        ],
        [
         "29",
         "-24"
        ],
        [
         "30",
         "-4"
        ],
        [
         "31",
         "114"
        ],
        [
         "32",
         "-24"
        ],
        [
         "33",
         "-21"
        ],
        [
         "34",
         "49"
        ],
        [
         "35",
         "19"
        ],
        [
         "36",
         "-24"
        ],
        [
         "37",
         "-24"
        ],
        [
         "38",
         "-14"
        ],
        [
         "39",
         "-20"
        ],
        [
         "40",
         "-22"
        ],
        [
         "41",
         "-11"
        ],
        [
         "42",
         "-24"
        ],
        [
         "43",
         "9"
        ],
        [
         "44",
         "-24"
        ],
        [
         "45",
         "-24"
        ],
        [
         "46",
         "-16"
        ],
        [
         "47",
         "-24"
        ],
        [
         "48",
         "-10"
        ],
        [
         "49",
         "-14"
        ]
       ],
       "shape": {
        "columns": 1,
        "rows": 891
       }
      },
      "text/plain": [
       "0     -24\n",
       "1      39\n",
       "2     -24\n",
       "3      20\n",
       "4     -24\n",
       "       ..\n",
       "886   -19\n",
       "887    -2\n",
       "888    -8\n",
       "889    -2\n",
       "890   -24\n",
       "Name: Fare, Length: 891, dtype: int64"
      ]
     },
     "execution_count": 36,
     "metadata": {},
     "output_type": "execute_result"
    }
   ],
   "source": [
    "data.Fare.astype('int64')"
   ]
  },
  {
   "cell_type": "code",
   "execution_count": 37,
   "id": "db97ca94",
   "metadata": {},
   "outputs": [
    {
     "data": {
      "application/vnd.microsoft.datawrangler.viewer.v0+json": {
       "columns": [
        {
         "name": "index",
         "rawType": "int64",
         "type": "integer"
        },
        {
         "name": "Fare",
         "rawType": "float64",
         "type": "float"
        }
       ],
       "ref": "bbb5f33c-7528-4e1a-8464-a9109ce226fa",
       "rows": [
        [
         "0",
         "-24.954207968574636"
        ],
        [
         "1",
         "39.07909203142536"
        ],
        [
         "2",
         "-24.279207968574635"
        ],
        [
         "3",
         "20.895792031425366"
        ],
        [
         "4",
         "-24.154207968574635"
        ],
        [
         "5",
         "-23.745907968574635"
        ],
        [
         "6",
         "19.65829203142536"
        ],
        [
         "7",
         "-11.129207968574637"
        ],
        [
         "8",
         "-21.070907968574637"
        ],
        [
         "9",
         "-2.1334079685746374"
        ],
        [
         "10",
         "-15.504207968574637"
        ],
        [
         "11",
         "-5.654207968574635"
        ],
        [
         "12",
         "-24.154207968574635"
        ],
        [
         "13",
         "-0.9292079685746373"
        ],
        [
         "14",
         "-24.350007968574637"
        ],
        [
         "15",
         "-16.204207968574636"
        ],
        [
         "16",
         "-3.079207968574636"
        ],
        [
         "17",
         "-19.204207968574636"
        ],
        [
         "18",
         "-14.204207968574636"
        ],
        [
         "19",
         "-24.979207968574634"
        ],
        [
         "20",
         "-6.204207968574636"
        ],
        [
         "21",
         "-19.204207968574636"
        ],
        [
         "22",
         "-24.175007968574636"
        ],
        [
         "23",
         "3.295792031425364"
        ],
        [
         "24",
         "-11.129207968574637"
        ],
        [
         "25",
         "-0.8167079685746366"
        ],
        [
         "26",
         "-24.979207968574634"
        ],
        [
         "27",
         "230.79579203142538"
        ],
        [
         "28",
         "-24.325007968574635"
        ],
        [
         "29",
         "-24.308407968574635"
        ],
        [
         "30",
         "-4.483407968574635"
        ],
        [
         "31",
         "114.31659203142537"
        ],
        [
         "32",
         "-24.454207968574636"
        ],
        [
         "33",
         "-21.704207968574636"
        ],
        [
         "34",
         "49.966592031425364"
        ],
        [
         "35",
         "19.795792031425364"
        ],
        [
         "36",
         "-24.975007968574637"
        ],
        [
         "37",
         "-24.154207968574635"
        ],
        [
         "38",
         "-14.204207968574636"
        ],
        [
         "39",
         "-20.962507968574634"
        ],
        [
         "40",
         "-22.729207968574634"
        ],
        [
         "41",
         "-11.204207968574636"
        ],
        [
         "42",
         "-24.308407968574635"
        ],
        [
         "43",
         "9.374992031425364"
        ],
        [
         "44",
         "-24.325007968574635"
        ],
        [
         "45",
         "-24.154207968574635"
        ],
        [
         "46",
         "-16.704207968574636"
        ],
        [
         "47",
         "-24.454207968574636"
        ],
        [
         "48",
         "-10.525007968574634"
        ],
        [
         "49",
         "-14.404207968574635"
        ]
       ],
       "shape": {
        "columns": 1,
        "rows": 891
       }
      },
      "text/plain": [
       "0     -24.954208\n",
       "1      39.079092\n",
       "2     -24.279208\n",
       "3      20.895792\n",
       "4     -24.154208\n",
       "         ...    \n",
       "886   -19.204208\n",
       "887    -2.204208\n",
       "888    -8.754208\n",
       "889    -2.204208\n",
       "890   -24.454208\n",
       "Name: Fare, Length: 891, dtype: float64"
      ]
     },
     "execution_count": 37,
     "metadata": {},
     "output_type": "execute_result"
    }
   ],
   "source": [
    "data.Fare.map(lambda x : float(x))"
   ]
  },
  {
   "cell_type": "markdown",
   "id": "7bcfb11c",
   "metadata": {},
   "source": [
    "***MISSING DATA NaN***"
   ]
  },
  {
   "cell_type": "code",
   "execution_count": 38,
   "id": "c3c43040",
   "metadata": {},
   "outputs": [
    {
     "data": {
      "text/plain": [
       "177"
      ]
     },
     "execution_count": 38,
     "metadata": {},
     "output_type": "execute_result"
    }
   ],
   "source": [
    "len(data.loc[data.Age.isnull() == True])"
   ]
  },
  {
   "cell_type": "code",
   "execution_count": 39,
   "id": "d1c6b50e",
   "metadata": {},
   "outputs": [
    {
     "data": {
      "application/vnd.microsoft.datawrangler.viewer.v0+json": {
       "columns": [
        {
         "name": "index",
         "rawType": "object",
         "type": "string"
        },
        {
         "name": "5",
         "rawType": "object",
         "type": "unknown"
        }
       ],
       "ref": "a156faf4-6173-49b4-b2d0-0db395863f11",
       "rows": [
        [
         "PassengerId",
         "6"
        ],
        [
         "Survived",
         "0"
        ],
        [
         "Pclass",
         "3"
        ],
        [
         "Name",
         "Moran, Mr. James"
        ],
        [
         "Sex",
         "male"
        ],
        [
         "Age",
         null
        ],
        [
         "SibSp",
         "0"
        ],
        [
         "Parch",
         "0"
        ],
        [
         "Ticket",
         "330877"
        ],
        [
         "Fare",
         "-23.745907968574635"
        ],
        [
         "Cabin",
         "\\N"
        ],
        [
         "Embarked",
         "Q"
        ],
        [
         "test",
         "yes"
        ],
        [
         "NA",
         "Moran, Mr. James-\\N"
        ]
       ],
       "shape": {
        "columns": 1,
        "rows": 14
       }
      },
      "text/plain": [
       "PassengerId                      6\n",
       "Survived                         0\n",
       "Pclass                           3\n",
       "Name              Moran, Mr. James\n",
       "Sex                           male\n",
       "Age                            NaN\n",
       "SibSp                            0\n",
       "Parch                            0\n",
       "Ticket                      330877\n",
       "Fare                    -23.745908\n",
       "Cabin                           \\N\n",
       "Embarked                         Q\n",
       "test                           yes\n",
       "NA             Moran, Mr. James-\\N\n",
       "Name: 5, dtype: object"
      ]
     },
     "execution_count": 39,
     "metadata": {},
     "output_type": "execute_result"
    }
   ],
   "source": [
    "data.iloc[5]"
   ]
  },
  {
   "cell_type": "markdown",
   "id": "8dbab3fe",
   "metadata": {},
   "source": [
    "***fillna()*** : đơn giản là thế\n"
   ]
  },
  {
   "cell_type": "markdown",
   "id": "70ed2f27",
   "metadata": {},
   "source": [
    "***replace(object, replacement)*** : đổi giá trị object thành replacement"
   ]
  },
  {
   "cell_type": "code",
   "execution_count": 40,
   "id": "9b993f80",
   "metadata": {},
   "outputs": [
    {
     "data": {
      "application/vnd.microsoft.datawrangler.viewer.v0+json": {
       "columns": [
        {
         "name": "index",
         "rawType": "object",
         "type": "string"
        },
        {
         "name": "0",
         "rawType": "object",
         "type": "unknown"
        }
       ],
       "ref": "6de10b57-88ca-471a-aa07-c0f78dc9fdef",
       "rows": [
        [
         "PassengerId",
         "1"
        ],
        [
         "Survived",
         "1"
        ],
        [
         "Pclass",
         "3"
        ],
        [
         "Name",
         "Braund, Mr. Owen Harris"
        ],
        [
         "Sex",
         "male"
        ],
        [
         "Age",
         "thanh nien"
        ],
        [
         "SibSp",
         "1"
        ],
        [
         "Parch",
         "1"
        ],
        [
         "Ticket",
         "A/5 21171"
        ],
        [
         "Fare",
         "-24.954207968574636"
        ],
        [
         "Cabin",
         "\\N"
        ],
        [
         "Embarked",
         "S"
        ],
        [
         "test",
         "yes"
        ],
        [
         "NA",
         "Braund, Mr. Owen Harris-22"
        ]
       ],
       "shape": {
        "columns": 1,
        "rows": 14
       }
      },
      "text/plain": [
       "PassengerId                             1\n",
       "Survived                                1\n",
       "Pclass                                  3\n",
       "Name              Braund, Mr. Owen Harris\n",
       "Sex                                  male\n",
       "Age                            thanh nien\n",
       "SibSp                                   1\n",
       "Parch                                   1\n",
       "Ticket                          A/5 21171\n",
       "Fare                           -24.954208\n",
       "Cabin                                  \\N\n",
       "Embarked                                S\n",
       "test                                  yes\n",
       "NA             Braund, Mr. Owen Harris-22\n",
       "Name: 0, dtype: object"
      ]
     },
     "execution_count": 40,
     "metadata": {},
     "output_type": "execute_result"
    }
   ],
   "source": [
    "data.replace(data.Survived[0], 1).iloc[0]"
   ]
  },
  {
   "cell_type": "markdown",
   "id": "de0c8c5f",
   "metadata": {},
   "source": [
    "***RENAMING AND COMBINING***"
   ]
  },
  {
   "cell_type": "markdown",
   "id": "66ee017e",
   "metadata": {},
   "source": [
    "**RENAMING**  \n",
    "rename(columns = {'**original name**' : '**desired name**'})"
   ]
  },
  {
   "cell_type": "code",
   "execution_count": 41,
   "id": "016b3067",
   "metadata": {},
   "outputs": [
    {
     "data": {
      "application/vnd.microsoft.datawrangler.viewer.v0+json": {
       "columns": [
        {
         "name": "index",
         "rawType": "int64",
         "type": "integer"
        },
        {
         "name": "PassengerId",
         "rawType": "int64",
         "type": "integer"
        },
        {
         "name": "Survived",
         "rawType": "int64",
         "type": "integer"
        },
        {
         "name": "Pclass",
         "rawType": "int64",
         "type": "integer"
        },
        {
         "name": "Name",
         "rawType": "object",
         "type": "string"
        },
        {
         "name": "Sex",
         "rawType": "object",
         "type": "string"
        },
        {
         "name": "Age",
         "rawType": "category",
         "type": "unknown"
        },
        {
         "name": "SibSp",
         "rawType": "int64",
         "type": "integer"
        },
        {
         "name": "Parch",
         "rawType": "int64",
         "type": "integer"
        },
        {
         "name": "Ticket",
         "rawType": "object",
         "type": "string"
        },
        {
         "name": "Fare",
         "rawType": "float64",
         "type": "float"
        },
        {
         "name": "Cabin",
         "rawType": "object",
         "type": "string"
        },
        {
         "name": "Embarked",
         "rawType": "object",
         "type": "string"
        },
        {
         "name": "test",
         "rawType": "object",
         "type": "string"
        },
        {
         "name": "NA",
         "rawType": "object",
         "type": "string"
        }
       ],
       "ref": "c9e2b591-f737-47fa-ab16-62465d387ed4",
       "rows": [
        [
         "0",
         "1",
         "0",
         "3",
         "Braund, Mr. Owen Harris",
         "male",
         "thanh nien",
         "1",
         "0",
         "A/5 21171",
         "-24.954207968574636",
         "\\N",
         "S",
         "yes",
         "Braund, Mr. Owen Harris-22"
        ],
        [
         "1",
         "2",
         "1",
         "1",
         "Cumings, Mrs. John Bradley (Florence Briggs Thayer)",
         "female",
         "truong thanh",
         "1",
         "0",
         "PC 17599",
         "39.07909203142536",
         "C85",
         "C",
         "yes",
         "Cumings, Mrs. John Bradley (Florence Briggs Thayer)-38"
        ],
        [
         "2",
         "3",
         "1",
         "3",
         "Heikkinen, Miss. Laina",
         "female",
         "thanh nien",
         "0",
         "0",
         "STON/O2. 3101282",
         "-24.279207968574635",
         "\\N",
         "S",
         "yes",
         "Heikkinen, Miss. Laina-26"
        ]
       ],
       "shape": {
        "columns": 14,
        "rows": 3
       }
      },
      "text/html": [
       "<div>\n",
       "<style scoped>\n",
       "    .dataframe tbody tr th:only-of-type {\n",
       "        vertical-align: middle;\n",
       "    }\n",
       "\n",
       "    .dataframe tbody tr th {\n",
       "        vertical-align: top;\n",
       "    }\n",
       "\n",
       "    .dataframe thead th {\n",
       "        text-align: right;\n",
       "    }\n",
       "</style>\n",
       "<table border=\"1\" class=\"dataframe\">\n",
       "  <thead>\n",
       "    <tr style=\"text-align: right;\">\n",
       "      <th></th>\n",
       "      <th>PassengerId</th>\n",
       "      <th>Survived</th>\n",
       "      <th>Pclass</th>\n",
       "      <th>Name</th>\n",
       "      <th>Sex</th>\n",
       "      <th>Age</th>\n",
       "      <th>SibSp</th>\n",
       "      <th>Parch</th>\n",
       "      <th>Ticket</th>\n",
       "      <th>Fare</th>\n",
       "      <th>Cabin</th>\n",
       "      <th>Embarked</th>\n",
       "      <th>test</th>\n",
       "      <th>NA</th>\n",
       "    </tr>\n",
       "  </thead>\n",
       "  <tbody>\n",
       "    <tr>\n",
       "      <th>0</th>\n",
       "      <td>1</td>\n",
       "      <td>0</td>\n",
       "      <td>3</td>\n",
       "      <td>Braund, Mr. Owen Harris</td>\n",
       "      <td>male</td>\n",
       "      <td>thanh nien</td>\n",
       "      <td>1</td>\n",
       "      <td>0</td>\n",
       "      <td>A/5 21171</td>\n",
       "      <td>-24.954208</td>\n",
       "      <td>\\N</td>\n",
       "      <td>S</td>\n",
       "      <td>yes</td>\n",
       "      <td>Braund, Mr. Owen Harris-22</td>\n",
       "    </tr>\n",
       "    <tr>\n",
       "      <th>1</th>\n",
       "      <td>2</td>\n",
       "      <td>1</td>\n",
       "      <td>1</td>\n",
       "      <td>Cumings, Mrs. John Bradley (Florence Briggs Th...</td>\n",
       "      <td>female</td>\n",
       "      <td>truong thanh</td>\n",
       "      <td>1</td>\n",
       "      <td>0</td>\n",
       "      <td>PC 17599</td>\n",
       "      <td>39.079092</td>\n",
       "      <td>C85</td>\n",
       "      <td>C</td>\n",
       "      <td>yes</td>\n",
       "      <td>Cumings, Mrs. John Bradley (Florence Briggs Th...</td>\n",
       "    </tr>\n",
       "    <tr>\n",
       "      <th>2</th>\n",
       "      <td>3</td>\n",
       "      <td>1</td>\n",
       "      <td>3</td>\n",
       "      <td>Heikkinen, Miss. Laina</td>\n",
       "      <td>female</td>\n",
       "      <td>thanh nien</td>\n",
       "      <td>0</td>\n",
       "      <td>0</td>\n",
       "      <td>STON/O2. 3101282</td>\n",
       "      <td>-24.279208</td>\n",
       "      <td>\\N</td>\n",
       "      <td>S</td>\n",
       "      <td>yes</td>\n",
       "      <td>Heikkinen, Miss. Laina-26</td>\n",
       "    </tr>\n",
       "  </tbody>\n",
       "</table>\n",
       "</div>"
      ],
      "text/plain": [
       "   PassengerId  Survived  Pclass  \\\n",
       "0            1         0       3   \n",
       "1            2         1       1   \n",
       "2            3         1       3   \n",
       "\n",
       "                                                Name     Sex           Age  \\\n",
       "0                            Braund, Mr. Owen Harris    male    thanh nien   \n",
       "1  Cumings, Mrs. John Bradley (Florence Briggs Th...  female  truong thanh   \n",
       "2                             Heikkinen, Miss. Laina  female    thanh nien   \n",
       "\n",
       "   SibSp  Parch            Ticket       Fare Cabin Embarked test  \\\n",
       "0      1      0         A/5 21171 -24.954208    \\N        S  yes   \n",
       "1      1      0          PC 17599  39.079092   C85        C  yes   \n",
       "2      0      0  STON/O2. 3101282 -24.279208    \\N        S  yes   \n",
       "\n",
       "                                                  NA  \n",
       "0                         Braund, Mr. Owen Harris-22  \n",
       "1  Cumings, Mrs. John Bradley (Florence Briggs Th...  \n",
       "2                          Heikkinen, Miss. Laina-26  "
      ]
     },
     "execution_count": 41,
     "metadata": {},
     "output_type": "execute_result"
    }
   ],
   "source": [
    "data.rename(columns = {'Sex' : 'Gender'})\n",
    "data.set_index(data.PassengerId)\n",
    "data.rename(index = {0:'first person',\n",
    "                     1: 'second person'})\n",
    "data.head(3)"
   ]
  },
  {
   "cell_type": "markdown",
   "id": "b222d417",
   "metadata": {},
   "source": [
    "***rename_axis()*** : đặt tên cho hàng và cột  \n",
    "rename_axis(**tên**, **axis** = 0/1) "
   ]
  },
  {
   "cell_type": "code",
   "execution_count": 42,
   "id": "573faf3c",
   "metadata": {},
   "outputs": [
    {
     "data": {
      "application/vnd.microsoft.datawrangler.viewer.v0+json": {
       "columns": [
        {
         "name": "Index",
         "rawType": "int64",
         "type": "integer"
        },
        {
         "name": "PassengerId",
         "rawType": "int64",
         "type": "integer"
        },
        {
         "name": "Survived",
         "rawType": "int64",
         "type": "integer"
        },
        {
         "name": "Pclass",
         "rawType": "int64",
         "type": "integer"
        },
        {
         "name": "Name",
         "rawType": "object",
         "type": "string"
        },
        {
         "name": "Sex",
         "rawType": "object",
         "type": "string"
        },
        {
         "name": "Age",
         "rawType": "category",
         "type": "unknown"
        },
        {
         "name": "SibSp",
         "rawType": "int64",
         "type": "integer"
        },
        {
         "name": "Parch",
         "rawType": "int64",
         "type": "integer"
        },
        {
         "name": "Ticket",
         "rawType": "object",
         "type": "string"
        },
        {
         "name": "Fare",
         "rawType": "float64",
         "type": "float"
        },
        {
         "name": "Cabin",
         "rawType": "object",
         "type": "string"
        },
        {
         "name": "Embarked",
         "rawType": "object",
         "type": "string"
        },
        {
         "name": "test",
         "rawType": "object",
         "type": "string"
        },
        {
         "name": "NA",
         "rawType": "object",
         "type": "string"
        }
       ],
       "ref": "0f3ccd2f-e474-4cbc-a143-fcf9e3d4752c",
       "rows": [
        [
         "0",
         "1",
         "0",
         "3",
         "Braund, Mr. Owen Harris",
         "male",
         "thanh nien",
         "1",
         "0",
         "A/5 21171",
         "-24.954207968574636",
         "\\N",
         "S",
         "yes",
         "Braund, Mr. Owen Harris-22"
        ]
       ],
       "shape": {
        "columns": 14,
        "rows": 1
       }
      },
      "text/html": [
       "<div>\n",
       "<style scoped>\n",
       "    .dataframe tbody tr th:only-of-type {\n",
       "        vertical-align: middle;\n",
       "    }\n",
       "\n",
       "    .dataframe tbody tr th {\n",
       "        vertical-align: top;\n",
       "    }\n",
       "\n",
       "    .dataframe thead th {\n",
       "        text-align: right;\n",
       "    }\n",
       "</style>\n",
       "<table border=\"1\" class=\"dataframe\">\n",
       "  <thead>\n",
       "    <tr style=\"text-align: right;\">\n",
       "      <th>Information</th>\n",
       "      <th>PassengerId</th>\n",
       "      <th>Survived</th>\n",
       "      <th>Pclass</th>\n",
       "      <th>Name</th>\n",
       "      <th>Sex</th>\n",
       "      <th>Age</th>\n",
       "      <th>SibSp</th>\n",
       "      <th>Parch</th>\n",
       "      <th>Ticket</th>\n",
       "      <th>Fare</th>\n",
       "      <th>Cabin</th>\n",
       "      <th>Embarked</th>\n",
       "      <th>test</th>\n",
       "      <th>NA</th>\n",
       "    </tr>\n",
       "    <tr>\n",
       "      <th>Index</th>\n",
       "      <th></th>\n",
       "      <th></th>\n",
       "      <th></th>\n",
       "      <th></th>\n",
       "      <th></th>\n",
       "      <th></th>\n",
       "      <th></th>\n",
       "      <th></th>\n",
       "      <th></th>\n",
       "      <th></th>\n",
       "      <th></th>\n",
       "      <th></th>\n",
       "      <th></th>\n",
       "      <th></th>\n",
       "    </tr>\n",
       "  </thead>\n",
       "  <tbody>\n",
       "    <tr>\n",
       "      <th>0</th>\n",
       "      <td>1</td>\n",
       "      <td>0</td>\n",
       "      <td>3</td>\n",
       "      <td>Braund, Mr. Owen Harris</td>\n",
       "      <td>male</td>\n",
       "      <td>thanh nien</td>\n",
       "      <td>1</td>\n",
       "      <td>0</td>\n",
       "      <td>A/5 21171</td>\n",
       "      <td>-24.954208</td>\n",
       "      <td>\\N</td>\n",
       "      <td>S</td>\n",
       "      <td>yes</td>\n",
       "      <td>Braund, Mr. Owen Harris-22</td>\n",
       "    </tr>\n",
       "  </tbody>\n",
       "</table>\n",
       "</div>"
      ],
      "text/plain": [
       "Information  PassengerId  Survived  Pclass                     Name   Sex  \\\n",
       "Index                                                                       \n",
       "0                      1         0       3  Braund, Mr. Owen Harris  male   \n",
       "\n",
       "Information         Age  SibSp  Parch     Ticket       Fare Cabin Embarked  \\\n",
       "Index                                                                        \n",
       "0            thanh nien      1      0  A/5 21171 -24.954208    \\N        S   \n",
       "\n",
       "Information test                          NA  \n",
       "Index                                         \n",
       "0            yes  Braund, Mr. Owen Harris-22  "
      ]
     },
     "execution_count": 42,
     "metadata": {},
     "output_type": "execute_result"
    }
   ],
   "source": [
    "data = data.rename_axis('Information', axis = 1).rename_axis('Index', axis = 0)\n",
    "data.head(1)"
   ]
  },
  {
   "cell_type": "markdown",
   "id": "dcdd7038",
   "metadata": {},
   "source": [
    "***COMBINING***"
   ]
  },
  {
   "cell_type": "markdown",
   "id": "addb7ab1",
   "metadata": {},
   "source": [
    "The simplest combining method is ***concat()***. Given a list of elements, this function will smush those elements together along an axis.  \n",
    "\n",
    "*pd.concat([df1, df2])*"
   ]
  },
  {
   "cell_type": "markdown",
   "id": "59623df8",
   "metadata": {},
   "source": [
    "***FACTORIZE()***  \n",
    "Mã hóa nhãn categorical thành dạng số"
   ]
  },
  {
   "cell_type": "code",
   "execution_count": null,
   "id": "d6d916dd",
   "metadata": {},
   "outputs": [],
   "source": [
    "data.factorize() "
   ]
  },
  {
   "cell_type": "markdown",
   "id": "a6be85ce",
   "metadata": {},
   "source": [
    "***GET_DUMMIES()*** : One-hot encoder cho df data, cột columns =\n"
   ]
  },
  {
   "cell_type": "code",
   "execution_count": null,
   "id": "a9e9f498",
   "metadata": {},
   "outputs": [],
   "source": [
    "pd.get_dummies(data, columns=data['gender'])"
   ]
  },
  {
   "cell_type": "code",
   "execution_count": null,
   "id": "aafe5863",
   "metadata": {},
   "outputs": [],
   "source": []
  }
 ],
 "metadata": {
  "kernelspec": {
   "display_name": "Python (ml_env)",
   "language": "python",
   "name": "ml_env"
  },
  "language_info": {
   "codemirror_mode": {
    "name": "ipython",
    "version": 3
   },
   "file_extension": ".py",
   "mimetype": "text/x-python",
   "name": "python",
   "nbconvert_exporter": "python",
   "pygments_lexer": "ipython3",
   "version": "3.11.13"
  }
 },
 "nbformat": 4,
 "nbformat_minor": 5
}
