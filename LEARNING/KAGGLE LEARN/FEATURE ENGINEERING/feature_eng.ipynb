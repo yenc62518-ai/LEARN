{
 "cells": [
  {
   "cell_type": "markdown",
   "id": "490b209f",
   "metadata": {},
   "source": [
    "Để 1 feature trở nên hữu dụng, nó phải liên hệ với cấu hình model.  \n",
    "VD : Linear Model cần feature có quan hệ tuyến tính với nhau  \n",
    "\n",
    "Vì thế, kĩ thuật FE bao gồm việc biến đổi data thành feature phù hợp với mô hình. Như length và width không cung cấp quá nhiều ý nghĩa, nhưng Area = L.W lại phù hợp với mô hình giá nhà"
   ]
  },
  {
   "cell_type": "markdown",
   "id": "fe5eb205",
   "metadata": {},
   "source": [
    "Trước hết, ta cần tạo 1 baseline (mô hình gốc, chưa FE, data preprocessing) để làm điểm tham chiếu sau này"
   ]
  },
  {
   "cell_type": "code",
   "execution_count": 167,
   "id": "7223afe1",
   "metadata": {},
   "outputs": [],
   "source": [
    "import pandas as pd\n",
    "import numpy as np\n",
    "from xgboost import XGBRegressor"
   ]
  },
  {
   "cell_type": "code",
   "execution_count": 168,
   "id": "454ae04e",
   "metadata": {},
   "outputs": [
    {
     "data": {
      "application/vnd.microsoft.datawrangler.viewer.v0+json": {
       "columns": [
        {
         "name": "index",
         "rawType": "int64",
         "type": "integer"
        },
        {
         "name": "cement",
         "rawType": "float64",
         "type": "float"
        },
        {
         "name": "slag",
         "rawType": "float64",
         "type": "float"
        },
        {
         "name": "flyash",
         "rawType": "float64",
         "type": "float"
        },
        {
         "name": "water",
         "rawType": "float64",
         "type": "float"
        },
        {
         "name": "superplasticizer",
         "rawType": "float64",
         "type": "float"
        },
        {
         "name": "coarseaggregate",
         "rawType": "float64",
         "type": "float"
        },
        {
         "name": "fineaggregate",
         "rawType": "float64",
         "type": "float"
        },
        {
         "name": "age",
         "rawType": "int64",
         "type": "integer"
        },
        {
         "name": "csMPa",
         "rawType": "float64",
         "type": "float"
        }
       ],
       "ref": "89e65e7c-0c38-49b2-ace0-3977ff40295b",
       "rows": [
        [
         "0",
         "540.0",
         "0.0",
         "0.0",
         "162.0",
         "2.5",
         "1040.0",
         "676.0",
         "28",
         "79.99"
        ],
        [
         "1",
         "540.0",
         "0.0",
         "0.0",
         "162.0",
         "2.5",
         "1055.0",
         "676.0",
         "28",
         "61.89"
        ],
        [
         "2",
         "332.5",
         "142.5",
         "0.0",
         "228.0",
         "0.0",
         "932.0",
         "594.0",
         "270",
         "40.27"
        ],
        [
         "3",
         "332.5",
         "142.5",
         "0.0",
         "228.0",
         "0.0",
         "932.0",
         "594.0",
         "365",
         "41.05"
        ],
        [
         "4",
         "198.6",
         "132.4",
         "0.0",
         "192.0",
         "0.0",
         "978.4",
         "825.5",
         "360",
         "44.3"
        ]
       ],
       "shape": {
        "columns": 9,
        "rows": 5
       }
      },
      "text/html": [
       "<div>\n",
       "<style scoped>\n",
       "    .dataframe tbody tr th:only-of-type {\n",
       "        vertical-align: middle;\n",
       "    }\n",
       "\n",
       "    .dataframe tbody tr th {\n",
       "        vertical-align: top;\n",
       "    }\n",
       "\n",
       "    .dataframe thead th {\n",
       "        text-align: right;\n",
       "    }\n",
       "</style>\n",
       "<table border=\"1\" class=\"dataframe\">\n",
       "  <thead>\n",
       "    <tr style=\"text-align: right;\">\n",
       "      <th></th>\n",
       "      <th>cement</th>\n",
       "      <th>slag</th>\n",
       "      <th>flyash</th>\n",
       "      <th>water</th>\n",
       "      <th>superplasticizer</th>\n",
       "      <th>coarseaggregate</th>\n",
       "      <th>fineaggregate</th>\n",
       "      <th>age</th>\n",
       "      <th>csMPa</th>\n",
       "    </tr>\n",
       "  </thead>\n",
       "  <tbody>\n",
       "    <tr>\n",
       "      <th>0</th>\n",
       "      <td>540.0</td>\n",
       "      <td>0.0</td>\n",
       "      <td>0.0</td>\n",
       "      <td>162.0</td>\n",
       "      <td>2.5</td>\n",
       "      <td>1040.0</td>\n",
       "      <td>676.0</td>\n",
       "      <td>28</td>\n",
       "      <td>79.99</td>\n",
       "    </tr>\n",
       "    <tr>\n",
       "      <th>1</th>\n",
       "      <td>540.0</td>\n",
       "      <td>0.0</td>\n",
       "      <td>0.0</td>\n",
       "      <td>162.0</td>\n",
       "      <td>2.5</td>\n",
       "      <td>1055.0</td>\n",
       "      <td>676.0</td>\n",
       "      <td>28</td>\n",
       "      <td>61.89</td>\n",
       "    </tr>\n",
       "    <tr>\n",
       "      <th>2</th>\n",
       "      <td>332.5</td>\n",
       "      <td>142.5</td>\n",
       "      <td>0.0</td>\n",
       "      <td>228.0</td>\n",
       "      <td>0.0</td>\n",
       "      <td>932.0</td>\n",
       "      <td>594.0</td>\n",
       "      <td>270</td>\n",
       "      <td>40.27</td>\n",
       "    </tr>\n",
       "    <tr>\n",
       "      <th>3</th>\n",
       "      <td>332.5</td>\n",
       "      <td>142.5</td>\n",
       "      <td>0.0</td>\n",
       "      <td>228.0</td>\n",
       "      <td>0.0</td>\n",
       "      <td>932.0</td>\n",
       "      <td>594.0</td>\n",
       "      <td>365</td>\n",
       "      <td>41.05</td>\n",
       "    </tr>\n",
       "    <tr>\n",
       "      <th>4</th>\n",
       "      <td>198.6</td>\n",
       "      <td>132.4</td>\n",
       "      <td>0.0</td>\n",
       "      <td>192.0</td>\n",
       "      <td>0.0</td>\n",
       "      <td>978.4</td>\n",
       "      <td>825.5</td>\n",
       "      <td>360</td>\n",
       "      <td>44.30</td>\n",
       "    </tr>\n",
       "  </tbody>\n",
       "</table>\n",
       "</div>"
      ],
      "text/plain": [
       "   cement   slag  flyash  water  ...  coarseaggregate  fineaggregate  age  csMPa\n",
       "0   540.0    0.0     0.0  162.0  ...           1040.0          676.0   28  79.99\n",
       "1   540.0    0.0     0.0  162.0  ...           1055.0          676.0   28  61.89\n",
       "2   332.5  142.5     0.0  228.0  ...            932.0          594.0  270  40.27\n",
       "3   332.5  142.5     0.0  228.0  ...            932.0          594.0  365  41.05\n",
       "4   198.6  132.4     0.0  192.0  ...            978.4          825.5  360  44.30\n",
       "\n",
       "[5 rows x 9 columns]"
      ]
     },
     "execution_count": 168,
     "metadata": {},
     "output_type": "execute_result"
    }
   ],
   "source": [
    "data = pd.read_csv('Concrete_Data_Yeh.csv')\n",
    "data.head()"
   ]
  },
  {
   "cell_type": "code",
   "execution_count": 169,
   "id": "ddd4aa7a",
   "metadata": {},
   "outputs": [],
   "source": [
    "y = data['csMPa']\n",
    "X = data.drop(columns= 'csMPa')"
   ]
  },
  {
   "cell_type": "markdown",
   "id": "e4a3e13c",
   "metadata": {},
   "source": [
    "hàm tính mae"
   ]
  },
  {
   "cell_type": "code",
   "execution_count": 170,
   "id": "cdcb7faa",
   "metadata": {},
   "outputs": [],
   "source": [
    "from sklearn.model_selection import train_test_split\n",
    "from sklearn.metrics import mean_absolute_error\n",
    "def mae_cal(Xi, yi) :\n",
    "    X_train, X_test, y_train, y_test = train_test_split(Xi,yi)\n",
    "    X_train2, X_label, y_train2, y_label = train_test_split(X_train, y_train)\n",
    "    XGBR = XGBRegressor(early_stopping_rounds = 5, random_state = 1, n_estimators = 800, learning_rate = 0.1, eval_metric = 'mae')\n",
    "    XGBR.fit(X_train2, y_train2,\n",
    "          eval_set = [(X_label, y_label)], verbose = 0)\n",
    "    return mean_absolute_error(XGBR.predict(X_test), y_test)"
   ]
  },
  {
   "cell_type": "markdown",
   "id": "e2670a57",
   "metadata": {},
   "source": [
    "Bắt đầu FE, chọn feature, lập tỉ lệ (trộn xi măng cần tỉ lệ hơn là giá trị tuyệt đối)\n"
   ]
  },
  {
   "cell_type": "code",
   "execution_count": 171,
   "id": "2b6ba47e",
   "metadata": {},
   "outputs": [
    {
     "data": {
      "application/vnd.microsoft.datawrangler.viewer.v0+json": {
       "columns": [
        {
         "name": "index",
         "rawType": "object",
         "type": "string"
        },
        {
         "name": "csMPa",
         "rawType": "float64",
         "type": "float"
        }
       ],
       "ref": "bcf005b8-e251-4a6c-8540-4ee24eaac5d9",
       "rows": [
        [
         "cement",
         "0.4978319193241552"
        ],
        [
         "slag",
         "0.1348292614974053"
        ],
        [
         "flyash",
         "0.10575491629731448"
        ],
        [
         "water",
         "0.28963338498530294"
        ],
        [
         "superplasticizer",
         "0.3660788271885193"
        ],
        [
         "coarseaggregate",
         "0.16493461446011212"
        ],
        [
         "fineaggregate",
         "0.16724124729005901"
        ],
        [
         "age",
         "0.3288730007799875"
        ],
        [
         "csMPa",
         "1.0"
        ]
       ],
       "shape": {
        "columns": 1,
        "rows": 9
       }
      },
      "text/html": [
       "<div>\n",
       "<style scoped>\n",
       "    .dataframe tbody tr th:only-of-type {\n",
       "        vertical-align: middle;\n",
       "    }\n",
       "\n",
       "    .dataframe tbody tr th {\n",
       "        vertical-align: top;\n",
       "    }\n",
       "\n",
       "    .dataframe thead th {\n",
       "        text-align: right;\n",
       "    }\n",
       "</style>\n",
       "<table border=\"1\" class=\"dataframe\">\n",
       "  <thead>\n",
       "    <tr style=\"text-align: right;\">\n",
       "      <th></th>\n",
       "      <th>csMPa</th>\n",
       "    </tr>\n",
       "  </thead>\n",
       "  <tbody>\n",
       "    <tr>\n",
       "      <th>cement</th>\n",
       "      <td>0.497832</td>\n",
       "    </tr>\n",
       "    <tr>\n",
       "      <th>slag</th>\n",
       "      <td>0.134829</td>\n",
       "    </tr>\n",
       "    <tr>\n",
       "      <th>flyash</th>\n",
       "      <td>0.105755</td>\n",
       "    </tr>\n",
       "    <tr>\n",
       "      <th>water</th>\n",
       "      <td>0.289633</td>\n",
       "    </tr>\n",
       "    <tr>\n",
       "      <th>superplasticizer</th>\n",
       "      <td>0.366079</td>\n",
       "    </tr>\n",
       "    <tr>\n",
       "      <th>coarseaggregate</th>\n",
       "      <td>0.164935</td>\n",
       "    </tr>\n",
       "    <tr>\n",
       "      <th>fineaggregate</th>\n",
       "      <td>0.167241</td>\n",
       "    </tr>\n",
       "    <tr>\n",
       "      <th>age</th>\n",
       "      <td>0.328873</td>\n",
       "    </tr>\n",
       "    <tr>\n",
       "      <th>csMPa</th>\n",
       "      <td>1.000000</td>\n",
       "    </tr>\n",
       "  </tbody>\n",
       "</table>\n",
       "</div>"
      ],
      "text/plain": [
       "                     csMPa\n",
       "cement            0.497832\n",
       "slag              0.134829\n",
       "flyash            0.105755\n",
       "water             0.289633\n",
       "superplasticizer  0.366079\n",
       "coarseaggregate   0.164935\n",
       "fineaggregate     0.167241\n",
       "age               0.328873\n",
       "csMPa             1.000000"
      ]
     },
     "execution_count": 171,
     "metadata": {},
     "output_type": "execute_result"
    }
   ],
   "source": [
    "data.corr(numeric_only=True).abs()[['csMPa']]"
   ]
  },
  {
   "cell_type": "code",
   "execution_count": 172,
   "id": "536ed2df",
   "metadata": {},
   "outputs": [],
   "source": [
    "baseline_mae = mae_cal(X,y)"
   ]
  },
  {
   "cell_type": "code",
   "execution_count": 173,
   "id": "c6e612e8",
   "metadata": {},
   "outputs": [],
   "source": [
    "featureX = X.copy()"
   ]
  },
  {
   "cell_type": "code",
   "execution_count": 174,
   "id": "0235f93d",
   "metadata": {},
   "outputs": [],
   "source": [
    "featureX['FCRatio'] = X['coarseaggregate']/X['fineaggregate']\n",
    "featureX['CWRatio'] = X['cement']/X['water']\n",
    "featureX['FFCRatio'] = (X[\"coarseaggregate\"] + X[\"fineaggregate\"]) / X[\"cement\"]"
   ]
  },
  {
   "cell_type": "code",
   "execution_count": 175,
   "id": "5fc7cd17",
   "metadata": {},
   "outputs": [],
   "source": [
    "from sklearn.ensemble import RandomForestRegressor\n",
    "from sklearn.model_selection import train_test_split\n",
    "RFR = RandomForestRegressor(random_state = 1) \n",
    "X_train, X_test, y_train, y_test = train_test_split(X,y)\n",
    "RFR.fit(X_train, y_train)\n",
    "RFR_mae = mean_absolute_error(RFR.predict(X_test), y_test)"
   ]
  },
  {
   "cell_type": "code",
   "execution_count": 176,
   "id": "e50749b1",
   "metadata": {},
   "outputs": [
    {
     "name": "stdout",
     "output_type": "stream",
     "text": [
      "featured_mae : 3.1864316897429235, base mae : 3.468476137967073, RFR mae :  3.453071808785529\n"
     ]
    }
   ],
   "source": [
    "featured_mae = mae_cal(featureX,y)\n",
    "print(f\"featured_mae : {featured_mae}, base mae : {baseline_mae}, RFR mae :  {RFR_mae}\")"
   ]
  }
 ],
 "metadata": {
  "kernelspec": {
   "display_name": "Python (ml_env)",
   "language": "python",
   "name": "ml_env"
  },
  "language_info": {
   "codemirror_mode": {
    "name": "ipython",
    "version": 3
   },
   "file_extension": ".py",
   "mimetype": "text/x-python",
   "name": "python",
   "nbconvert_exporter": "python",
   "pygments_lexer": "ipython3",
   "version": "3.11.13"
  }
 },
 "nbformat": 4,
 "nbformat_minor": 5
}
