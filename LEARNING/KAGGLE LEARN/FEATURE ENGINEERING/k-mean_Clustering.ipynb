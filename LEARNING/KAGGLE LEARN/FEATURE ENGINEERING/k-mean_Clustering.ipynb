{
 "cells": [
  {
   "cell_type": "markdown",
   "id": "31864c85",
   "metadata": {},
   "source": [
    "***UNSUPERVISED LEARNING*** :   \n",
    "Mô hình học không có target từ cấu trúc dữ liệu, bằng cách tìm các **thuộc tính** của dữ liệu, nó sẽ học cách *tìm ra feature* "
   ]
  },
  {
   "cell_type": "markdown",
   "id": "a331017d",
   "metadata": {},
   "source": [
    "***CLUSTERING - PHÂN CỤM*** :  \n",
    "Là việc nhóm các dữ liệu lại dựa trên mức độ giống nhau giữa chúng, là **\"gió tầng nào gặp mây tầng đấy\"**  \n",
    "\n",
    "Việc phân cụm có thể mang lại ý nghĩa lớn, đặc biệt là khi không gian dữ liệu cực kì phức tạp và nhỏ lẻ"
   ]
  },
  {
   "cell_type": "markdown",
   "id": "aea9b077",
   "metadata": {
    "vscode": {
     "languageId": "ini"
    }
   },
   "source": [
    "**K-Means** là một thuật toán phân cụm phổ biến trong học máy không giám sát. Thuật toán này chia tập dữ liệu thành *k* cụm (clusters) dựa trên sự tương đồng giữa các điểm dữ liệu. Quá trình thực hiện gồm các bước:\n",
    "\n",
    "1. Chọn ngẫu nhiên *k* tâm cụm ban đầu.\n",
    "2. Gán mỗi điểm dữ liệu vào cụm có tâm gần nhất.\n",
    "3. Tính lại tâm cụm bằng cách lấy trung bình các điểm trong cụm.\n",
    "4. Lặp lại bước 2 và 3 cho đến khi các tâm cụm không thay đổi hoặc đạt điều kiện dừng.\n",
    "\n",
    "K-Means giúp phát hiện các nhóm dữ liệu có đặc điểm tương đồng mà không cần nhãn trước."
   ]
  },
  {
   "cell_type": "markdown",
   "id": "088445a4",
   "metadata": {
    "vscode": {
     "languageId": "plaintext"
    }
   },
   "source": [
    "n_clusters : number of cluster (<k> in k-means)  \n",
    "Max_iter : clustering stops after it doesn’t move anymore or after <max_iter> move  \n",
    "n_init : repeat the algorithm <n_init> times to find out the best cluster distribution\n"
   ]
  },
  {
   "cell_type": "code",
   "execution_count": 1,
   "id": "75ca41fc",
   "metadata": {},
   "outputs": [
    {
     "data": {
      "application/vnd.microsoft.datawrangler.viewer.v0+json": {
       "columns": [
        {
         "name": "index",
         "rawType": "int64",
         "type": "integer"
        },
        {
         "name": "MedInc",
         "rawType": "float64",
         "type": "float"
        },
        {
         "name": "HouseAge",
         "rawType": "float64",
         "type": "float"
        },
        {
         "name": "AveRooms",
         "rawType": "float64",
         "type": "float"
        },
        {
         "name": "AveBedrms",
         "rawType": "float64",
         "type": "float"
        },
        {
         "name": "Population",
         "rawType": "float64",
         "type": "float"
        },
        {
         "name": "AveOccup",
         "rawType": "float64",
         "type": "float"
        },
        {
         "name": "Latitude",
         "rawType": "float64",
         "type": "float"
        },
        {
         "name": "Longitude",
         "rawType": "float64",
         "type": "float"
        },
        {
         "name": "MedHouseVal",
         "rawType": "float64",
         "type": "float"
        }
       ],
       "ref": "d9e249a3-cb63-4c85-9b5c-c837ce6bb7c2",
       "rows": [
        [
         "0",
         "8.3252",
         "41.0",
         "6.984126984126984",
         "1.0238095238095235",
         "322.0",
         "2.555555555555556",
         "37.88",
         "-122.23",
         "4.526"
        ],
        [
         "1",
         "8.3014",
         "21.0",
         "6.238137082601054",
         "0.9718804920913884",
         "2401.0",
         "2.109841827768014",
         "37.86",
         "-122.22",
         "3.585"
        ],
        [
         "2",
         "7.2574",
         "52.0",
         "8.288135593220339",
         "1.073446327683616",
         "496.0",
         "2.8022598870056497",
         "37.85",
         "-122.24",
         "3.5210000000000004"
        ],
        [
         "3",
         "5.6431",
         "52.0",
         "5.817351598173516",
         "1.0730593607305936",
         "558.0",
         "2.547945205479452",
         "37.85",
         "-122.25",
         "3.4130000000000003"
        ],
        [
         "4",
         "3.8462",
         "52.0",
         "6.281853281853283",
         "1.0810810810810811",
         "565.0",
         "2.1814671814671813",
         "37.85",
         "-122.25",
         "3.422"
        ]
       ],
       "shape": {
        "columns": 9,
        "rows": 5
       }
      },
      "text/html": [
       "<div>\n",
       "<style scoped>\n",
       "    .dataframe tbody tr th:only-of-type {\n",
       "        vertical-align: middle;\n",
       "    }\n",
       "\n",
       "    .dataframe tbody tr th {\n",
       "        vertical-align: top;\n",
       "    }\n",
       "\n",
       "    .dataframe thead th {\n",
       "        text-align: right;\n",
       "    }\n",
       "</style>\n",
       "<table border=\"1\" class=\"dataframe\">\n",
       "  <thead>\n",
       "    <tr style=\"text-align: right;\">\n",
       "      <th></th>\n",
       "      <th>MedInc</th>\n",
       "      <th>HouseAge</th>\n",
       "      <th>AveRooms</th>\n",
       "      <th>AveBedrms</th>\n",
       "      <th>Population</th>\n",
       "      <th>AveOccup</th>\n",
       "      <th>Latitude</th>\n",
       "      <th>Longitude</th>\n",
       "      <th>MedHouseVal</th>\n",
       "    </tr>\n",
       "  </thead>\n",
       "  <tbody>\n",
       "    <tr>\n",
       "      <th>0</th>\n",
       "      <td>8.3252</td>\n",
       "      <td>41.0</td>\n",
       "      <td>6.984127</td>\n",
       "      <td>1.023810</td>\n",
       "      <td>322.0</td>\n",
       "      <td>2.555556</td>\n",
       "      <td>37.88</td>\n",
       "      <td>-122.23</td>\n",
       "      <td>4.526</td>\n",
       "    </tr>\n",
       "    <tr>\n",
       "      <th>1</th>\n",
       "      <td>8.3014</td>\n",
       "      <td>21.0</td>\n",
       "      <td>6.238137</td>\n",
       "      <td>0.971880</td>\n",
       "      <td>2401.0</td>\n",
       "      <td>2.109842</td>\n",
       "      <td>37.86</td>\n",
       "      <td>-122.22</td>\n",
       "      <td>3.585</td>\n",
       "    </tr>\n",
       "    <tr>\n",
       "      <th>2</th>\n",
       "      <td>7.2574</td>\n",
       "      <td>52.0</td>\n",
       "      <td>8.288136</td>\n",
       "      <td>1.073446</td>\n",
       "      <td>496.0</td>\n",
       "      <td>2.802260</td>\n",
       "      <td>37.85</td>\n",
       "      <td>-122.24</td>\n",
       "      <td>3.521</td>\n",
       "    </tr>\n",
       "    <tr>\n",
       "      <th>3</th>\n",
       "      <td>5.6431</td>\n",
       "      <td>52.0</td>\n",
       "      <td>5.817352</td>\n",
       "      <td>1.073059</td>\n",
       "      <td>558.0</td>\n",
       "      <td>2.547945</td>\n",
       "      <td>37.85</td>\n",
       "      <td>-122.25</td>\n",
       "      <td>3.413</td>\n",
       "    </tr>\n",
       "    <tr>\n",
       "      <th>4</th>\n",
       "      <td>3.8462</td>\n",
       "      <td>52.0</td>\n",
       "      <td>6.281853</td>\n",
       "      <td>1.081081</td>\n",
       "      <td>565.0</td>\n",
       "      <td>2.181467</td>\n",
       "      <td>37.85</td>\n",
       "      <td>-122.25</td>\n",
       "      <td>3.422</td>\n",
       "    </tr>\n",
       "  </tbody>\n",
       "</table>\n",
       "</div>"
      ],
      "text/plain": [
       "   MedInc  HouseAge  AveRooms  AveBedrms  Population  AveOccup  Latitude  \\\n",
       "0  8.3252      41.0  6.984127   1.023810       322.0  2.555556     37.88   \n",
       "1  8.3014      21.0  6.238137   0.971880      2401.0  2.109842     37.86   \n",
       "2  7.2574      52.0  8.288136   1.073446       496.0  2.802260     37.85   \n",
       "3  5.6431      52.0  5.817352   1.073059       558.0  2.547945     37.85   \n",
       "4  3.8462      52.0  6.281853   1.081081       565.0  2.181467     37.85   \n",
       "\n",
       "   Longitude  MedHouseVal  \n",
       "0    -122.23        4.526  \n",
       "1    -122.22        3.585  \n",
       "2    -122.24        3.521  \n",
       "3    -122.25        3.413  \n",
       "4    -122.25        3.422  "
      ]
     },
     "execution_count": 1,
     "metadata": {},
     "output_type": "execute_result"
    }
   ],
   "source": [
    "import pandas as pd\n",
    "import numpy as np \n",
    "import matplotlib.pyplot as plt\n",
    "import seaborn as sns\n",
    "data = pd.read_csv('housing.csv')\n",
    "data.head()\n"
   ]
  },
  {
   "cell_type": "code",
   "execution_count": 2,
   "id": "d0ddc26f",
   "metadata": {},
   "outputs": [],
   "source": [
    "X = data.copy()\n",
    "X_orig = X.drop(columns=['MedHouseVal'])\n",
    "y = X.pop('MedHouseVal')"
   ]
  },
  {
   "cell_type": "code",
   "execution_count": 3,
   "id": "087e8bc4",
   "metadata": {},
   "outputs": [],
   "source": [
    "features = ['Latitude', 'Longitude', 'MedInc']"
   ]
  },
  {
   "cell_type": "code",
   "execution_count": 4,
   "id": "ca43e16f",
   "metadata": {},
   "outputs": [],
   "source": [
    "X_train = X.loc[:, features] # Tạo cluster thu nhập trung bình theo từng cụm địa phương"
   ]
  },
  {
   "cell_type": "code",
   "execution_count": 5,
   "id": "244d788b",
   "metadata": {},
   "outputs": [],
   "source": [
    "from sklearn.preprocessing import StandardScaler\n",
    "scaler = StandardScaler()\n",
    "X_train = scaler.fit_transform(X_train)"
   ]
  },
  {
   "cell_type": "code",
   "execution_count": 6,
   "id": "ebacb5ce",
   "metadata": {},
   "outputs": [],
   "source": [
    "from sklearn.cluster import KMeans\n",
    "kmeans = KMeans(n_clusters=8, max_iter=10, n_init = 3, random_state=0)\n",
    "KM = kmeans.fit(X_train)\n",
    "\n",
    "# Convert X_train_ori back to DataFrame for cluster assignment\n",
    "X['Cluster'] = KM.labels_ # labels có tác dụng gán nhãn cho từng cụm"
   ]
  },
  {
   "cell_type": "code",
   "execution_count": 7,
   "id": "bb40b5e0",
   "metadata": {},
   "outputs": [
    {
     "data": {
      "application/vnd.microsoft.datawrangler.viewer.v0+json": {
       "columns": [
        {
         "name": "index",
         "rawType": "int64",
         "type": "integer"
        },
        {
         "name": "MedInc",
         "rawType": "float64",
         "type": "float"
        },
        {
         "name": "HouseAge",
         "rawType": "float64",
         "type": "float"
        },
        {
         "name": "AveRooms",
         "rawType": "float64",
         "type": "float"
        },
        {
         "name": "AveBedrms",
         "rawType": "float64",
         "type": "float"
        },
        {
         "name": "Population",
         "rawType": "float64",
         "type": "float"
        },
        {
         "name": "AveOccup",
         "rawType": "float64",
         "type": "float"
        },
        {
         "name": "Latitude",
         "rawType": "float64",
         "type": "float"
        },
        {
         "name": "Longitude",
         "rawType": "float64",
         "type": "float"
        },
        {
         "name": "Cluster",
         "rawType": "int32",
         "type": "integer"
        }
       ],
       "ref": "f4694ea2-45ea-4939-997f-e192211c6200",
       "rows": [
        [
         "0",
         "8.3252",
         "41.0",
         "6.984126984126984",
         "1.0238095238095235",
         "322.0",
         "2.555555555555556",
         "37.88",
         "-122.23",
         "2"
        ],
        [
         "1",
         "8.3014",
         "21.0",
         "6.238137082601054",
         "0.9718804920913884",
         "2401.0",
         "2.109841827768014",
         "37.86",
         "-122.22",
         "2"
        ],
        [
         "2",
         "7.2574",
         "52.0",
         "8.288135593220339",
         "1.073446327683616",
         "496.0",
         "2.8022598870056497",
         "37.85",
         "-122.24",
         "2"
        ],
        [
         "3",
         "5.6431",
         "52.0",
         "5.817351598173516",
         "1.0730593607305936",
         "558.0",
         "2.547945205479452",
         "37.85",
         "-122.25",
         "2"
        ],
        [
         "4",
         "3.8462",
         "52.0",
         "6.281853281853283",
         "1.0810810810810811",
         "565.0",
         "2.1814671814671813",
         "37.85",
         "-122.25",
         "3"
        ]
       ],
       "shape": {
        "columns": 9,
        "rows": 5
       }
      },
      "text/html": [
       "<div>\n",
       "<style scoped>\n",
       "    .dataframe tbody tr th:only-of-type {\n",
       "        vertical-align: middle;\n",
       "    }\n",
       "\n",
       "    .dataframe tbody tr th {\n",
       "        vertical-align: top;\n",
       "    }\n",
       "\n",
       "    .dataframe thead th {\n",
       "        text-align: right;\n",
       "    }\n",
       "</style>\n",
       "<table border=\"1\" class=\"dataframe\">\n",
       "  <thead>\n",
       "    <tr style=\"text-align: right;\">\n",
       "      <th></th>\n",
       "      <th>MedInc</th>\n",
       "      <th>HouseAge</th>\n",
       "      <th>AveRooms</th>\n",
       "      <th>AveBedrms</th>\n",
       "      <th>Population</th>\n",
       "      <th>AveOccup</th>\n",
       "      <th>Latitude</th>\n",
       "      <th>Longitude</th>\n",
       "      <th>Cluster</th>\n",
       "    </tr>\n",
       "  </thead>\n",
       "  <tbody>\n",
       "    <tr>\n",
       "      <th>0</th>\n",
       "      <td>8.3252</td>\n",
       "      <td>41.0</td>\n",
       "      <td>6.984127</td>\n",
       "      <td>1.023810</td>\n",
       "      <td>322.0</td>\n",
       "      <td>2.555556</td>\n",
       "      <td>37.88</td>\n",
       "      <td>-122.23</td>\n",
       "      <td>2</td>\n",
       "    </tr>\n",
       "    <tr>\n",
       "      <th>1</th>\n",
       "      <td>8.3014</td>\n",
       "      <td>21.0</td>\n",
       "      <td>6.238137</td>\n",
       "      <td>0.971880</td>\n",
       "      <td>2401.0</td>\n",
       "      <td>2.109842</td>\n",
       "      <td>37.86</td>\n",
       "      <td>-122.22</td>\n",
       "      <td>2</td>\n",
       "    </tr>\n",
       "    <tr>\n",
       "      <th>2</th>\n",
       "      <td>7.2574</td>\n",
       "      <td>52.0</td>\n",
       "      <td>8.288136</td>\n",
       "      <td>1.073446</td>\n",
       "      <td>496.0</td>\n",
       "      <td>2.802260</td>\n",
       "      <td>37.85</td>\n",
       "      <td>-122.24</td>\n",
       "      <td>2</td>\n",
       "    </tr>\n",
       "    <tr>\n",
       "      <th>3</th>\n",
       "      <td>5.6431</td>\n",
       "      <td>52.0</td>\n",
       "      <td>5.817352</td>\n",
       "      <td>1.073059</td>\n",
       "      <td>558.0</td>\n",
       "      <td>2.547945</td>\n",
       "      <td>37.85</td>\n",
       "      <td>-122.25</td>\n",
       "      <td>2</td>\n",
       "    </tr>\n",
       "    <tr>\n",
       "      <th>4</th>\n",
       "      <td>3.8462</td>\n",
       "      <td>52.0</td>\n",
       "      <td>6.281853</td>\n",
       "      <td>1.081081</td>\n",
       "      <td>565.0</td>\n",
       "      <td>2.181467</td>\n",
       "      <td>37.85</td>\n",
       "      <td>-122.25</td>\n",
       "      <td>3</td>\n",
       "    </tr>\n",
       "  </tbody>\n",
       "</table>\n",
       "</div>"
      ],
      "text/plain": [
       "   MedInc  HouseAge  AveRooms  AveBedrms  Population  AveOccup  Latitude  \\\n",
       "0  8.3252      41.0  6.984127   1.023810       322.0  2.555556     37.88   \n",
       "1  8.3014      21.0  6.238137   0.971880      2401.0  2.109842     37.86   \n",
       "2  7.2574      52.0  8.288136   1.073446       496.0  2.802260     37.85   \n",
       "3  5.6431      52.0  5.817352   1.073059       558.0  2.547945     37.85   \n",
       "4  3.8462      52.0  6.281853   1.081081       565.0  2.181467     37.85   \n",
       "\n",
       "   Longitude  Cluster  \n",
       "0    -122.23        2  \n",
       "1    -122.22        2  \n",
       "2    -122.24        2  \n",
       "3    -122.25        2  \n",
       "4    -122.25        3  "
      ]
     },
     "execution_count": 7,
     "metadata": {},
     "output_type": "execute_result"
    }
   ],
   "source": [
    "X.head()"
   ]
  },
  {
   "cell_type": "markdown",
   "id": "fc30a3f6",
   "metadata": {},
   "source": [
    "Centroid [33.88, -118.00, 4.46] nghĩa là: điểm trung bình của cụm 1 có vị trí khoảng vĩ độ 33.88, kinh độ -118.00, và Medinc bằng 4.46.  \n",
    "Inertia : \n"
   ]
  },
  {
   "cell_type": "code",
   "execution_count": null,
   "id": "cf441526",
   "metadata": {},
   "outputs": [
    {
     "name": "stdout",
     "output_type": "stream",
     "text": [
      "cột cluster mới được thêm vào :\n",
      "0    2\n",
      "1    2\n",
      "2    2\n",
      "3    2\n",
      "4    3\n",
      "Name: Cluster, dtype: int32\n",
      "cluster center - centroid : \n",
      "[[ 0.23804863 -0.08359053 -0.66142802]\n",
      " [-0.82791253  0.79733616  0.18085347]\n",
      " [ 0.94101539 -1.20998039  1.58045054]\n",
      " [ 1.02291572 -1.17010961  0.18394716]\n",
      " [-0.8264717   0.75238782  1.41101601]\n",
      " [-0.85634472  0.89258559 -0.7666361 ]\n",
      " [ 1.38254355 -1.16294399 -0.77697063]\n",
      " [-0.40721973  0.23570012  4.17083474]]\n",
      "inertia : \n",
      "7714.027270467272\n"
     ]
    }
   ],
   "source": [
    "print('cột cluster mới được thêm vào :')\n",
    "print(X['Cluster'].head())\n",
    "print(f'cluster center - centroid : \\n{KM.cluster_centers_}') \n",
    "print(f'inertia : \\n{KM.inertia_}') #Inertia được đánh giá bằng cách nhìn đồ thị"
   ]
  },
  {
   "cell_type": "code",
   "execution_count": null,
   "id": "42257b70",
   "metadata": {},
   "outputs": [],
   "source": [
    "sns.relplot(data=X, x='Longitude', y='Latitude', hue='Cluster', palette='Set1')\n",
    "# relplot là scatter plot nâng cao, có thể thêm màu sắc, kích thước, kiểu marker dựa trên các biến khác nhau"
   ]
  },
  {
   "cell_type": "markdown",
   "id": "e01f6bbe",
   "metadata": {},
   "source": [
    "Nhận thấy tại k = 8, đồ thị đột ngột chững lại => Elbow tại đó - k=8 là giá trị hợp lý  \n",
    "Trong khi đó, n_init có giá trị bằng nhau từ 3-9 => chọn 3, còn max_iter = 10 để tối ưu hiệu suất  "
   ]
  },
  {
   "cell_type": "markdown",
   "id": "52db3698",
   "metadata": {},
   "source": [
    "Sau khi đã tuning hyperparameter, ta đã có thể predict những điểm mới sẽ thuộc cụm nào  \n",
    "\n",
    "Sau khi fit, K-means đã xác định được 8 tâm cụm.\n",
    "\n",
    "fit_predict trả về vector tâm cụm gần nhất với điểm\n",
    "\n",
    "fit_transform tính khoảng cách từ mỗi điểm mới đến mỗi centroid, trả về np.array của những list ứng với   \n",
    "KC đến từng centroid của mỗi điểm"
   ]
  },
  {
   "cell_type": "code",
   "execution_count": 60,
   "id": "6c533dd7",
   "metadata": {},
   "outputs": [],
   "source": [
    "X_cd = kmeans.fit_transform(X_train)"
   ]
  },
  {
   "cell_type": "code",
   "execution_count": null,
   "id": "78b6ead4",
   "metadata": {},
   "outputs": [],
   "source": [
    "X_cd.shape #mảng 2D với số hàng = số mẫu, số cột = số cụm"
   ]
  },
  {
   "cell_type": "code",
   "execution_count": 62,
   "id": "315687c5",
   "metadata": {},
   "outputs": [],
   "source": [
    "X_cd = pd.DataFrame(X_cd, columns=[f'cd_{i}' for i in range(X_cd.shape[1])])\n",
    "X = pd.concat([X, X_cd], axis=1)"
   ]
  },
  {
   "cell_type": "code",
   "execution_count": 69,
   "id": "84e4ae7c",
   "metadata": {},
   "outputs": [
    {
     "data": {
      "text/plain": [
       "(20640, 17)"
      ]
     },
     "execution_count": 69,
     "metadata": {},
     "output_type": "execute_result"
    }
   ],
   "source": [
    "X.shape"
   ]
  },
  {
   "cell_type": "code",
   "execution_count": 70,
   "id": "55dd72f6",
   "metadata": {},
   "outputs": [
    {
     "data": {
      "text/plain": [
       "(20640, 8)"
      ]
     },
     "execution_count": 70,
     "metadata": {},
     "output_type": "execute_result"
    }
   ],
   "source": [
    "X_orig.shape"
   ]
  },
  {
   "cell_type": "code",
   "execution_count": null,
   "id": "180c04b9",
   "metadata": {},
   "outputs": [],
   "source": [
    "# X : dữ liệu đã kmeans\n",
    "# X_orig : dữ liệu chưa kmeans"
   ]
  },
  {
   "cell_type": "markdown",
   "id": "383f7abf",
   "metadata": {},
   "source": [
    "Lúc này X đã có thêm 8 cột thể hiện tương quan giữa median income và địa phương, để xem đây có phải là thông tin giá trị không  \n",
    "ta có thể sử dụng MAE để so sánh 2 mô hình RF giữa có và không có kmeans"
   ]
  },
  {
   "cell_type": "code",
   "execution_count": null,
   "id": "6b2e924a",
   "metadata": {},
   "outputs": [],
   "source": [
    "from sklearn.model_selection import cross_val_score\n",
    "def data_compare(model, Xtrain, ytrain):\n",
    "    scores = cross_val_score(\n",
    "        estimator=model,\n",
    "        X=Xtrain,          # dữ liệu đầu vào\n",
    "        y=ytrain,              # nhãn\n",
    "        cv=5,             # số fold, mặc định = 5\n",
    "        scoring='neg_mean_absolute_error'  # metric\n",
    "    )\n",
    "    cvs_score = -1*scores\n",
    "    return cvs_score.mean()"
   ]
  },
  {
   "cell_type": "code",
   "execution_count": 71,
   "id": "15305d32",
   "metadata": {},
   "outputs": [
    {
     "name": "stdout",
     "output_type": "stream",
     "text": [
      "MAE gốc: 0.5474961907866827\n",
      "MAE có KMeans: 0.5345621197480886\n"
     ]
    }
   ],
   "source": [
    "from sklearn.linear_model import LinearRegression\n",
    "from sklearn.model_selection import cross_val_score\n",
    "\n",
    "# model linear regression\n",
    "lr = LinearRegression()\n",
    "\n",
    "# dữ liệu gốc\n",
    "score_orig = -cross_val_score(lr, X_orig, y, cv=5, scoring='neg_mean_absolute_error').mean()\n",
    "\n",
    "# dữ liệu đã KMeans\n",
    "score_kmeans = -cross_val_score(lr, X, y, cv=5, scoring='neg_mean_absolute_error').mean()\n",
    "\n",
    "print(\"MAE gốc:\", score_orig)\n",
    "print(\"MAE có KMeans:\", score_kmeans)\n"
   ]
  }
 ],
 "metadata": {
  "kernelspec": {
   "display_name": "Python (ml_env)",
   "language": "python",
   "name": "ml_env"
  },
  "language_info": {
   "codemirror_mode": {
    "name": "ipython",
    "version": 3
   },
   "file_extension": ".py",
   "mimetype": "text/x-python",
   "name": "python",
   "nbconvert_exporter": "python",
   "pygments_lexer": "ipython3",
   "version": "3.11.13"
  }
 },
 "nbformat": 4,
 "nbformat_minor": 5
}
