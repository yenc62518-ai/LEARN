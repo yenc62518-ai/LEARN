{
 "cells": [
  {
   "cell_type": "code",
   "execution_count": null,
   "id": "c7088cc4",
   "metadata": {},
   "outputs": [
    {
     "name": "stdout",
     "output_type": "stream",
     "text": [
      "[0.99244289 0.00755711]\n",
      "[6.30061232 0.54980396]\n",
      "[0.99244289 0.00755711]\n",
      "[6.30061232 0.54980396]\n",
      "[0.99244289]\n",
      "[6.30061232]\n"
     ]
    },
    {
     "data": {
      "text/plain": [
       "[6.30061]"
      ]
     },
     "execution_count": 3,
     "metadata": {},
     "output_type": "execute_result"
    }
   ],
   "source": [
    "import pandas as pd\n",
    "import numpy as np\n",
    "from sklearn.decomposition import PCA\n",
    "pca = PCA()\n",
    "X = np.array([[-1, -1], [-2, -1], [-3, -2], [1, 1], [2, 1], [3, 2]])\n",
    "pca = PCA()\n",
    "pca.fit(X)\n",
    "print(pca.explained_variance_ratio_) # this can be visualize by a scree plot\n",
    "#0.99 is the first principal component, 0.01 is the second principal component\n",
    "print(pca.singular_values_) #explain the singular values of each principal component\n",
    "#singular values are a measure of how much variance there is in the data along each principal component\n",
    "pca = PCA(n_components=2, svd_solver='full') \n",
    "pca.fit(X)\n",
    "print(pca.explained_variance_ratio_)\n",
    "print(pca.singular_values_)\n",
    "pca = PCA(n_components=1, svd_solver='arpack')\n",
    "pca.fit(X)\n",
    "print(pca.explained_variance_ratio_)\n",
    "print(pca.singular_values_)\n",
    "[6.30061]\n"
   ]
  }
 ],
 "metadata": {
  "kernelspec": {
   "display_name": "Python (ml_env)",
   "language": "python",
   "name": "ml_env"
  },
  "language_info": {
   "codemirror_mode": {
    "name": "ipython",
    "version": 3
   },
   "file_extension": ".py",
   "mimetype": "text/x-python",
   "name": "python",
   "nbconvert_exporter": "python",
   "pygments_lexer": "ipython3",
   "version": "3.11.13"
  }
 },
 "nbformat": 4,
 "nbformat_minor": 5
}
